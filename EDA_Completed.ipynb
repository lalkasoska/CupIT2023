{
  "cells": [
    {
      "cell_type": "markdown",
      "source": [
        "Для начала подготовим среду для анализа данных"
      ],
      "metadata": {
        "id": "6Il56vmHaav6"
      }
    },
    {
      "cell_type": "code",
      "execution_count": 4,
      "metadata": {
        "colab": {
          "base_uri": "https://localhost:8080/"
        },
        "id": "zVAoWej9lhKz",
        "outputId": "571eaf9e-796a-4ccb-d8bb-b38efa1d1b30"
      },
      "outputs": [
        {
          "output_type": "stream",
          "name": "stdout",
          "text": [
            "Drive already mounted at /content/drive; to attempt to forcibly remount, call drive.mount(\"/content/drive\", force_remount=True).\n"
          ]
        }
      ],
      "source": [
        "#Подключаем хранилище с данными\n",
        "from google.colab import drive\n",
        "drive.mount('/content/drive')"
      ]
    },
    {
      "cell_type": "code",
      "execution_count": 5,
      "metadata": {
        "id": "MTYXCrYSRRUh"
      },
      "outputs": [],
      "source": [
        "import torch\n",
        "#Выбираем GPU как устройтво\n",
        "device = torch.device(\"cuda\")# if torch.cuda.is_available() else \"cpu\")\n"
      ]
    },
    {
      "cell_type": "code",
      "execution_count": 6,
      "metadata": {
        "colab": {
          "base_uri": "https://localhost:8080/"
        },
        "id": "aa05H9ghRVuQ",
        "outputId": "686b25a4-0d49-4ab0-c128-3f356493ea51"
      },
      "outputs": [
        {
          "output_type": "stream",
          "name": "stdout",
          "text": [
            "440535\n"
          ]
        }
      ],
      "source": [
        "#Загружаем данные\n",
        "import json\n",
        "\n",
        "with open('/content/drive/MyDrive/CupIT/ranking_train.jsonl', 'r') as json_file:\n",
        "    json_list = list(json_file)\n",
        "listOfPostsAsDicts = [json.loads(json_str) for json_str in json_list]\n",
        "justcomments = [post[\"comments\"] for post in listOfPostsAsDicts]\n",
        "justcomments = [comment for comments in justcomments for comment in comments]\n",
        "print(len(justcomments))\n"
      ]
    },
    {
      "cell_type": "code",
      "execution_count": 7,
      "metadata": {
        "id": "TjnMSmPOxZhd"
      },
      "outputs": [],
      "source": [
        "#Собираем данные в таблицу\n",
        "import matplotlib.pyplot as plt\n",
        "import pandas as pd\n",
        "df = pd.DataFrame(justcomments)\n",
        "posts = [[post[\"text\"]]*5 for post in listOfPostsAsDicts]\n",
        "posts = [subpost for post in posts for subpost in post]\n",
        "df[\"post\"] = posts\n",
        "cols = [\"post\",\"text\",\"score\"]\n",
        "df = df[cols]\n",
        "df.columns = [\"post\",\"comment\",\"score\"]\n"
      ]
    },
    {
      "cell_type": "markdown",
      "source": [
        "Посмотрим по 3 комментария каждого рейтинга"
      ],
      "metadata": {
        "id": "IkJrjNwotoYm"
      }
    },
    {
      "cell_type": "code",
      "source": [
        "for i in range(5):\n",
        "  for j in range(3):\n",
        "    print(f\"Rating {i}:\",listOfPostsAsDicts[j][\"comments\"][i][\"text\"])\n",
        "  print()\n"
      ],
      "metadata": {
        "id": "S_b-R-a9GfZ6",
        "colab": {
          "base_uri": "https://localhost:8080/"
        },
        "outputId": "013540bc-edb0-448f-b528-6cb8b0249c40"
      },
      "execution_count": null,
      "outputs": [
        {
          "output_type": "stream",
          "name": "stdout",
          "text": [
            "Rating 5: Going back to school is not identical with giving up. Some founders go back to school and keep working on the startup while there.  However, those do so much worse than the people who work on the startup full-time that going back to school seems, in practice, not too far removed from a death sentence for a startup.Off the top of my head, I'd guess we've had about 8 startups where the founders went back to school.  It doesn't only happen with summer batches.  Founders from winter batches do it too.Usually the reason is that the startup isn't doing very well. However, that judgement depends a lot on how determined the founders are.  One reason we now shy away from funding people still in school is that they often unconsciously want the startup to fail, because the idea of dropping out frightens them.A lot of startups look bad after 3 months.  Someone who's out of school and has to make it work or get a job in a cubicle will say \"don't worry, we'll figure out how to make it successful.\"\n",
            "Rating 5: It will be curious to see where this heads in the long run.  CBS is on a tear but will it fit their image, will they try and establish control, overall agenda.  I've enjoyed last.fm for many years supporting through paypal donations each time I expire...it'll be interesting.\n",
            "Rating 5: I really hate it when people falsely claim that the fiduciary responsibilities of a public company includes maximizing profits at every opportunity. Thinking long-term and win-win is the truly responsible CEOs job. Costco is the Google of discount warehouses. Wal-mart is Microsoft.\n",
            "\n",
            "Rating 4: There will invariably be those who don't see the success they set out for, and they fall back to their original path. That's why a founder's commitment is so critical. When your one plan is to become a startup founder, regardless of school or any other factors, you will do your damndest to make something of value and succeed. It's part _doing_ it better than the next guy and _wanting_ it more than the next guy.\n",
            "Rating 4: Does this mean that there's now a big-name company who will fight for the repeal of the recent streaming-music royalty hike?\n",
            "Rating 4: I love Costco.  For me, the best quote of the article was this:\"The traditional retailer will say: 'I'm selling this for $10. I wonder whether I can get $10.50 or $11.' We say: 'We're selling it for $9. How do we get it down to $8?'\"\n",
            "\n",
            "Rating 3: For me school is a way to be connected to what is going on in the \"real world\". I entered school thinking it is EITHER school or entrepreneurship. But in last year my views have changed. I really think there is a middle path where you do JUST enough to stay in school all the while trying out new ventures. (May be the Steve Jobs route?)School is an awesome platform to launch your site off and get quick feedback - ESPECIALLY if your venture fits in with the social networking ecosystem.\n",
            "Rating 3: Also on BBC News:  http://news.bbc.co.uk/1/low/technology/6701863.stm .Nice to see a London-based co. hit the headlines.\n",
            "Rating 3: \"But Mr. Sinegal warned that if Costco increased markups to 16 or 18 percent, the company might slip down a dangerous slope and lose discipline in minimizing costs and prices.\"Costco's strict attitude toward product markup reminds me of 37Signals frequent assertion that often constraints are a good thing to be embraced.\n",
            "\n",
            "Rating 2: I guess it really depends on how hungry you are and how much you believe in your product. I'm only 24 and still in school as of the moment, yet I'm more than willing to leave school in order to initiate my start up. Come to think of it, I'm willing to travel half the world just to get advice and connections from YC. \n",
            "Rating 2: I don't understand what they do that is worth $70M a year. \n",
            "Rating 2: While Costco does treat its employees a little bit better, people normally ignore the fact that Wal-Mart benefits a huge amount of low-income families who shop there. Costco in the other hand targets the upper-middle-class.Poor families do not have the space neither the stable income required to shop wholesale.\n",
            "\n",
            "\n",
            "Rating 1: I know pollground decided to go back to school after getting y combinator funding\n",
            "Rating 1: sold out too cheaply. given their leadership position, they should have ask for at least $500m\n",
            "Rating 1: I'd like to know more about their \"don't advertise\" strategy.  Do upscale shoppers talk to their friends about the deal they got on Heinz ketchup?\n",
            "\n"
          ]
        }
      ]
    },
    {
      "cell_type": "markdown",
      "source": [
        "Построим гистограммы для длин текстов, слов, и количества слов относительно рейтинга комментариев"
      ],
      "metadata": {
        "id": "lNQOzqAbak0Q"
      }
    },
    {
      "cell_type": "code",
      "execution_count": null,
      "metadata": {
        "colab": {
          "base_uri": "https://localhost:8080/",
          "height": 298
        },
        "id": "23D6SqNHPY8g",
        "outputId": "082fad21-9ab3-4f95-a581-42bfc5907809"
      },
      "outputs": [
        {
          "output_type": "execute_result",
          "data": {
            "text/plain": [
              "<BarContainer object of 5 artists>"
            ]
          },
          "metadata": {},
          "execution_count": 26
        },
        {
          "output_type": "display_data",
          "data": {
            "text/plain": [
              "<Figure size 432x288 with 1 Axes>"
            ],
            "image/png": "[encoded data removed]"
          },
          "metadata": {
            "needs_background": "light"
          }
        }
      ],
      "source": [
        "#Построим гистограмму зависимости длины комментария от его рейтинга\n",
        "lens = {0:0,1:0,2:0,3:0,4:0}\n",
        "\n",
        "for comment, score in zip(df[\"comment\"],df[\"score\"]):\n",
        "  lens[score] += len(comment)\n",
        "\n",
        "for key,value in lens.items():\n",
        "  lens[key] = value/(len(df)/5)\n",
        "\n",
        "plt.figure(3)\n",
        "plt.title('Comment length by scores')\n",
        "plt.bar(lens.keys(), lens.values())\n",
        "\n",
        "#По гистограмме видно, что более длинные комментарии в среднем получают более высокую оценку"
      ]
    },
    {
      "cell_type": "markdown",
      "source": [
        "По гистограмме видно, что более длинные комментарии в среднем получают более высокую оценку. Это может быть связано с тем, что в более длинных комментариях обычно больше информации, что позволяет автору высказать более подробные и обоснованные мнения. Кроме того, более длинные комментарии могут привлекать больше внимания других пользователей, что может привести к более высокой оценке. Однако это не означает, что короткие комментарии всегда получают низкие оценки."
      ],
      "metadata": {
        "id": "XOGwpQFAaoL4"
      }
    },
    {
      "cell_type": "code",
      "execution_count": null,
      "metadata": {
        "colab": {
          "base_uri": "https://localhost:8080/",
          "height": 298
        },
        "id": "VbRrq687Nd7V",
        "outputId": "0c3a7fcf-5663-4352-d647-582c3e436a03"
      },
      "outputs": [
        {
          "output_type": "execute_result",
          "data": {
            "text/plain": [
              "<BarContainer object of 5 artists>"
            ]
          },
          "metadata": {},
          "execution_count": 27
        },
        {
          "output_type": "display_data",
          "data": {
            "text/plain": [
              "<Figure size 432x288 with 1 Axes>"
            ],
            "image/png": "[encoded data removed]"
          },
          "metadata": {
            "needs_background": "light"
          }
        }
      ],
      "source": [
        "#Построим гистограмму зависимости отношения длины комментария к длине поста от его рейтинга\n",
        "lens1 = {i: 0 for i in range(5)}\n",
        "for comment, score, post in zip(df[\"comment\"],df[\"score\"],df[\"post\"]):\n",
        "  lens1[score] += len(comment)/len(post)\n",
        "\n",
        "for key,value in lens1.items():\n",
        "  lens1[key] = value/(len(df)/5)\n",
        "\n",
        "plt.figure(3)\n",
        "plt.title('Comment length by scores')\n",
        "plt.bar(lens1.keys(), lens1.values())\n",
        "#График почти идентичен предыдущему, из чего можно сделать вывод что между отношением длин поста и комментария и рейтингом комментария нет явной зависимости"
      ]
    },
    {
      "cell_type": "markdown",
      "source": [
        "График почти идентичен предыдущему, из чего можно сделать вывод что между отношением длин поста и комментария и рейтингом комментария нет явной зависимости."
      ],
      "metadata": {
        "id": "EjChivdDbBFT"
      }
    },
    {
      "cell_type": "code",
      "execution_count": null,
      "metadata": {
        "colab": {
          "base_uri": "https://localhost:8080/",
          "height": 282
        },
        "id": "wkOJGQiROxzv",
        "outputId": "ea595f3d-4bb0-4366-a7c9-7bf084adf56e"
      },
      "outputs": [
        {
          "output_type": "execute_result",
          "data": {
            "text/plain": [
              "<Axes: >"
            ]
          },
          "metadata": {},
          "execution_count": 28
        },
        {
          "output_type": "display_data",
          "data": {
            "text/plain": [
              "<Figure size 432x288 with 1 Axes>"
            ],
            "image/png": "[encoded data removed]"
          },
          "metadata": {
            "needs_background": "light"
          }
        }
      ],
      "source": [
        "#Распределение количество символов в тексте поста\n",
        "df[\"post\"].str.len().hist(bins=25)\n",
        "#Из графика видно, что большая часть постов содержит от 20 до 60 символов. Возможно, если бы дисперсия была побольше, можно было бы найти связь между длиной поста,комментария и рейтингом."
      ]
    },
    {
      "cell_type": "markdown",
      "source": [
        "Из графика видно, что большая часть постов содержит от 20 до 60 символов. Возможно, если бы дисперсия была побольше, можно было бы найти связь между длиной поста,комментария и рейтингом."
      ],
      "metadata": {
        "id": "qFCD7fo_bDXR"
      }
    },
    {
      "cell_type": "code",
      "execution_count": null,
      "metadata": {
        "colab": {
          "base_uri": "https://localhost:8080/",
          "height": 282
        },
        "id": "k1r3PQUzYUAI",
        "outputId": "341ba343-1ffa-4c98-c52c-a326b0d99282"
      },
      "outputs": [
        {
          "output_type": "execute_result",
          "data": {
            "text/plain": [
              "<Axes: >"
            ]
          },
          "metadata": {},
          "execution_count": 29
        },
        {
          "output_type": "display_data",
          "data": {
            "text/plain": [
              "<Figure size 432x288 with 1 Axes>"
            ],
            "image/png": "[encoded data removed]"
          },
          "metadata": {
            "needs_background": "light"
          }
        }
      ],
      "source": [
        "#Количество слов в тексте поста\n",
        "df[\"post\"].str.split().map(lambda x: len(x)).hist(bins=25)\n",
        "#В среднем посты в наборе данных достаточно короткие, 5-10 слов, график аналогичен предыдущему."
      ]
    },
    {
      "cell_type": "markdown",
      "source": [
        "В среднем посты в наборе данных достаточно короткие, 5-10 слов, график аналогичен предыдущему.\n"
      ],
      "metadata": {
        "id": "r9wGWGuTbF5R"
      }
    },
    {
      "cell_type": "code",
      "source": [
        "#Средняя длина слов в посте\n",
        "import numpy as np\n",
        "df['post'].str.split().apply(lambda x : [len(i) for i in x]).map(lambda x: np.mean(x)).hist(bins = 25)\n",
        "#Как можно видеть, из-за выбросов в данных автоматический масшатб графика не очень информативен."
      ],
      "metadata": {
        "colab": {
          "base_uri": "https://localhost:8080/",
          "height": 282
        },
        "id": "xQrqVzHBMJsJ",
        "outputId": "bc09ed52-9b42-4e51-de8b-baedb9d6f3be"
      },
      "execution_count": null,
      "outputs": [
        {
          "output_type": "execute_result",
          "data": {
            "text/plain": [
              "<Axes: >"
            ]
          },
          "metadata": {},
          "execution_count": 30
        },
        {
          "output_type": "display_data",
          "data": {
            "text/plain": [
              "<Figure size 432x288 with 1 Axes>"
            ],
            "image/png": "[encoded data removed]"
          },
          "metadata": {
            "needs_background": "light"
          }
        }
      ]
    },
    {
      "cell_type": "markdown",
      "source": [
        "Как можно видеть, из-за выбросов в данных автоматический масшатб графика не очень информативен. В тексте некоторых постов присутствуют очень длинные слова.\n"
      ],
      "metadata": {
        "id": "pGNZg16xbIOX"
      }
    },
    {
      "cell_type": "code",
      "execution_count": null,
      "metadata": {
        "colab": {
          "base_uri": "https://localhost:8080/",
          "height": 282
        },
        "id": "2JAru_WEaWhw",
        "outputId": "6892b098-cfc6-475f-acc8-ba05e04a1c86"
      },
      "outputs": [
        {
          "output_type": "execute_result",
          "data": {
            "text/plain": [
              "<Axes: >"
            ]
          },
          "metadata": {},
          "execution_count": 31
        },
        {
          "output_type": "display_data",
          "data": {
            "text/plain": [
              "<Figure size 432x288 with 1 Axes>"
            ],
            "image/png": "[encoded data removed]"
          },
          "metadata": {
            "needs_background": "light"
          }
        }
      ],
      "source": [
        "#Средняя длина слов в посте (диапазон от 2 до 14)\n",
        "df['post'].str.split().apply(lambda x : [len(i) for i in x]).map(lambda x: np.mean(x)).hist(range=(2,14), bins = 25)\n",
        "#Средняя длина слова примерно равна 5.5 символам, что соответствует стандартному распределению для английского языка. "
      ]
    },
    {
      "cell_type": "markdown",
      "source": [
        "Средняя длина слова примерно равна 5.5 символам, что соответствует стандартному распределению для английского языка.\n"
      ],
      "metadata": {
        "id": "PumdH6WpbJmv"
      }
    },
    {
      "cell_type": "code",
      "execution_count": null,
      "metadata": {
        "colab": {
          "base_uri": "https://localhost:8080/"
        },
        "id": "SZ_40lUI1QmC",
        "outputId": "bd72e1c1-51bc-4ab7-ac8c-5869a964a74b"
      },
      "outputs": [
        {
          "output_type": "stream",
          "name": "stdout",
          "text": [
            "Word:&#8235;&#8236;&#8237;&#8238;&#8234;&#8235;&#8236;&#8237;&#8238;&#1161;(epiws\n",
            "Word:&#8235;&#8236;&#8237;&#8238;&#8234;&#8235;&#8236;&#8237;&#8238;&#1161;(epiws\n",
            "Word:entrepreneurial/business\n",
            "Word:Rails/Django/PHP/etc.\n",
            "Word:Left-brain/right-brain\n",
            "Word:slashdotted/reddited/yc.newsed\n",
            "Word:slashdotted/reddited/yc.newsed\n",
            "Word:electronics/microcontrollers?\n",
            "Word:self-funding/bootstrapping?\n",
            "Word:(Blogger.com|WordPress.com|etc)?\n",
            "Word:psycho-stalker-impersonator\n",
            "Word:dev/staging/production\n",
            "Word:create-your-own-social-news-site\n",
            "Word:startup/project/idea?\n",
            "Word:pg/ycombinator/lisp/ruby.\n",
            "Word:http://www.askurpals.com\n",
            "Word:http://www.askurpals.com\n",
            "Word:mathematicians/academics\n",
            "Word:non-compete/non-solicitation\n",
            "Word:Alt.techcrunch.die.die.die\n",
            "Word:Reddit/Digg/Slashdot?\n",
            "Word:Entrepreneurial/Startup\n",
            "Word:Entrepreneurial/Startup\n",
            "Word:Crowdsourcing/Competition\n",
            "Word:Gates/Larry/Zuckerberg?\n",
            "Word:usabilityfeedback.com\n",
            "Word:usabilityfeedback.com\n",
            "Word:Baltimore/Washington?\n",
            "Word:afternoon...'programming'\n",
            "Word:http://www.hackerne.ws?\n",
            "Word:Hackers/Entrepreneurs:\n",
            "Word:twitter/irc/real-time\n",
            "Word:twitter/irc/real-time\n",
            "Word:www.joetheplumber.com\n",
            "Word:www.recreationparks.net\n",
            "Word:Yosemite@17gigapixels\n",
            "Word:LinksOnHN[n].setAttribute('target',\"_blank\");\n",
            "Word:(IsHilarySwankHot.com)\n",
            "Word:Anti-Intellectualism?\n",
            "Word:http://News.YCombinator.com/item?id=533849\n",
            "Word:(steamgamedeal.appspot.com)\n",
            "Word:languages/development\n",
            "Word:Valley/Entrepreneur/Hacker\n",
            "Word:Anti-procrastination:\n",
            "Word:language/environment/framework\n",
            "Word:http_authentication.rb\n",
            "Word:performance-enhancing\n",
            "Word:AJAX-Framework-Shootout\n",
            "Word:programming/math/science\n",
            "Word:consultancy/incubator\n",
            "Word:consultancy/incubator\n",
            "Word:Your_Favorite_Compiler\n",
            "Word:MyPlenaryIndulgence.com\n",
            "Word:MyPlenaryIndulgence.com\n",
            "Word:http://browserpop.com\n",
            "Word:(http://www.udoa.com)\n",
            "Word:CodeThatDocumentsItselfSoWellItDoesNotNeedComments\n",
            "Word:Awesome/neat/favourite\n",
            "Word:Answers.OnStartups.com\n",
            "Word:room-and-board-and-bandwidth\n",
            "Word:mining/harvesting/scraping?\n",
            "Word:mining/harvesting/scraping?\n",
            "Word:university-affiliated\n",
            "Word:subscription/recurring\n",
            "Word:9,73,241,561,1081,1849,_?_\n",
            "Word:9,73,241,561,1081,1849,_?_\n",
            "Word:XXXXXX[at]XXXXXX[dot]com\n",
            "Word:type=\"text/jquery\"&gt;\n",
            "Word:Sinatra/Freebase/Heroku\n",
            "Word:Patriotism/Nationalism\n",
            "Word:Patriotism/Nationalism\n",
            "Word:blogs.stackoverflow.com\n",
            "Word:Database-as-a-Service\n",
            "Word:(x2-2.5x+1.5)/(x-1.5)\n",
            "Word:(x2-2.5x+1.5)/(x-1.5)\n",
            "Word:social-networking-as-grief-counseling\n",
            "Word:social-networking-as-grief-counseling\n",
            "Word:(http://www.InstantLoop.com)\n",
            "Word:programmers/developers\n",
            "Word:http://news.ycombinator.com/newest?\n",
            "Word:OS(workstation)/Language/Editor\n",
            "Word:Flickr-Meets-Foursquare\n",
            "Word:type=\"text/coffeescript\"&gt;\n",
            "Word:biology/medicine/biotech?\n",
            "Word:biology/medicine/biotech?\n",
            "Word:vs.Experts-Exchange.com\n",
            "Word:vs.Experts-Exchange.com\n",
            "Word:http://style.mtv.com/)\n",
            "Word:graphing/charting/visualization?\n",
            "Word:Erlang/Lisp/Scala/Node.js/Haskell\n",
            "Word:requests/emails/tickets\n",
            "Word:requests/emails/tickets\n",
            "Word:Help/FAQs/documentation\n",
            "Word:Help/FAQs/documentation\n",
            "Word:\"Skype-to-Skype\"calls\n",
            "Word:glue/sealer/rubber-coating\n",
            "Word:Alexa/Compete/Quantcast\n",
            "Word:Alexa/Compete/Quantcast\n",
            "Word:non-developer/designer\n",
            "Word:www.mydomain.com/blog\n",
            "Word:www.mydomain.com/blog\n",
            "Word:entrepreneur/engineer?\n",
            "Word:entrepreneur/engineer?\n",
            "Word:Technology/Entrepreneur\n",
            "Word:knock-off/alternative?\n",
            "Word:developer/entrepreneur\n",
            "Word:developer/entrepreneur\n",
            "Word:people-who-run-Twitter,\n",
            "Word:Foursquare/Gowalla/Places\n",
            "Word:Foursquare/Gowalla/Places\n",
            "Word:Howfuckedismydatabase\n",
            "Word:somebodybuildthis.com\n",
            "Word:9to5/Consulting/Startup,\n",
            "Word:9to5/Consulting/Startup,\n",
            "Word:Canvas/WebSocket/Node.js\n",
            "Word:Node.js+Redis+CouchApp+BigCouch+CouchDB+TurnkeyLinux\n",
            "Word:organize/classify/sort\n",
            "Word:Websockets/HTML5/CSS3/JS\n",
            "Word:Founders/Co-Founders?\n",
            "Word:*.tar/*.tar.gz/*.tar.bz2\n",
            "Word:startups/entrepreneurship?\n",
            "Word:non-profits/charities?\n",
            "Word:icantfindmyphone.com?\n",
            "Word:icantfindmyphone.com?\n",
            "Word:news.ycombinator.com/offers\n",
            "Word:http://www.google.com\n",
            "Word:successful/profitable?\n",
            "Word:successful/profitable?\n",
            "Word:Hacking/Coding/Programming\n",
            "Word:teachers...grading...for\n",
            "Word:teachers...grading...for\n",
            "Word:http://www.ConvertMyFlash.com\n",
            "Word:http://www.ConvertMyFlash.com\n",
            "Word:info[at]ycombinator.com\n",
            "Word:2.2250738585072011e-308\n",
            "Word:Http://www.google.com/wo0dh3ad\n",
            "Word:2.2250738585072012e-308\n",
            "Word:2.2250738585072012e-308\n",
            "Word:too-long-didnt-read.com\n",
            "Word:2.2250738585072012e-308\n",
            "Word:2.2250738585072012e-308\n",
            "Word:X^2+(y-sqrt(x^2))^2=1\n",
            "Word:unadvertised/nonexistent\n",
            "Word:Heroku+Twilio+Resque...\n",
            "Word:Heroku+Twilio+Resque...\n",
            "Word:www.hitmanforhire.com\n",
            "Word:www.get[nameofproduct]app.com?\n",
            "Word:karma/reputation/friend_count\n",
            "Word:(http://interstateapp.com)\n",
            "Word:monit/cacti/nagios/zabbix/etc\n",
            "Word:monit/cacti/nagios/zabbix/etc\n",
            "Word:microblogging/self-tracking\n",
            "Word:microblogging/self-tracking\n",
            "Word:immigrant/programmer)\n",
            "Word:Entrepreneur/Startups-friendly\n",
            "Word:http://thewallmachine.com\n",
            "Word:Redesign.techcrunch.com\n",
            "Word:million-Kindle-seller\n",
            "Word:Lulzsec/gn0sis/AnonOps\n",
            "Word:WhatColorIsThisSong.com\n",
            "Word:load-balancer-as-a-service\n",
            "Word:accounting/taxes/book\n",
            "Word:(win,osx,lin,android)\n",
            "Word:jQuery(document).ready()\n",
            "Word:libraries/frameworks/tools\n",
            "Word:PickHealthInsurance.com\n",
            "Word:Compiler-as-a-Service\n",
            "Word:Compiler-as-a-Service\n",
            "Word:my-mom-cleaned-my-room\n",
            "Word:Twitter/Facebook/Gowalla/Google+\n",
            "Word:BackboneScreencasts.com\n",
            "Word:BackboneScreencasts.com\n",
            "Word:Compiler-as-a-Service\n",
            "Word:Compiler-as-a-Service\n",
            "Word:Ruby/Sinatra/Redis/JQuery\n",
            "Word:Google-Music-for-books\n",
            "Word:Database-as-a-Service\n",
            "Word:Database-as-a-Service\n",
            "Word:http://News.YCombinator.com\n",
            "Word:bone-marrow-transplant\n",
            "Word:Trillion-frame-per-second\n",
            "Word:Trillion-frame-per-second\n",
            "Word:mathematics/algorithms\n",
            "Word:mathematics/algorithms\n",
            "Word:read-through/discussion\n",
            "Word:News.YCombinator.com\"\n",
            "Word:News.YCombinator.com\"\n",
            "Word:applications/softwares?\n",
            "Word:applications/softwares?\n",
            "Word:MusicForProgramming();\n",
            "Word:MusicForProgramming();\n",
            "Word:Jquery.localStorageTextareas\n",
            "Word:HTML5/Canvas/Javascript\n",
            "Word:HTML5/Canvas/Javascript\n",
            "Word:Thunderbolt-DMA-land:\n",
            "Word:Mothereffinanimatedgif\n",
            "Word:router/microframework\n",
            "Word:(html5/processing.js)\n",
            "Word:(html5/processing.js)\n",
            "Word:Sqrt(x*x+y*y)+3*cos(sqrt(x*x+y*y))+5\n",
            "Word:(-sqrt(1-x^2-(y-abs(x))^2))*cos(30*((1-x^2-(y-abs(x))^2)))\n",
            "Word:(-sqrt(1-x^2-(y-abs(x))^2))*cos(30*((1-x^2-(y-abs(x))^2)))\n",
            "Word:Possession/distribution\n",
            "Word:Why-didnt-we-use-python-in-the-browser\n",
            "Word:changing/increasing/altering\n",
            "Word:YourPictureGetsMine.com\n",
            "Word:YourPictureGetsMine.com\n",
            "Word:CourtDateReminder.com\n",
            "Word:multicore/multithread\n",
            "Word:iDoneThis+AwesomenessReminders,\n",
            "Word:programmer/developer/engineer,\n",
            "Word:management/monitoring\n",
            "Word:management/monitoring\n",
            "Word:Facebookipodayclosingprice.com\n",
            "Word:Coffeescript/Sass/Haml.\n",
            "Word:YouTube-to-MP3-Ripping\n",
            "Word:creativity/innovation\n",
            "Word:programming/engineering\n",
            "Word:ratings/genre/runtime\n",
            "Word:software-developer-in-training?\n",
            "Word:hackathons/startup-weekend\n",
            "Word:hackathons/startup-weekend\n",
            "Word:bbcode/markup/textile\n",
            "Word:GlobalThermonuclearWar.info\n",
            "Word:jQuery(document).ready()\n",
            "Word:towel.blinkenlights.nl\n",
            "Word:price/popularity/genre\n",
            "Word:no-reply[at]startup.com?\n",
            "Word:ICanHasCheezburger.com\n",
            "Word:InternalFrameInternalFrameTitlePaneInternalFrameTitlePaneMaximizeButtonPainter\n",
            "Word:UserManager.isUserAGoat()\n",
            "Word:mockup/prototype/wireframe\n",
            "Word:ismyflightdelayed.com?\n",
            "Word:Petitions.WhiteHouse.Gov\n",
            "Word:hungry-hungry-hackers.\n",
            "Word:never-before-possible\n",
            "Word:classically-implementable\n",
            "Word:classically-implementable\n",
            "Word:(http://www.LowerThis.com)\n",
            "Word:(http://www.LowerThis.com)\n",
            "Word:Electronics.StackExchange.com\n",
            "Word:Backbone/Ember/Angular\n",
            "Word:Backbone/Ember/Angular\n",
            "Word:#PROGRAMMING_LANGUAGE\n",
            "Word:'First-Inventor-To-File'\n",
            "Word:Build-your-own-Dropbox\n",
            "Word:programming-language-aware,\n",
            "Word:CoffeeScript/JavaScript\n",
            "Word:CoffeeScript/JavaScript\n",
            "Word:publicizing/marketing\n",
            "Word:publicizing/marketing\n",
            "Word:Multi-Level-Marketing\n",
            "Word:privileges/penalties?\n",
            "Word:whatismyip.akamai.com`\n",
            "Word:http://localhost:3000\n",
            "Word:requestAutocomplete()\n",
            "Word:Http://ruby-lang.github.io/\n",
            "Word:environment/philosophies?\n",
            "Word:environment/philosophies?\n",
            "Word:obamaischeckingyouremail.tumblr.com\n",
            "Word:http://www.while42.org/\n",
            "Word:Developers.Google.com\n",
            "Word:Developers.Google.com\n",
            "Word:debian-multimedia.org\n",
            "Word:debian-multimedia.org\n",
            "Word:\"certified/guaranteed\n",
            "Word:Https://history.Google.com\n",
            "Word:Get-Rid-Of-Crap-Every-Month\n",
            "Word:(Mongo/Express/Angular/Node)\n",
            "Word:(Mongo/Express/Angular/Node)\n",
            "Word:TransactionAwarePersistenceManagerFactoryProxy\n",
            "Word:app/business/startup?\n",
            "Word:parasitic,anonymous,remixable\n",
            "Word:parasitic,anonymous,remixable\n",
            "Word:$92,233,720,368,547,800\n",
            "Word:Googleusercontent.com\n",
            "Word:Charitable-Industrial\n",
            "Word:Charitable-Industrial\n",
            "Word:600,000-megapixel-wide\n",
            "Word:Smartphone-monitoring\n",
            "Word:Smartphone-monitoring\n",
            "Word:Freelancers/self-employeds,\n",
            "Word:sustainable/ethical/scalable?\n",
            "Word:isYoMamaWearsCombatBootsActive\n",
            "Word:Non-Software-Developer\n",
            "Word:Non-Software-Developer\n",
            "Word:Cyber-libertarianism:\n",
            "Word:When-Apple-Became-the-Borg\n",
            "Word:When-Apple-Became-the-Borg\n",
            "Word:Artificial-intelligence\n",
            "Word:anti-recommendations)\n",
            "Word:anti-recommendations)\n",
            "Word:Keep-My-Data-Out-of-U.S.\n",
            "Word:Keep-My-Data-Out-of-U.S.\n",
            "Word:ReconnectingWebSocket\n",
            "Word:code-review-as-a-service?\n",
            "Word:Objective-C++/JavaScript\n",
            "Word:Objective-C++/JavaScript\n",
            "Word:https://www.markdownmail.io\n",
            "Word:NetNeutralityTest.com\n",
            "Word:AppleDoesntGiveAFuckAboutSecurity\n",
            "Word:require(“../../../../../../../”)\n",
            "Word:socket.recvfrom_into()\n",
            "Word:socket.recvfrom_into()\n",
            "Word:terminal/console/curses\n",
            "Word:4ee89f7cf824a85ad5f11d52604ffdebe9f01302bcea8ddec0af450f9185ddf1\n",
            "Word:4ee89f7cf824a85ad5f11d52604ffdebe9f01302bcea8ddec0af450f9185ddf1\n",
            "Word:/usr/share/dict/words\n",
            "Word:freelancing/consultancy?\n",
            "Word:freelancing/consultancy?\n",
            "Word:CryEngine-as-a-Service\n",
            "Word:Artificial-Intelligence\n",
            "Word:Einstein-Podolsky-Rosen\n",
            "Word:iwanttogotocarnegiemellon.com\n",
            "Word:iwanttogotocarnegiemellon.com\n",
            "Word:Half-Billion-Year-Old\n",
            "Word:Centimeter-Resolution\n",
            "Word:Heartbleed-compromised\n",
            "Word:Entrepreneurs/hackers\n",
            "Word:Entrepreneurs/hackers\n",
            "Word:2-Factor-Authentication\n",
            "Word:Transistor-Transistor\n",
            "Word:Google.com/killer-robots.txt\n",
            "Word:imperative-declarative\n",
            "Word:machine-learning-powered\n",
            "Word:machine-learning-powered\n",
            "Word:prototyping/wireframing\n",
            "Word:AI/robotics/automation?\n",
            "Word:Seed.happyfuncorp.com\n",
            "Word:Seed.happyfuncorp.com\n",
            "Word:AbstractAdapterFactory\n",
            "Word:CourtesyImplementation\n",
            "Word:automation/productivity\n"
          ]
        }
      ],
      "source": [
        "#Посмотрим какие слова больше 20 символов повлияли на гарфик\n",
        "for i in range(0,len(df[\"post\"]),4):\n",
        "  for word in df[\"post\"][i].split():\n",
        "    if len(word) > 20:\n",
        "      print(f\"Word:{word}\")\n",
        "#Это преимущественно ссылки, либо несколько слов, написаных через разделитель не являющийся пробелом."
      ]
    },
    {
      "cell_type": "markdown",
      "source": [
        "Это преимущественно ссылки, либо несколько слов, написаных через разделитель не являющийся пробелом."
      ],
      "metadata": {
        "id": "WHUSgxMsbM_G"
      }
    },
    {
      "cell_type": "code",
      "source": [
        "#Количество символов в тексте комментария\n",
        "df[\"comment\"].str.len().hist(bins = 50)\n",
        "#Из-за выбросов график неинформативен, количество символов в отдельных случаях достигает значений более 30000."
      ],
      "metadata": {
        "colab": {
          "base_uri": "https://localhost:8080/",
          "height": 282
        },
        "id": "G_YP3pnVRh3g",
        "outputId": "01e75f55-d990-4bb2-8d22-9425147e3291"
      },
      "execution_count": null,
      "outputs": [
        {
          "output_type": "execute_result",
          "data": {
            "text/plain": [
              "<Axes: >"
            ]
          },
          "metadata": {},
          "execution_count": 33
        },
        {
          "output_type": "display_data",
          "data": {
            "text/plain": [
              "<Figure size 432x288 with 1 Axes>"
            ],
            "image/png": "[encoded data removed]"
          },
          "metadata": {
            "needs_background": "light"
          }
        }
      ]
    },
    {
      "cell_type": "markdown",
      "source": [
        "На графике распределения количества символов в есть ярко выраженные выбросы, которые сильно искажают общую картину. Некоторые посты содержат до 30000 и более символов, что значительно превышает среднее значение. Из-за этих выбросов график неинформативен, поскольку основная часть данных сгруппирована в узком диапазоне."
      ],
      "metadata": {
        "id": "DHVqSJxdbPFm"
      }
    },
    {
      "cell_type": "code",
      "execution_count": null,
      "metadata": {
        "colab": {
          "base_uri": "https://localhost:8080/",
          "height": 282
        },
        "id": "P7RDNIypPPB-",
        "outputId": "551b8747-0b58-44b2-c333-861681a18c5f"
      },
      "outputs": [
        {
          "output_type": "execute_result",
          "data": {
            "text/plain": [
              "<Axes: >"
            ]
          },
          "metadata": {},
          "execution_count": 34
        },
        {
          "output_type": "display_data",
          "data": {
            "text/plain": [
              "<Figure size 432x288 with 1 Axes>"
            ],
            "image/png": "[encoded data removed]"
          },
          "metadata": {
            "needs_background": "light"
          }
        }
      ],
      "source": [
        "#Количество символов в тексте комментария(диапазон от 0 до 2500)\n",
        "df[\"comment\"].str.len().hist(range=(0,2500), bins = 50)\n",
        "#Длина примерно половины комментариев не превышает 500 символов, большей части - 1000 символов. Наиболее часто встречаются комментарии длины 150-250 символов."
      ]
    },
    {
      "cell_type": "markdown",
      "source": [
        "Длина примерно половины комментариев не превышает 500 символов, большей части - 1000 символов. Наиболее часто встречаются комментарии длины 150-250 символов."
      ],
      "metadata": {
        "id": "Jiv1TOXRbQ4O"
      }
    },
    {
      "cell_type": "code",
      "source": [
        "#Количество слов в тексте комментария\n",
        "df[\"comment\"].str.split().map(lambda x: len(x)).hist(bins = 50)\n",
        "#Из-за выбросов график неинформативен, количество слов в отдельных случаях достигает значений более 4000."
      ],
      "metadata": {
        "colab": {
          "base_uri": "https://localhost:8080/",
          "height": 282
        },
        "id": "lexUN6kOSDzy",
        "outputId": "946b8dc2-2977-4658-b54f-66016085aabd"
      },
      "execution_count": null,
      "outputs": [
        {
          "output_type": "execute_result",
          "data": {
            "text/plain": [
              "<Axes: >"
            ]
          },
          "metadata": {},
          "execution_count": 35
        },
        {
          "output_type": "display_data",
          "data": {
            "text/plain": [
              "<Figure size 432x288 with 1 Axes>"
            ],
            "image/png": "[encoded data removed]"
          },
          "metadata": {
            "needs_background": "light"
          }
        }
      ]
    },
    {
      "cell_type": "markdown",
      "source": [
        "Из-за выбросов график неинформативен, количество слов в отдельных случаях достигает значений более 4000."
      ],
      "metadata": {
        "id": "DM6JsXPlbTXm"
      }
    },
    {
      "cell_type": "code",
      "execution_count": null,
      "metadata": {
        "colab": {
          "base_uri": "https://localhost:8080/",
          "height": 282
        },
        "id": "f3BV77lxZJCy",
        "outputId": "ad373d8a-b3dd-4211-f776-a584133f6077"
      },
      "outputs": [
        {
          "output_type": "execute_result",
          "data": {
            "text/plain": [
              "<Axes: >"
            ]
          },
          "metadata": {},
          "execution_count": 36
        },
        {
          "output_type": "display_data",
          "data": {
            "text/plain": [
              "<Figure size 432x288 with 1 Axes>"
            ],
            "image/png": "[encoded data removed]"
          },
          "metadata": {
            "needs_background": "light"
          }
        }
      ],
      "source": [
        "#Количество слов в тексте комментария\n",
        "df[\"comment\"].str.split().map(lambda x: len(x)).hist(range=(0,500), bins = 50)\n",
        "#Люди редко пишут комментарии длиннее 100-200 слов, график аналогичен предыдущему."
      ]
    },
    {
      "cell_type": "markdown",
      "source": [
        "Люди редко пишут комментарии длиннее 100-200 слов, график аналогичен графику по количеству символов."
      ],
      "metadata": {
        "id": "dSSqFPPgbVBu"
      }
    },
    {
      "cell_type": "code",
      "execution_count": null,
      "metadata": {
        "id": "Gnr9u2S42eN7",
        "colab": {
          "base_uri": "https://localhost:8080/"
        },
        "outputId": "880553fa-89fd-4518-9639-692eef358152"
      },
      "outputs": [
        {
          "output_type": "stream",
          "name": "stdout",
          "text": [
            "NEW_COMMENT__________________________________________________________________________________________________________________________________\n",
            "It's not true that killed stories can't be seen by anyone except the submitter.  They can be seen by everyone else who has showdead turned on.You can easily check whether a site is banned by submitting something from it and seeing if it gets killed immediately.  I.e. if it's visible on the new page to someone who's not logged in.  (You may have to wait a minute because the new page is cached.)  Here is the complete list:(gamenode.com tytka.blogspot.com fantasysportstrades.com mnhomerental.com downloadeverybodyhateschris.wordpress.com nickherbcpa.com cheepbaseballtickets.com infinitewraps.com freerotator.com copoff.org themmadigest.com mywirelessincome.com watchdollhouse.tv totalleathersolutions.com expofutures.com digital-scrapbook.net inlineseo.com orbitmerchantsolutions.com hostexcellencereview.org drama20show.com pain-killers.net topicster.com websiteapplications.wordpress.com fixmywindshield.com freepspgamesdownload.wordpress.com co.cc tech4news.com kidsites.com seowhitehats.com smukiziedi.lv group-halloween-costume-ideas.wetpaint.com hair-straightener-reviews.com goarticles.com buybestanabolicsteroids.com flowersofindia.net downloadstargateatlantisepisodes.wordpress.com downloadgossipgirlepisode.wordpress.com thelogcabinshop.co.uk downloadknightriderepisodes.weebly.com aimenviro.com bestinfoproductsonline.com ibcsingapore.com end2endconsultant.net refinanceme.com.au com-http.com breastpumpdeals.com compbizz.com buzzpal.wordpress.com googleresellerprogram.com etrode.com gerbicleanse.com download-theoffice-episodes.wetpaint.com taxresourcegroup.com .copperwashers.in onlineobesityguide.com noni247.com downloadthelongshotsmovie.blogspot.com ludwigklein.com rsscctv.com nutritionalmart.com usb-over-network.com careeroverview.com emrgmedia.com worldinsuranceportal.com wemissw.com cyberoffice.ir bernsteinandmaryanoff.com allportablesinks.com catalystbusinesstalent.com webdesignedge.net imergentfinancialservices.com manufacturingequipmentinfo.com rapiscansystems.com hostsvault.com download-gossip-girl.weebly.com luxuryyachtsforsale.co.uk livecrunch.com control4.com i-love-bingo.co.uk cookesfurniture.co.uk theweightlossmiracle.com renterhallofshame.com carbon-copy-pro-blog.com toolbartv.com bluraydiscplayer.biz thiscity.com smilesouthflorida.com mastersincriminaljustice.com stickitonyourwall.com personalsecurityandsurveillancesystems.com kodhit.com avishotels.com eurosportdesign.com noniusers.com itflexsolutions.com absolutemoves.com timsdd.com nakbali.com dreamhostreview.org buildnwrap.com number1bets.com espow.ca shouldiusetablesforlayout.com mdofpc.com bankruptcy-sandiego.com theclimbinggear.com ocregister.com otavo.tv clusterstock.com betadaily.com bloggingfromscratch.com middletown-buick.com actremediation.com 7bestinvest.com frogost.com cgisecurity.net everythingeverglades.blogspot.com psoriaticcream.livejournal.com craps-tips.com artyellow.com kirstysweightloss.com luxurite.com FriendFrost.com express-press-release.net usachatnow.com makemoneyonline-jfr.com allspammedup.com toprankblog.com yaplc.blogspot.com freshstartafterdivorce.com utterli.com uihao.com 97dollardvd.com forfraksake.com tai-chi-movements.com zikbay.com athomeinisrael.com picmoney.com sampasite.com nostimulus.com thestoryofgold.com www.topsite.in ertongshu.com tonosmovil.com.es funzest.com loanseye.com whitepages.com vacationrentalsavings.com download-laworder-episodes.sampasite.com greatjeweler.com watchbollywoodmovie.blogspot.com crooksandliars.com cardollarsforall.com midphasereview.org vox.com blocked-sites.com paradise10.com waspeo.com celisee.com eddysu.com syteblack.com cli.gs hookedonmma.com sabkuchh.com merchantaccount.com wondersofrajasthan.com warez-bb.org unitedfirstfinancial.com clothbabes.com.au cellhut.com cyberthinkinfotech.com 58bj.com digitalframe.com.au ajaxdevelopmentindia.wordpress.com usb-monitor.com celltalkz.com body-building-exercises.com candlelightstories.com modification.org cars-show.org addindexsite.info totallydiscounted.co.uk directoryreligion.com instantdebtconsolidationloans.com download-desperatehousewives.weebly.com freewebhowto.com rafting.co.uk onlinebestcolleges.com boxador.com billiardbuyer.com cuckshare.com customercreditcard.com download-lasvegas-episodes.sampasite.com pacificgardens.ca liabilitycover.co.uk bestlandscapingsecrets.com stonewaregranite.com carwashworld.com transcriptionoffshore.com freeworldofwarcraftguide.com beads-site.com downloadstartrekepisodes.weebly.com prominere.com indhistory.com rochesterpodiatryllp.com cinerockers.com bullshitworld.com homarkfurniture.com t3com.com jetliteflights.com todoprestamos.es nonigroup.com rensoftglobal.com hbbleads.com ehow.com i-stuff.blogspot.com myob-swicki.eurekster.com download-smallville-episodes.wetpaint.com allvoices.com dayhacker.blogspot.com download-one-tree-hill.wetpaint.com thailandphotoframe.com timesofvirtualization.com chipzentrale.com AlreadyHosting.com blackstonemedia.net freedocast.com 1dentalcarehelp.com supernoobice.com voipoholic.com grandmatrix.com thedubaisite.com usanetworknow.com sumudra.co.uk rense.com dig4coins.com bestpriceproduct.com wordpress-seo.org australmortgage.com.au platform-rentals.co.uk best-wedding-anniversary-gift-ideas.com madisonmedia.com usedmotorcycleforsale.ca dramaticsmiles.com pandoragadgets.co.uk california-big-rig-accidents-lawyers.com graceisfree.blogspot.com cheaplingerie4u.co.uk safehomestrategies.com imgwtf.com easysurfexchange.com fragrancenet.com billsmedicalcollectionservice.com hiscatalog.com life-like-imaging.com anyresorts.com deboeck.com best-roulette-strategy.com brandgopher.com avadhwebs.com downloadweedsepisodes.wordpress.com atbkk.com ringtones2world.com petgigs.com honestflorist.com bizz.cc master-resell-rights-site.com asianpackingmachinery.com psoriatictreatment.blogspot.com ozfax.com.au gizmoactive.com debtsfreelife.com indiadatingclub.com fabulatech.com galattacinema.com betteronlineeducation.com customintelcomputers.com gomotorscooter.com noni.com insidecrm.com downloadcharmedepisodesonline.sampasite.com autofinance-ez.com toyotaoforange.com gaithersburgyellow.com happytreefriends.blogsome.com bestbullysticks.com xtsglobal.com cardsforcauses.com saplisting.com drug-intervention.com stainless-jewellery.com bargingrab.com downloadknightriderepisodes.blogspot.com siondo-connect.com rentafarmhouse.com.au linser-kontaktlinser.com hilaryshepherd.com furnitureresources.cc revitalady.com bodybuilding4skinnyguys.blogspot.com gitme.net axist.info xrl.us downloadfridaynightlights.blogspot.com brochuremonster.com alcohol-rehab.cn download-heroes-episodes.blogspot.com spadevequipment.com neovuelos.com thaileatherproduct.com utropicmedia.net downloadweedsepisodes.sampasite.com brickimaging.com orderdrugs.info onlinemoneymakingtricks.blogspot.com nocreditloans.org.uk wonderjewels.us luxury-safaris.co.uk discountdownloadsoftware.com manuva.es minipocketrockets.net ifillinkjets.com successsystem4u.com aces4hire.com hamiltontuxedos.com bevisible.co.uk casinotaxrebate.com blogsome.com carinsurancequotes.com directoryofonlinepoker.com yorkshirehearingaids.co.uk emaildirectmarketinglists.com us-creditcards.com gettingpersonal.co.uk inspirephones.com handbags-review.com universityhunt.com contractpal.com familycarbuyers.com alineah.com buyfastsoftware.com bhhec.org mortgageaccelerationllc.com blog.com downloadwithoutatraceepisodes.wordpress.com whistling-tea-kettle.com foxriverantiques.com okseguros.com quickfireprofits2bonuses.com downloadthehillsepisodes.wordpress.com raininghollywood.com newhopemedicalcenter.com brimdeforest.com texas-insurance-no-visit-insurance-quotes.com vacation-spots.info cimgsa.com voxwire.com smartquote.com fxconverter.org freestufffriend.com coloncleansingdirect.com watchsecretlife.com bschool.com getcarloansuk.co.uk lawlblog.com replaygamer.com radiographyschools.org garyvaynerchuk.com internetsplash.com mystealthstartup.com manandvan.org mydivorceplan.com getnightvision.com menpants.de mathnotmagic.com aboutmotorcyle.com midwestworkwear.com spanishhotproperties.com johndaugherty.com nurses2australia.net foodproof.com rachaelraydiet.com kidswebindia.com funtasyfootball.com bestforeclosureinformation.com indianbollywoodmovies.blogspot.com acmearticles.com public-criminal-records.net sdiraservices.com thebabsonbook.com devicetime.com ui265.com sixincomestream.com geeksaresexy.net gfitsomeone.com kaboodle.com betterride.net mensperfume.biz 1homefitnessequipment.com guide2direct.com downloadtheocepisodes.sampasite.com freebiefree.com leesmarketingtools.com mp3-uplay.com arbitrageconspiracyoffer.com articlesbase.com dermanetwork.org downforeveryoneorjustme.com esljobsnow.com downloadwestwingepisodes.wordpress.com spex2you.co.uk speedyshelving.com relativity2.blogspot.com elementalclinic.com zebrarox.com 1eathealthy.com addictiontreatmentrehab.com tollfreenumber.org hollywooddental.co.uk noreasonforparkinsons.com chicagotradeshowdisplays.com travellady.com titanchair.com oms3.com jigsaw.com greatestplanet.org bestbuddha.com inmotionhostingreview.org download-cold-case.weebly.com downloadthat70sshowepisodes.blogspot.com www.gmb.in webwindows.co.uk maswebdesign.com download-csi-episode.weebly.com downloadsouthparkepisodes.blogspot.com downloadtheshieldepisodes.blogspot.com 1stclaims.co.uk metros.com storewww.com ditindia.com traditionsresort.com usmilitarygiftsonline.com ixigo.com windsorswitches.com bruteforcestudyguide.com quizilla.com astrabeds.com lipsigprice.com minnesotacprtraining.com magickeys.com westoftheweb.com xn--v3cgadd2ib0g8c.com dacait.com freebiefanatic.com reuniting.info flowers-israel.net mp3coast.com PMPerfect.com soundmachinesdirect.com greek-culture.org apetdirectory.com travian.ro hostmonsterreview.org certification-site.com beadabeada.com prepelix.com bestessays.com bestcase.com sk8prk.com emantra.biz ez-cookbook.com afiddlerontheroof.com slickdeals.net mavericklabel.com cluborlov.blogspot.com downloadstartrek.blogsome.com onlinerakhistore.com downloaduglybettyepisodes.sampasite.com fininfocom.com alert2media.com freightrefunds.com go2zanzibar.net uncov.com robertopirlanta.com lazerline.com.tr downloadgreysanatomyepisodes.wordpress.com ahmedabadonlinegifts.com casinoguide.com concealedcarrysecrets.com printable-sudoku.net nuneatonsex.com thegmanifesto.com meetingshack.com totalquirkynews.blogspot.com raresoulgrooves.com tvlisting.wordpress.com axiombpo.com survivormanfans.com homesdr.com artofliving.com quitmastersuk.co.uk experiencefestival.com downloadtwoandahalfmenepisodes.wordpress.com powerqualityinc.com hiphophoney.com win-fast-cash.com dental-care-abroad.co.uk bobbyberkhome.com www.topnews.in jjgames.com digiteklawyerrecall.com gamesoid.com datingdisciples.com panichub.com socialmediavision.com uca-shooting.blogspot.com control-parental.cl clearhavencenter.com blogono.com download-numb3rs-episodes.wetpaint.com prunemyroses.com dogs-training.info moneyandmarkets.com stagingconcepts.com findmycompanyonline.com oxifresh.com gaysextoybox.com watch-bollywood-movie.blogspot.com higradeworld.com cellphonesupersale.com breezeedge.com bincsearch.com coolinterview.com maximizedlivingdrlabrecque.com wrist-band.com eukhostreview.org mybangalore.com healthy-choice.ca dailynewsblog.net chadbrady.com adultxxxmovie.blogspot.com seoprodigy.com nofaxpaydayadvance.me.uk thesubway.com phoenixautoglassrepair.net khmerblock.com dillydesigns.com piratedden.blogspot.com hartzkoi.com great-isp-deals.com execnetproperties.com lachaboladehielo.org directorysacramento.com worldbestroulettesystem.com income.com accidentspecialistsolicitors.co.uk downloadstartrekepisodes.blogspot.com webguild.org downloadsquad.com windowfixinc.com tacomareviews.com megaleecher.net feelgoodstories.com singdirectory.com cartelagency.com vanhirebristol.net investinnest.com infoseeksoftwaresystems.com freedating.co.uk opportunityreviewer.com niagarafallscanada.travel financial-planning-classes.com lost-tv.info faceyouracne.com burnthefat.ws s5.com cinderellashomecare.com travelulu.com isellpagerank.com ukfinancials.com TwilightPoint.com vestasoft.ir accountingb2b.com familylobby.com downloadthesimpsonsepisodes.wordpress.com auroinfo.com ballhype.com conservationmart.com dnrwoodworks.com downloadhappytreefriendsepisodes.weebly.com rubberclubbers.com savestanton.com manageengine.com tamilnadu-classifieds.com spfstore.com pro-vclinic.web.id parentsupermarket.com gertrudehawkchocolates.com collegeathome.com barskydiamonds.com horsetraderonline.co.uk skillstrain.co.uk downloaddegrassithenextgenerationepisodes.wordpress.com directoryniche.com powerscribe.com 100topbpocompanies.com yosemite-national-park.net dunelm-mill.com airsoftriflesonline.com stumbleupon.com astrology-enterprises.com monyy.co.uk assetsurveillance.com.au iphonepasaule.lv gilmore-girls-episode.info hirecontentwriters.com technical-australia.blogspot.com dressing.me canvasdezign.co.uk toponlinestoresdirectory.com everestdebtsolutions.com ebiznuggets.com carpet-cleaners-devon.co.uk bbspot.com infochachkie.com websharp.wordpress.com ericsincomeplan.com rusticoleather.com wallpapermoz.com blognishine.blogspot.com hotjobsinhospitality.com destroyedbrand.com manninghydraulicpneumatics.com.au nonioffice.com wetrain.biz stompernetformulaf5.com gawker.com earlycash4u.com premiumcreditfix.com weightloss-index.com musicworkx.com al.us harry-inc.com mortgagerates123.co.uk volcano-vaporizer-cheap.weebly.com fospat.co.uk avtorentacar-bulgaria.com cfcoklahoma.org add-url-links.com getacnetreatments.com site5review.org newmediadenver.com fast-report.com sequd.com office-furniture.com.au stumpedia.com dirty-telefonsex.com mastercollect.com bolidesoft.com download-house-md.sampasite.com wuyiteaguru.com dancedirect.com companyinc.net mobile-phones1.co.uk naturalfertilizerresources.com businessmanagementanalyst.com virtual-serial-port.com jackrouse.com usedpickuptruckdeals.com wises.co.nz vintageschwinns.com downloadcharmedepisodes.blogspot.com tridentdebtsolutions.com forgangolf.com audioadsecretsrevealed.com waytophone.wordpress.com diamondpage.info 2010fifaworldcuptravel.com preparedplanet.com consortestate.com downloadreaperepisodes.weebly.com bharatstudent.com gnamusic.biz publicmarriagerecords.org yahoo-cash-4-idiots-review-bonus.blogspot.com internetmarketinguncutreview.com baby-room-decorations.com theloansstore.com collegestory.com bestdollgames.com wemonade.com ajsquare.com SonicZooms.com cheaplimohire.com forexgladiator.com athlette.net samanthassecrets.co.uk seoandsemexpert.wordpress.com manorhousedoors.com veretekk.com apxalarmreview.com azeriblog.com downloadgossipgirlepisodes.wordpress.com nonijuiceint.com phoenixnowhiring.com weddingsnafu.com regal360.com acmobilku.com premierpestman.com clickcollectors.com luved.net onlinefreebollywoodmovie.blogspot.com proactivephysicianservices.com vacation-4-free.com buyflatscreenmonitors.com icases.net granite4less.co.uk directorymemphis.com buyelect.com steffans.co.uk ihitz.net newsunseo.com explosionsportswear.com filemanagement.com googlyfoogly.com dressupgames.me wetpaint.com iyogi.net draligus.net allofcraigslist.com americanchronicle.com bollyscoops.com celebritypixnow.blogspot.com simonezone.com a2hostingreview.org bite-dose.com cellphonedeal.wordpress.com geteasyloan.com sedin.org searchmor.com babycenter.com boxingtube.org merinews.com hmf-crane.co.uk homesecurity.net easypatentguide.com lockhartmachine.com hotelwebsitedesigners.com peggy-jahorina.ba jokercostume.wordpress.com utahgutter.com drugpricegrabber.com gonubieproperty.co.za gisol.com independentladies.net octopuspool.com rxpricegrabber.com golfhomeconnect.com tinyurl.com escortaccompagnatrice.com iphonegap.com mesolaserclinic.com serial-port-redirector.com acs.org agungpurnomo.com interbizdirectory.com tahitinoni.com berdklauss.com fallsinfo.com iogear.com financialresourcegroup.net matchpointnetwork.com mave.cl everquest-platinum.org bowling-balls.net downloadthevisitormovie.blogspot.com hogoworld.com bimbelgsc.com phoenix-online-dating.blogspot.com speedycash.com weeklyvacationsforless.com newcipressino.wordpress.com serial-port-splitter.com indiabook.com evawhite.com bulbdirect.com wellnessbereich.com babyshere.com restaurant-management-opportunities.com pornboard69.com movingcompanies.co.il hsastudios.com directorymilwaukee.com astrosauce.com voy.com stuffucanuse.com brandingyp.com cheapest-service.com humanmetrics.com gt-rforum.com congoo.com foxyfemalecelebs.com herniated-disc-treatment.net blog.co.in bigplanners.com chelstondirect.com metropacificbank.com hdvstudio.com axiombpm.com cash81.com martialartfinder.com ticketerasers.com superbhostingreview.org downloadgreekepisodes.weebly.com mobilepreviews.com newyorktripplanner.com extratasty.com exerciselane.com floortechnologies.com website-designing-services.com moonviewsanctuary.com wilmotcorporate.blogspot.com watch-basketball-now.com buyrentsellfl.com nwnanny.com seoservicesfree.com energy-superstore.com fukme.info mobilerates.info bestfakedoctornotes.com clickbank.net nicetobook.com myob-id.com minizebra.com newsbusters.org attorneysdelivered.com moraleonline.com spacify.com ezinearticles.com downloadghostwhispererepisodes.weebly.com 1homepestcontrol.com ti360.org blackfriday.biz gototheboard.com premnathit.com securitysystemsreview.com rupizmedia.blogspot.com h2d.co.uk reality-networkers.com halloweenscene.com downloadreapertvshow.blogsome.com plussizecheap.com networkingconcepts.net ipowerwebreview.org dietsystemriches.com careertoolkits.com grouphalloweencostumeideas.wordpress.com thebestfloridaproperty.com guzelolmak.com woodirectory.com waterbridgesc.com medicalproductguide.com sagebusiness.com.au downloadthewireepisodes.wordpress.com biotivia.com deep-divers.com snazal.com paradisebabes.co.uk customwriting.co.uk surgg.com internethotels.com bestquoteus.com shopnotebookbatteries.com paydayfast.org.uk watchmyownworstenemy.com traveling9.com liver-detox.net syruptechnologies.com earthinspire.com acapglobal.com lunarpagesreview.org temporaryjobsguide.com 866nonijuice.com degrassithenextgenerationepisodes.wordpress.com inkdoodle.com clavineusa.com timesofleadgeneration.com break.com trident-insurance.co.uk InternetUptimeMonitor.com badooya.com dirtclub.com eroticandy.com betus.com annettesfavoritegifts.com thelubecenter.com recordcheck.com bestdiamonds.co.uk argos-sports.co.uk tekmatic.com downloadharrypotterthehalf-blod.blogspot.com find-schools-online.com anxiety-drugs.net dotnetkicks.com aogbaskets.com playonlinegames.info travelfactfile.com jizmark.com greenfitnessworld.com facades.com kusadasiinternationalgolfresort.net europeanworldtravel.com asksunday.com escortsexotica.com smoke51.com finance-help-guide.com efurnitureusa.com handymoves.co.uk hosting-rebate.com whatsthelatest.net uniquevanities.com transmission-parts.net locklizard.com watch24online.tv downloadlostepisodes.wordpress.com goldencircle.net stsolutionsllc.com dot5hostingreviews.org pspgamesdepot.com headsupforyou.net qminime.com newjerseydefensivedrivingonline.com expressdelivery.biz pekpongpaet.com worldwidefta.com hcchotels.es cracked.com siondo.com mobileflame.blogspot.com 4women.com expertplumbingutah.com ajauctionpro.com moneyparty.com fastdownloadsoftware.com martdirectory.com morrant.com bizaims.com quangminhcandle.com powerenhancer.co.uk buy-term-papers.net adequacy.org davincisline.com angelmedflight.com deals2nokia.com eastoftheweb.com weddingstrategies.com blogsites.com initechrestoration.com PervasivePersuasion.com voiceringtones.biz gourmetcoffeexpress.com moviemagellan.com dura-bulldogbedz.blogspot.com applevalleysforeclosures.com pets-doc.com yorkfitness.com athenasecurity.net localgangbang.com lucklover.com idiot-proof-diet.com reviewbidets.com improvebydoing.com thebostonhometeam.com hp-laptop-batteries.net downloadthat70sshow.blogsome.com animationtechnologies.co.uk downloadhappytreefriendsep.sampasite.com tickettoad.com jmkeystone.com bigbox.com sunlight-bingo.co.uk sulekha.com hotelsatanywhere.com sportsviews.com suncoasterholidays.com devilcalledlove.com ebizmba.com homebuildingremodeling.com egitimi.biz slingsby.com xing.com chiangmai-luxuryhotels.com online-shirt-stores.com this-page-intentionally-left-blank.org scarsdalediet.com reversephonedetectives.com floridaworkerscompensationlaw.com searchmarketingsales.com claritaslux.com downloaddesperatehousewivesepisodes.wordpress.com hotelinternetmarketing.com search4marketing.info hugedrive.com wholesaleanywhere.com themansfieldherald.com carlsoncollier.com discoveryourpersonality.com cineromance.com musical-music-scales.com online-drugs-no-prescription.com ForFeetSake.ca datecentral.com.au ocinnovationvault.com chiangmai-vacations.com hotelectronicsproducts.com connect4web.de online-betting-site.com villas-apartments-moraira.co.uk skyfly-travels.com downloadjerichoepisodes.wordpress.com concealedcarrytips.com gallerytours.net heavenlytreasures.com suhongeatery.com t-a-w.blogspot.com womenandhairloss.org siliconwebtech.com nicheblueprintreviewbonus.com technobuzz.net marketresearchanalyst.com usana.com directoryamerican.com cheap-computer-electronics.blogspot.com online-dating-coach.com tubefilter.tv kidiezone.com avedalosangeles.com canfieldcustompumps.com weddinglenox.com organicpurelynatural.com golfandsports.com buy-webkinz.net lazymanandmoney.com gerbilcoloncleanse.com bugonblog.com eexplore.org techtree.com collegedegrees.com hartley-botanic.co.uk myhoneysuckle.com myphillynetwork.com thecomedynet.com victorvilleforeclosure.com driver-aces.com fotoviewr.com seov2.com ipodroom.com web-design-india.com soup-pro.com virtualbpo.net getmobiles.co.uk vbuzzer.com paradissa.com astrology-signs.org studiosalexander.com badcredit-loanlocator.com youtechno.info download-lost-episodes.wetpaint.com internetservicedeals.com clock-collectibles.com emcelettronica.com dharmasedana.com eastcoastvette.com mandmdesignflooring.com badmintonshopping.com aninstantsale.co.uk thenextweb.com 10daygiveaway.com coralsupreme.com strategies.com.au flixya.com airticketspro.com globatreview.org repairmobiles.blogspot.com downloadtheocepisodes.blogsome.com exoticindiaart.com glassofvenice.com medtronicleadrecallcenter.com hosticanreview.org adultsonlylist.com valioso.biz manta.com shrimprecipe.org free2.co.uk pidexsolutions.ca pmtrainingonline.com kpsskursu.blogspot.com axislabs.net all-wedding-ideas.com accordion-music.net denverderm.com nostinkybutts.com 3walim.com zoominfo.com cardspot.net simply-romantic-ideas.com shishnet.org iyogibusiness.com about.com messmo.com topwebhostingreviews.org ayasmo.com online-new-movie.blogspot.com curdbee.com girlygamez.com tendulkar.co.in downloadknightridertvshow.blogsome.com anhostingreviews.org survivalwarzone.com puretermpapers.com highrollertoys.com hollywoodfail.com freestuffhotdeals.com datingseasons.com bhavyavoice.blogspot.com limohirelondon.co.uk floridacaraccident.com mexico-vacation-spots.com absolutecolour.com.au afabplacetostay.com apllc-connect.com deals2motorola.com disneyvacationspecials.com iipvapi.com nlpco.com rss-business.com wedmeshop.com lostthetech.com thecontractoroffice.com omegashipping.com d2info.com discountmilitarystore.com dataentrylover.com debtreduction123.net creditcardmachinesforfree.com lifepositive.com britain.tv parkcitysold.com jewelerlocal.com download24episodes.wordpress.com uniquedressup.com dotcominfoway.com realestateoutpost.com dchistorictours.com frankelrealtygroup.com calidagaming.com icedcelebs.com download-criminal-minds.weebly.com casinator.com actionseating.com thefatherofthebridespeech.com cellphones-advisor.com epestsolutions.com mblwellness.com lhj.com downloadstartrekepisodes.sampasite.com johnreel.com businesstripsecrets.com maithai-exports.com healthyupkeep.com wongwienyai.com psoriasissym.wordpress.com insuranceextra.com michaelshouse.com siciliasud.it lilmuse.com webdesign-edge.com readycontacts.com submitedge.com ferraridrivingschool.com lake-mountain.com freeandinstantpeoplesearch.net thedogvote.com ultrawebsitehosting.com travelcheaptravelwell.com thesportshq.com wealth-motivation.com whitesidemanor.com jokesnhumor.com musiciansradio.com walimedia.com how-to-find-people.net freegrant-secrets.com moneymakemachine.blogspot.com squidoo.com greatskinkc.com tahitian-juice.com suncao.com ordersomaonline.info carshowreviews.com homenethive.co.za telugudreams.com h1bh1b.com partnersm.com colleges.com ipcworx.com twitterhandbook.com indianmuslims.info climatarians.org exclusive-mortgage-leads.org weekslerman.com thecookinggames.com download-friday-night-lights.weebly.com playstation4guru.com rusticahardware.com warehousetickets.net download-ghost-whisperer-episo.sampasite.com antistretchmarktreatment.com jokergrandheritagecollection.wordpress.com gvke.com safetyprotectiontechnology.com fantastic-logos.com online-kinderwelt.ch profitablenuggets.com top1replica.com indianlawyersdirectory.com oracleti.com quicklol.com artition.com alarmsystemsdirect.com jaguarmarketingrevealed.com trojan-hardware.com nakedtube.com roulettecasino.info watermarklearning.com spicybollywoodnews.blogspot.com hometheatre-secrets.com finda.co.nz craftsheppardlaw.com couponpass.com downloadpsychepisodes.wordpress.com rsshugger.com i-netsolution.com faksue.com hotelsatanywhere.com martin-soft.com apply-for-a-credit-card-now.com shoptoearn.net hostpapa-review.org acneadvicecenter.com flixdump.com downloadsailormoonepisodes.sampasite.com facedoctor.ca apexglobalsolutions.com peterpottergallery.org crminfoline.com bali-vacation.biz myfinancebutler.com buyusedcommercialtrucks.com cnc-machines.org allcarnival.com muscle-relaxers.net ferrarisafetycourse.com mikeraincash.com budgetapparel.com fynesaudiology.com wellnessvisit.com americangreenclean.com expandasignusa.com stockhouse.com xahlee.org killerflow.com CarInsuranceMyFreeQuotes.com picanswers.com londonhypnotherapist.com cyclart.com sigmainfotech.com.au reversecelllookupnow.com thinkhost-review.org otavo.net researchdietpills.com downloadprivatepracticeepisodes.wordpress.com igbarb19.wordpress.com barbiegirls.ws zeuscart.com carpetcleanerssaltlakecityutah.com affluence.org vkontakte.ru knifenordic.se arvindgaba.com imfreakz.com loansonbenefits.co.uk downloadghostwhispererepisodes.blogspot.com downloadonetreehill.wordpress.com appsvilla.com paynetsystems.com downloadarmywivesepisodes.wordpress.com axehaircrisisrelief.org herbalspan.co.uk newindiamodels.com helmetcamlive.com readinglesson.com godzgirls.com associatedcontent.com microshred.wordpress.com clavebodycare.com avnow.co.uk smouch.net vacanttravel.com gravitydefyercomfortshoes.blogspot.com therealwolfofwallstreet.com bellobagno.com downloadbostonlegalepisodes.wordpress.com visitwisrapids.com cijo.i.ph customcomputerpackages.com business-debt-collection.com speculatingsports.com nexteve.com dressup.me seomarketingworld.com lifevestpublishing.com homesportland.com makemoneybloggingreviews.com hybrid-rental-car.com e3b.org xomba.com federal-grant-money.net tvbydemand.com sirhome.com infrawavespeedovenonline.com downloadtwilightmovie.blogspot.com nytimes-se.com doteasyreview.org accountinglisting.com locallylocated.com marketing-research-surveys.com citysearch.com impulsetickets.com nationwidedivorcerecords.org wazzupmanila.com passitdeep.com godfreyfitzgerald.com watches-bargains.com nancysellsthelake.com quoteassure.com inyourshirt.tv behappy2day.com heimarbeit-zuhause.com avishaycarpet.com tuffcookieaccessories.com rezv-resveratrol.com excelhighschool.com physiciansofficeresource.com mediafire.com holidayhomelistings.com equitygroups.com memorial-urns.com houstonnowhiring.com carseatsavings.com corythrelfall.com resumesplanet.com bloggingstocks.com downloadsailormoon.blogsome.com unleashthepowerofthree.com speecheasy.com trafficassistants.com campbellsolberg.com new-blog-beginner.blogspot.com sefanboy.com webtvhub.com downloadsharkepisodes.blogspot.com scarlettlawgroup.com accentbuildingproducts.com buyreductil.co.uk roadmap2richesteam.com esvconstruction.com haileyswish.org downloadsouthparkepisodes.blogsome.com psychicpowerdevelopment.com curesnatural.com downloadpowerrangersepisodes.wordpress.com mini-chandelier.com nichea.info downloadalltvshows.blogspot.com tysblog.com hesperiaforeclosure.com projectseminars.com smoochin.co.uk nationalmanagement.net uniquerocks.com addadhdblog.com xs.to gamerzone.com.br viewtier.com healthdiscovered.com tech.nocr.at apxalarm.com nurtursalon.com lincenergy.us e-kontakt.se CPAP4Truckers.com indianchild.com south-park-episodes.info digitivity.com rideaufloristottawa.ca blogs.ebay.in thailand-travelonline.com vistaprint.co.uk mindaict.blogspot.com dolphinfitnessonline.com nearu.us snackfeed.com bestgrowthstock.com leads-junction.com incien.com totalconceptshair.com payloadz.com preconstructionmanagement.com pageformance.ch downloadsailormoonepisodes.blogspot.com PruneMyRoses.com obamasdeal.com consolidate4free.com outsourceportfolio.com ethanpaulfountains.com zoom-kerala.blogspot.com downloadpspfree.wordpress.com partsprovider.net softcellsolutions.com europasobreruedas.com coppingoff.com riverridgecommunities.com topxml.com travelinsurancequotes.ca search-engines-optimization.com jordansays.com autoinsurancequotelist.com downloadscrubsepisodes.wordpress.com rxslimming.com directoryphiladelphia.com manydressupgirls.com hunkymalestars.com drmosser.com findchinesesuppliers.com thewatchprofessionals.com wordreport.com audacityofhypocrisy.com download-er-episode.weebly.com beautybasicsupply.com busycode.com free-press-release.com voyagesrealestate.com unlockcell.com xorb.us execcrossing.com onlinefreehindifilms.blogspot.com sunshineis.blogspot.com leasemanagement.co.uk youngfogy.com elottery-syndicates.com cattlecountryradio.com equityrise.com terabytezone.com minizebra.ro dragonballzoid.com papayaone.com youlay.net footballadvisers.com netmovieworld.blogspot.com educdata.com kerrysteigerwalt.com slowdownhere.com downloadtheocepisodes.blogspot.com netzarkaden.de itrunsinmyfamily.com michaelmobley.com loansforuk.co.uk hollywoodfreemoviedownload.blogspot.com envirolaw.com downloadheroesepisodes.wordpress.com ediblecreations.blogspot.com gynecomastiacure.net onlinestorelist.com anand.typepad.com moroccanventure.co.uk handbag-review.com download-desperate-housewives.blogspot.com baskinscreek.com emailcenteruk.com criminaljusticeusa.com cottonwooddetucson.com dealflow.typepad.com jewelerjewelry.com faux-fur-coats.net attorneyreferralatlanta.com earticlesonline.com coinsbullions.com cooking-games.ws auto-reservation-plus.com submityourarticle.com buyuseddumptrucks.com listown.com cirtexhostingreview.org download-greys-anatomy.weebly.com keynoteresource.com tefly.net westonwoodsolutions.com buffalobeast.com onlinegaming4u.co.uk crazylifeblog.de tradegoldonline.com deals2give.com freepspdownloadsmovies.wordpress.com roulette-money.com skiphireinlondon.co.uk pardontheinformation.com everdrive.com localdrugrehab.com athleticsinthenews.blogspot.com consumerpricewatch.net iwebconnects.com fastpsoriasisrelief.com easypocketbikes.com intellias.com keepontalking.com pickuptrucksdirect.co.uk kidspotsocial.com.au hasthelargehadroncolliderdestroyedtheworldyet.com freesimcardsnow.co.uk ehlinelaw.com officechairs.org downloadcriminalmindsepisodes.wordpress.com listingb.com rndinfo.com cosmedocs.co.uk flyingcowdesign.com prontohotel.com ixwebhostingreview.org nwtaxsolutions.com efactor.com rfidied.com girls-dress-up.com rushimprint.com autoloanexperts.net laserhairremovalbysia.com.au newsathorn.com greekgourmand.blogspot.com bodybuildingfactory.com peggylstevens.com easyrakeback.se partageznouvelles.com downloadweedsepisode.wordpress.com downloadmonkepisodes.wordpress.com downloadhousemdepisodes.wordpress.com surveillance-video-camera.net downloadfrasierepisode.weebly.com dubaifurnishedrentals.com autismsupportnetwork.com watchniptuck.org personalfinanceanalyst.com bulgariasunandski.com luckycoupon.com download-heroes-episode.weebly.com sunfilings.com raceweapons.com giftstoindians.com online-college-blog.com balisutra.com freetrials.me odinnsorensen.com metro.com guessforfree.com myphamoriflame.com ebcbrakes.com net-zona.ru insurancebureau.com realsubliminal.com bestcollegerankings.org cocompliance.com easycgireview.org sexcoventry.com iobit.com weddingcarhire.org.uk jlbghealth.com alexwilhelm.com snagsta.com diritto.net netkushi.com torontoshoppinglist.com exotic-body-jewelry.com webhostingpadreview.org mybratzgames.com ymcanyc.org simpledistributors.com portable-satellite-radio.com torontoescort.com my-batteries.net guruengineers.com searchengineoptimisationworks.com.au xanga.com storesonlinepro.com ba-business-management.blogspot.com business4profitsystem.com pizzaovenparadise.com bernsteinslaw.com jena-malone.info bratzgames.biz freeforex-tips.com watchthelword.org tipsforhealth.org babybuysdirect.com bridal-gown-online.com downloadcsiepisodes.wordpress.com theemailadmin.com vacation-rentals.com snoring-prevention.net svchronicle.com cheapdownloadsoftware.com ca-californiatrafficschool.com provoicebroadcasting.com errorhelp.com esearchdoctors.com hamomilaki.blogspot.com cdcoupons.com onlineforextrading.com downloadhellskitchenepisodes.wordpress.com downloadjourneymanepisodes.wordpress.com mixx.com all-lift-chairs.com used-carsonline.com auto-financed.com hostgatorreview.org downloadtheofficeepisodes.wordpress.com dsanz.co.nz downloadengineeringbooks.wordpress.com mtgitright.com laptopbatteryoutlet.com teenwag.com didyoutryrebooting.com picasoconsulting.com 2ono.com funis2cool.com bomarphippslaw.com kitesurfari.com bestdollmaker.com advantageedu.com downloadreaperepisodes.sampasite.com soothingwalls.com e-kontakt.dk dsdbookstore.com injury-attorneys.com igroupltd.co.uk monroescoffee.com formosaexporter.com centerforsmartlipo.com concealedweapontips.com inferisonline.com BootyCampFitness.com theprofitprocess.com networking-newbie.blogspot.com insurancequotemarket.com dreamcatchercalendars.com loverslawn.com mesobeautiful.com downloadgossipgirl.blogspot.com downloadcityofembermovie.blogspot.com paperdeals.co.uk shortsaleandrealestate.com marketingignite.com lanebuni.eu downloadlasvegasepisodes.wordpress.com fcbco.com investingqa.com jetsetmatch.com bachelorsdegreeonline.com flauntla.com drmichaelgarrett.com stopanxietyattacksonline.com sextoy.com xn--22ckj0hey2b4b4nvb.net maximizedlivingdrfrancisdrbagwell.com online-free-movie.blogspot.com thejewellerychannel.tv mattsinsurance4ca.com apps4rent.com weblo.com 1personalfinance.com careersdreams.blogspot.com allroulettesystems.com download-chuck-episodes.wetpaint.com medical-administrative-assistant.com benparr.com nomedical.net onlinepharmacy.ag musichousemastering.com joneshonda.com downloadbeverlyhillsepisodes.blogspot.com e-cheapcigarettes.com odnoklassniki.ru brutusreport.com moxtravel.com eway.blogspot.com phonebillhelp.com iyogi.net.au solutionshall.com helium.com spuko.com fdshows.com nurses2canada.net socialmediarockstar.com richindian.com hospicetips.com mybankruptcyalternatives.com slashbe.com mychoicefinance.com.au penisextenders.net mp3songz.blogspot.com frango.se wired-destinations.com googleshadowdjk.net searchsave.com bodyshaperz.com skftile.com asianinfo.org bluehostreview.org danforthdiamond.com registeredsexualpredators.org businesspundit.com bluesoft-seo.cl airsoftdiscounts.com indiaparenting.com famn-law.com merchantcircle.com downloaddeathracemovie.blogspot.com obagi-skincare.com hardnewsmedia.com rotonation.com freeonlinediet.blogspot.com paydaycashtoday.co.uk deals2samsung.com online-diet-drugs.com college-works-painting.com garlandmotorsports.com skinlaboratory.com techjaws.com shopshop.com earthstreasure.com hindi-songs-indian-movies.blogspot.com findadate.com rbscores.com downloadspspunlimited.wordpress.com taringa.net zimbio.com scottfisherlaw.com palm-springs-ca.org sprint-really-sucks.com download-sex-and-the-city.wetpaint.com fiduciaryinvestmentadvisor.com topmexicorealestate.com thiscouldbehuge.com vipwebtraffic.com loanmediate.com servicelive.com aretecon.com allwebsolution.biz motortradeliabilityinsurance.co.uk big-apple-dating.com money.co.uk zebragames.gr plurklayouts.com downloadhenrypooleisheremovie.blogspot.com celebsrc.com associatedbrokersnw.com sibu.com metalhead.ro google.com.ar cheatmasters.com londontowndating.com infonet3.com sleepdrugs.org thakerlaw.com useyourcomputer.wordpress.com artandspace.de onlinecouponsecrets.com timesofitsecurity.com qualityhealth.com househitz.com malabargoldindia.com qualifiedimpressions.com petsbest.com museumoftattoos.com thailandadventures.wordpress.com realestateforeclosuresinvesting.com intrench.blogspot.com downloadlaworderepisodes.wordpress.com gigstreams.com praguesquarehostel.com soulcast.com logoinn.com themerchantmoneyfund.com gbgvitality.com exercise-equipment.org rapidlearningcenter.com downloadmenintrees.wordpress.com on-callcomputer.com domainsoil.com reoinvestmentgroup.com collegestories.com stophotflashes.org offshoreaccountingtaxation.com actc.co.nz watertanksdirectory.com.au downloadprisonbreak.wordpress.com carloan123.net addisonklein.com bahay-bahayan.com diet-drugs-online.com palmerinvestigative.com web2miami.com downloaddesperatehousewivesfree.wordpress.com wildthing-tattoo.de easytoinsureme.com lucia-blueridge.com aquariumforum.com lazer-marketing.com adobecigarettes.com pyzam.com masscontrol20frank.com caveon.com primekc.com playandlearnguitar.com livematchcricket.blogspot.com more-information-about.net deals2sony.com downloadtheunitepisodes.wordpress.com hostrocketreview.org cheapmonthlymobile.co.uk fxupdates.com fasolla.com wecompareinsurance.com valleywag.com jahorinahoteli.com siteground-review.org jobslover.com ukbroadbandforum.co.uk hibiscusnaturals.com executiveperspectives.com downloadbrotherssistersepisodes.wordpress.com galatta.com blueoceandirect.co.uk calatoriileninei.blogspot.com downloadhousemd.wordpress.com healthandendurance.com johnadams-edu.us netshades.com buildingregister.com blogcarnivalloansandfinance.blogspot.com chiefexecair.com www.interweb.in casino-bonus-bagging.com sinavi.biz hacktooling.com kissingknowhow.com hollandindustrial.com .sanjeevbuildwell.in e-gia.com goutrelieffast.com daytonohiomortgagesource.com 1mage.com mcafeesecure.com onlinesurgery.com project-quick-cash.blogspot.com perfectphone.wordpress.com arkansasinsurancelead.com healthinsureleads.com weirdasianews.com kitchenspro.com submitthisarticle.com hotreviewsproducts.com perustudios.com experienced-people.co.uk infomillionaire-frank.com globalwebplus.com arttowngifts.com redwinegiftbasket.com catch-a-cheating-spouse.com naughtyreviews.com weirgreen.com california-trafficschool-online.com ipafeed.com sanfranciscoducks.com wordans.com anasazi.org ubid4rooms.com download-prison-break-episodes.wetpaint.com discountweddingtravel.com fivelead.co.uk tilesporcelain.co.uk smartasians.net ogdendental.net danielfranklingomez.com knowyourmoney.co.uk momswhothink.com sweetwaterimages.com securityprocedure.com jewelryjeweler.com downloadniptuckepisodes.wordpress.com mobchina.blogspot.com stop-foreclosure-help.org longbeachislandnjhomesforsale.com processor.com downloadablepspgamesonline.wordpress.com consortmoney.com muchads.com thexxxstream.com christybharath.wordpress.com serial-port-control.com fenderflares-4you.com realvintagejeans.com dril.co.in colonbodycleanse.com mygamebusiness.com cleanlaserhairremoval.com swanfloral.com myfloridavacationrentals.biz magiclogix.com go-trace-cell-phone-numbers-free.com hubpages.com digiartbali.com products-thailand.com seasonbeauty.com e-paydayloan.co.uk smartdatainc.net tungahotels.com iyazam.com is.gd adsenselover.com livetimerecords.com www.automobileindustry.in windmill-farms-chino.com greenvilleroad.info naturalacnescartreatment.com newindianmodels.com besttaxfiling.com flooringdirect.de webauctionsdaily.com downloadreaperepisodes.blogspot.com kpsss.net criticalillnessquotes.ca yourgolftravel.com usanahealthsciences.com keywest-reviews.com webdesigningcompany.net 1investmenthelp.com gay-adult-dating.com seotrafficspider.com naturalgasheaterblog.com consumer-guide-reports.com smallbusinessbrief.com naturalherbalz.com Search24online.com gm-certified-used-ny.com supplementstogo.com girl-dress-up-games.com keywordspy.com petmovers.com wanteddirectory.com knobs-n-pulls.com bayimg.com b2bdirectory.biz babyphat.com thesweettoothfairy.com nutramale.com 4staffhandbooks.co.uk atriptoindia.com rocawear.com 411caraccident.com firstmarketbank.com hunting-dog.net floridainjurylawyer.com yogabodynaturals.com mindaverse.com downloadfridaynightlights.wordpress.com wocchat.com watchcriminalminds.net sellanythinglikecrazy.com newlifestories.com zeeol.com ed-lawfirm.com econnoisseur.com contentlaundromat.com jewelrymillion.com PublishMyself.net nazshemah.com fatcowreview.org mobilephones-reviews.com downloadknightriderepisodes.sampasite.com forexrobotreport.com onlinesport.ro mathaba.net ezmerchandise.com fitnrg.com article-treasure.com amerimail-usa.com bigdug.co.uk arvind-funnypix.blogspot.com astrofortune.net lick-a-chick.com jobdig.com scannabis.com machinesresource.com CyberCucina.com youraccountsteam.co.uk autoinsurance5.com loansplanet123.blogspot.com julianarw.blogspot.com top10workathomejobs.net download-scrubs-episodes.wetpaint.com experienceproject.com cartridgesave.co.uk internationalrealestatedirectory.com maximizedlivingdrblahnik.com confonder.com ezconsolidation.com europajewelers.com skirtsindirt.com mmaoverload.com restaurantinsurance.com RTDesignGroup.com action-dvd.com elearningyellowpages.com passionpromises.com islandsupplements.com arunsiam.co.th internetwondersezine.com celebrities-psoters.blogspot.com guardianchildcare.com.au idrivesafely.com sleepassets.com gulfstargroup.com axess4all.com bestinsurancequoteservice.com wishwrap.com freecomputersoftware.blogspot.com fastdomainreview.org beamalife.com downloadhappytreefriendsepisodes.blogspot.com lilsweetprince.com indiabroadband.net koolakoalas.com mapsofindia.com topportables.com sneakerhunt.com downloadfridaynightlightsepisodes.wordpress.com exchange4projects.com laparoscopyhospital.com downloaduglybettyepisodes.blogspot.com makerealmoneyontheinternet.com conquestgraphics.com onlineuniversities.com blinkingsun.com greatsewingmachinebargains.com gasboiler-buyability.co.uk imagevisiondesign.com ramki.co.uk storesonlinesuccessblog.blogspot.com trafficgeyserseo.com carmoneyrealfast.com youand.me downloadsouthparkepisodesfree.sampasite.com MusicalArt.com buystoresonlinepro.com markgoulston.com mylogoimprinted.com cbseresult.blogspot.com pacifictalent.com dominicantrip.com downloadheroesepisode.wordpress.com bit.ly basicseoinformation.blogspot.com bumpzee.com googlemri.com vietravel247.com lulu.com bedworthsex.com teachercare.com babycity.co.uk pharmaproductreview.com casualdate.net.au cheat-project.com nocostclassifieds.com ehliyetsinavsonularisonucusorulari.blogspot.com FoundMyFuture.com cardcafe.com wrestling.funpics.in)The great majority are banned for spamming and/or voting rings.  Others (like url shortening services, squidoo, etc) are banned because they're often used by spammers.  Others are banned for the reasons I listed in that recent essay: linkjacking, being offtopic, or characteristically being fluff.\n",
            "NEW_COMMENT__________________________________________________________________________________________________________________________________\n",
            "extracted (a bit buggy) without permission from \n",
            "http://www.zein.se/patrick/3000char.html的 de 的 yī 是 shì 不 bù 了 le 人 rén 我 wǒ 在 zài 有 yǒu 他 tā 这 zhè 中 zhōng 大 dà 来 lái 上 shàng 国 guó 个 gè 到 dào 说 shuō 们 men 为 wèi 子 zǐ 和 hé 你 nǐ 地 dì 出 chū 道 dào 也 yě 时 shí 年 nián 得 de 就 jiù 那 nà 要 yào 下 xià 以 yǐ 生 shēng 会 huì 自 zì 着 zhe 去 qù 之 zhī 过 guò 家 jiā 学 xué 对 duì 可 kě 她 tā 里 lǐ 后 hòu 小 xiǎo 么 me/mo 心 xīn 多 duō 天 tiān 而 ér 能 néng 好 hǎo 都 dōu 然 rán 没 ) 日 rì 于 yú 起 qǐ 还 hái 发 fā 成 chéng 事 shì 只 zhǐ 作 zuò 当 dāng 想 xiǎng 看 kàn 文 wén 无 wú 开 kāi 手 shǒu 十 shí 用 yòng 主 zhǔ 行 xíng 方 fāng 又 yòu 如 rú 前 qián 所 suǒ 本 běn 见 jiàn 经 jīng 头 tóu 面 miàn 公 gōng 同 tóng 三 sān 已 yǐ 老 lǎo 从 cóng 动 dòng 两 liǎng 长 cháng 知 zhī 民 mín 样 yàng 现 xiàn 分 fēn 将 jiāng 外 wài 但 dàn 身 shēn 些 xiē 与 yǔ 高 gāo 意 yì 进 jìn 把 bǎ 法 fǎ 此 cǐ 实 shí 回 huí 二 èr 理 lǐ 美 měi 点 diǎn 月 yuè 明 míng 其 qí 种 zhǒng 声 shēng 全 quán 工 gōng 己 jǐ 话 huà 儿 ér 者 zhě 向 xiàng 情 qíng 部 bù 正 zhèng 名 míng 定 dìng 女 nǚ 问 wèn 力 lì 机 jī 给 gěi 等 děng 几 jī 很 hěn 业 yè 最 zuì 间 jiān 新 xīn 什 shén 打 dǎ 便 biàn 位 wèi 因 yīn 重 zhòng 被 bèi 走 zǒu 电 diàn 四 sì 第 dì 门 mén 相 xiāng 次 cì 东 dōng 政 zhèng 海 hǎi 口 kǒu 使 shǐ 教 jiāo 西 xī 再 zài 平 píng 真 zhēn 听 tīng 世 shì 气 qì 信 xìn 北 běi 少 shǎo 关 guān 并 bìng 内 nèi 加 jiā 化 huà 由 yóu 却 què 代 dài 军 jūn 产 chǎn 入 rù 先 xiān 山 shān 五 wǔ 太 tài 水 shuǐ 万 wàn 市 shì 眼 yǎn 体 tǐ 别 bié 处 chù 总 zǒng 才 cái 场 chǎng 师 shī 书 shū 比 bǐ 住 zhù 员 yuán 九 jiǔ 笑 xiào 性 xìng 通 tōng 目 mù 华 huá 报 bào 立 lì 马 mǎ 命 mìng 张 zhāng 活 huó 难 nán 神 shén 数 shù 件 jiàn 安 ān 表 biǎo 原 yuán 车 chē 白 bái 应 yīng 路 lù 期 qī 叫 jiào 死 sǐ 常 cháng 提 tí 感 gǎn 金 jīn 何 hé 更 gèng 反 fǎn 合 hé 放 fàng 做 zuò 系 xì 计 jì 或 huò 司 sī 利 lì 受 shòu 光 guāng 王 wáng 果 guǒ 亲 qīn 界 jiè 及 jí 今 jīn 京 jīng 务 wù 制 zhì 解 jiě 各 gè 任 rèn 至 zhì 清 qīng 物 wù 台 tái 象 xiàng 记 jì 边 biān 共 gòng 风 fēng 战 zhàn 干 gān 接 jiē 它 tā 许 xǔ 八 bā 特 tè 觉 jué 望 wàng 直 zhí 服 fú 毛 máo 林 lín 题 tí 建 jiàn 南 nán 度 dù 统 tǒng 色 sè 字 zì 请 qǐng 交 jiāo 爱 ài 让 ràng 认 rèn 算 suàn 论 lùn 百 bǎi 吃 chī 义 yì 科 kē 怎 zěn 元 yuán 社 shè 术 shù 结 jié 六 liù 功 gōng 指 zhǐ 思 sī 非 fēi 流 liú 每 měi 青 qīng 管 guǎn 夫 fū 连 lián 远 yuǎn 资 zī 队 duì 跟 gēn 带 dài 花 huā 快 kuài 条 tiáo 院 yuàn 变 biàn 联 lián 言 yán 权 quán 往 wǎng 展 zhǎn 该 gāi 领 lǐng 传 chuán 近 jìn 留 liú 红 hóng 治 zhì 决 jué 周 zhōu 保 bǎo 达 dá 办 bàn 运 yùn 武 wǔ 半 bàn 候 hòu 七 qī 必 bì 城 chéng 父 fù 强 qiáng 步 bù 完 wán 革 gé 深 shēn 区 qū 即 jí 求 qiú 品 pǐn 士 shì 转 zhuǎn 量 liàng 空 kōng 甚 shèn 众 zhòng 技 jì 轻 qīng 程 chéng 告 gào 江 jiāng 语 yǔ 英 yīng 基 jī 派 pài 满 mǎn 式 shì 李 lǐ 息 xī 写 xiě 呢 ne 识 shí 极 jí 令 lìng 黄 huáng 德 dé 收 shōu 脸 liǎn 钱 qián 党 dǎng 倒 dǎo 未 wèi 持 chí 取 qǔ 设 shè 始 shǐ 版 bǎn 双 shuāng 历 lì 越 yuè 史 shǐ 商 shāng 千 qiān 片 piàn 容 róng 研 yán 像 xiàng 找 zhǎo 友 yǒu 孩 hái 站 zhàn 广 guǎng 改 gǎi 议 yì 形 xíng 委 wěi 早 zǎo 房 fáng 音 yīn 火 huǒ 际 jì 则 zé 首 shǒu 单 dān 据 jù 导 dǎo 影 yǐng 失 shī 拿 ná 网 wǎng 香 xiāng 似 sì 斯 sī 专 zhuān 石 shí 若 ruò 兵 bīng 弟 dì 谁 shuí 校 xiào 读 dú 志 zhì 飞 fēi 观 guān 争 zhēng 究 jiū 包 bāo 组 zǔ 造 zào 落 luò 视 shì 济 jì 喜 xǐ 离 lí 虽 suī 坐 zuò 集 jí 编 biān 宝 bǎo 谈 tán 府 fǔ 拉 lā 黑 hēi 且 qiě 随 suí 格 gé 尽 jìn 剑 jiàn 讲 jiǎng 布 bù 杀 shā 微 wēi 怕 pà 母 mǔ 调 diào 局 jú 根 gēn 曾 céng 准 zhǔn 团 tuán 段 duàn 终 zhōng 乐 lè 切 qiē 级 jí 克 kè 精 jīng 哪 nǎ 官 guān 示 shì 冲 chōng 竟 jìng 乎 hū 男 nán 举 jǔ 客 kè 证 zhèng 苦 kǔ 照 zhào 注 zhù 费 fèi 足 zú 尔 ěr 招 zhāo 群 qún 热 rè 推 tuī 晚 wǎn 响 xiǎng 称 chēng 兴 xìng 待 dài 约 yuē 阳 yáng 哥 gē 惊 jīng 吗 ma 整 zhěng 支 zhī 古 gǔ 汉 hàn 突 tū 号 hào 绝 jué 选 xuǎn 吧 ba 参 cān 刊 kān 亚 yà 复 fù 伤 shāng 类 lèi 备 bèi 欢 huān 另 lìng 港 gǎng 势 shì 刻 kè 星 xīng 断 duàn 陈 chén 掌 zhǎng 农 nóng 夜 yè 般 bān 念 niàn 价 jià 脑 nǎo 规 guī 底 dǐ 故 gù 省 shěng 妈 mā 刚 gāng 句 jù 显 xiǎn 消 xiāo 衣 yī 陆 lù 器 qì 确 què 破 pò 具 jù 居 jū 批 pī 送 sòng 泽 zé 紧 jǐn 帮 bāng 线 xiàn 存 cún 愿 yuàn 奇 qí 害 hài 增 zēng 杨 yáng 料 liào 州 zhōu 节 jié 左 zuǒ 装 zhuāng 易 yì 著 zhù 急 jí 久 jiǔ 低 dī 岁 suì 需 xū 酒 jiǔ 河 hé 初 chū 游 yóu 严 yán 铁 tiě 族 zú 除 chú 份 fèn 敢 gǎn 胡 hú 血 xuè 企 qǐ 仍 réng 投 tóu 闻 wén 斗 dǒu 纪 jì 脚 jiǎo 右 yòu 苏 sū 标 biāo 饭 fàn 云 yún 病 bìng 医 yī 阿 ā 答 dá 土 tǔ 况 kuàng 境 jìng 软 ruǎn 考 kǎo 娘 niáng 村 cūn 刀 dāo 击 jī 仅 jǐn 查 chá 引 yǐn 朝 cháo 育 yù 续 xù 独 dú 罗 luó 买 mǎi 户 hù 护 hù 喝 hē 朋 péng 供 gōng 责 zé 项 xiàng 背 bèi 余 yú 希 xī 卫 wèi 列 liè 图 tú 室 shì 乱 luàn 刘 Liú 爷 yé 龙 lóng 咱 zán 章 zhāng 席 xí 错 cuò 兄 xiōng 暗 àn 创 chuàng 排 pái 春 chūn 须 xū 承 chéng 案 àn 忙 máng 呼 hū 树 shù 痛 tòng 沉 chén 啊 a 灵 líng 职 zhí 乡 xiāng 细 xì 诉 sù 态 tài 停 tíng 印 yìn 笔 bǐ 夏 xià 助 zhù 福 fú 块 kuài 冷 lěng 球 qiú 姑 gū 划 huá 既 jì 质 zhì 巴 bā 致 zhì 湾 wān 演 yǎn 木 mù 韦 wéi 怪 guài 围 wéi 静 jìng 旁 páng 园 yuán 否 fǒu 副 fù 辑 jí 采 cǎi 食 shí 登 dēng 够 gòu 赛 sài 米 mǐ 假 jiǎ 较 jiào 姐 jiě 楼 lóu 获 huò 孙 sūn 宣 xuān 穿 chuān 诗 shī 歌 gē 速 sù 忽 hū 堂 táng 敌 dí 试 shì 谢 xiè 央 yāng 怀 huái 顾 gù 验 yàn 营 yíng 止 zhǐ 姓 xìng 养 yǎng 丽 lì 属 shǔ 景 jǐng 郭 guō 依 yī 威 wēi 按 àn 恶 è 慢 màn 座 zuò 罪 zuì 维 wéi 渐 jiàn 胜 shèng 藏 cáng 皇 huáng 街 jiē 激 jī 异 yì 摘 zhāi 角 jiǎo 瞧 qiáo 负 fù 施 shī 模 mó 草 cǎo 某 mǒu 银 yín 露 lù 阵 zhèn 值 zhí 班 bān 层 céng 修 xiū 差 chà 味 wèi 织 zhī 药 yào 馆 guǎn 密 mì 亮 liàng 律 lǜ 习 xí 田 tián 简 jiǎn 免 miǎn 毒 dú 归 guī 波 bō 型 xíng 屋 wū 换 huàn 救 jiù 寄 jì 帝 dì 退 tuì 洋 yáng 丝 sī 湖 hú 睡 shuì 劳 láo 妇 fù 伯 bó 尼 ní 皮 pí 祖 zǔ 雄 xióng 婚 hūn 康 kāng 评 píng 追 zhuī 哈 hā 络 luò 店 diàn 翻 fān 环 huán 礼 lǐ 跑 pǎo 超 chāo 叶 yè 压 yā 占 zhān 均 jūn 永 yǒng 烈 liè 奖 jiǎng 婆 pó 赶 gǎn 富 fù 兰 lán 录 lù 画 huà 遇 yù 顿 dùn 艺 yì 普 pǔ 判 pàn 源 yuán 亿 yì 素 sù 船 chuán 继 jì 尚 shàng 嘴 zuǐ 察 chá 雨 yǔ 优 yōu 您 nín 险 xiǎn 烟 yān 阶 jiē 担 dān 散 sàn 板 bǎn 钟 zhōng 访 fǎng 妹 mèi 伸 shēn 佛 Fó 限 xiàn 讨 tǎo 临 lín 吴 Wú 摇 yáo 跳 tiào 曲 qū 练 liàn 构 gòu 玩 wán 玉 yù 犯 fàn 厂 chǎng 肯 kěn 协 xié 幸 xìng 挥 ) 效 xiào 齐 qí 封 fēng 温 wēn 疑 yí 肉 ròu 攻 gōng 纸 zhǐ 策 cè 充 chōng 顶 dǐng 寻 xún 宁 nìng 沙 shā 防 fáng 抓 zhuā 例 lì 股 gǔ 卖 mài 顺 shùn 警 jǐng 梦 mèng 剧 jù 善 shàn 蒙 méng 票 piào 良 liáng 范 fàn 坚 jiān 端 duān 靠 kào 杂 zá 贵 guì 怒 nù 稿 gǎo 拍 pāi 率 lǜ 旧 jiù 掉 diào 啦 la 莫 mò 授 shòu 守 shǒu 油 yóu 恩 ēn 积 jī 益 yì 县 xiàn 哭 kū 罢 bà 庭 tíng 窗 chuāng 扬 yáng 忘 wàng 午 wǔ 卡 kǎ 雪 xuě 菜 cài 牌 pái 牛 niú 脱 tuō 博 bó 丈 zhàng 弹 dàn 洲 zhōu 松 sōng 坏 huài 邓 Dèng 鲜 xiān 短 duǎn 毕 bì 置 zhì 楚 chu 欧 ōu 略 lüè 智 zhì 岛 dǎo 抗 kàng 妻 qī 抱 bào 载 zài 败 bài 枪 qiāng 适 shì 虚 xū 预 yù 睛 jīng 刺 cì 爹 diē 纷 fēn 介 jiè 括 kuò 销 xiāo 降 jiàng 鱼 yú 奔 bēn 忍 rěn 宗 zōng 盘 pán 耳 ěr 野 yě 讯 xùn 配 pèi 禁 jìn 索 suǒ 赵 Zhào 默 mò 徒 tú 架 jià 灯 dēng 峰 fēng 状 zhuàng 款 kuǎn 移 yí 爸 bà 托 tuō 洪 hóng 升 shēng 伙 huǒ 订 dìng 毫 háo 狐 hú 镇 zhèn 床 chuáng 互 hù 套 tào 旅 lǚ 逃 táo 骂 mà 输 shū 唱 chàng 靖 jìng 秘 mì 词 cí 困 kùn 泪 lèi 熟 shú 财 cái 鬼 guǐ 骨 gǔ 申 shēn 欲 yù 征 zhēng 私 sī 舞 wǔ 秋 qiū 巨 jù 迎 yíng 秀 xiù 搞 gǎo 丁 dīng 吸 xī 审 shěn 遍 biàn 墙 qiáng 朱 zhū 圣 shèng 避 bì 跃 yuè 忌 jì 桌 zhuō 执 zhí 悲 bēi 域 yù 晓 xiǎo 弄 nòng 亡 wáng 桥 qiáo 辈 bèi 闪 shǎn 隐 ) 劲 jìn 闹 ) 恐 kǒng 呀 ya 付 fù 敬 jìng 监 jiān 厅 tīng 库 kù 震 zhèn 材 cái 冰 bīng 醒 xǐng 庆 qìng 绿 lǜ 腿 tuǐ 述 shù 徐 xú 尊 zūn 硬 yìng 额 é 误 wù 借 jiè 纳 nà 折 zhé 售 shòu 遗 yí 暴 bào 缺 quē 迷 mí 鲁 lǔ 探 tàn 货 huò 童 tóng 缓 huǎn 伟 wěi 君 jūn 庄 zhuāng 凡 fán 危 wēi 烧 shāo 彩 cǎi 抢 qiǎng 控 kòng 胸 xiōng 戏 xì 篇 piān 趣 qù 束 shù 谓 wèi 概 gài 射 shè 课 kè 洞 dòng 麻 má 杯 bēi 透 tòu 邮 ) 荣 róng 懂 dǒng 拥 yōng 献 xiàn 洗 xǐ 休 xiū 迫 pò 叹 tàn 狗 gǒu 偷 tōu 阴 yīn 汽 qì 拜 bài 横 héng 鼓 gǔ 健 jiàn 厚 hòu 签 qiān 丹 dān 洛 Luò 喊 hǎn 蓉 róng 轮 lún 岸 àn 奶 nǎi 淡 dàn 潮 cháo 训 xùn 圆 yuán 卷 juǎn 释 shì 诸 zhū 妙 miào 唯 wéi 夺 duó 逐 zhú 燕 yàn 呆 dāi 测 cè 浪 làng 抽 chōu 盖 gài 偏 piān 阅 yuè 购 gòu 途 tú 纵 zòng 耶 yé 摸 mō 挂 guà 航 háng 择 zé 恨 hèn 舍 shè 拳 quán 竹 zhú 唐 táng 誉 yù 乘 chéng 弱 ruò 检 jiǎn 宫 gōng 仪 yí 旗 qí 含 hán 袁 Yuán 址 zhǐ 摆 ) 奥 ào 番 fān 混 hùn 灭 miè 握 wò 牙 yá 虑 ) 召 zhào 猛 měng 宽 kuān 盛 chéng 核 hé 袋 dài 绍 shào 补 bǔ 典 diǎn 圈 quān 丰 fēng 雅 yǎ 吉 jí 赞 zàn 茶 chá 亦 yì 谷 gǔ 稳 wěn 汇 huì 厉 lì 届 jiè 迹 jì 雷 léi 序 xù 寒 hán 附 fù 鸡 jī 遭 zāo 挑 tiāo 肩 jiān 忆 yì 柔 róu 戴 dài 惜 xī 隔 gé 豪 háo 诚 chéng 瑞 ruì 减 jiǎn 播 bō 麼 me 针 zhēn 棋 qí 竞 jìng 臂 bì 挺 tǐng 操 cāo 腰 yāo 狂 kuáng 替 tì 梅 méi 固 gù 伦 lún 宋 Sòng 钢 gāng 诺 nuò 残 cán 延 yán 虎 hǔ 迅 xùn 灾 zāi 悄 qiāo 岳 yuè 乔 qiáo 川 chuān 仇 chóu 季 jì 吹 chuī 粮 liáng 聚 jù 译 yì 珠 zhū 叔 shū 谋 móu 础 chǔ 仁 rén 损 sǔn 融 róng 辆 liàng 净 jìng 敏 mǐn 伊 yī 仙 xiān 巧 qiǎo 零 líng 累 lèi 享 xiǎng 伴 bàn 荡 dàng 珍 zhēn 勇 yǒng 末 mò 奋 fèn 胆 dǎn 弃 qì 烦 fán 糊 hú 犹 yóu 税 shuì 培 péi 抵 dǐ 僧 sēng 锋 fēng 乃 nǎi 遥 yáo 摩 mó 坦 tǎn 後 hòu 眉 méi 餐 cān 惯 guàn 凭 píng 冠 guān 抬 tái 碰 pèng 币 bì 启 qǐ 码 mǎ 冒 mào 汗 hàn 俗 sú 灰 huī 督 dū 穷 qióng 颇 pō 倾 qīng 尖 jiān 韩 Hán 贸 mào 仿 fǎng 孤 gū 飘 piāo 漫 màn 予 yǔ 紫 zǐ 侧 cè 沿 yán 拔 bá 袖 xiù 梁 liáng 赏 shǎng 幕 mù 壁 bì 旦 dàn 晨 chén 纯 chún 闭 ) 凉 liáng 扫 sǎo 尤 yóu 炮 pào 碗 wǎn 贴 tiē 插 chā 滚 gǔn 缘 yuán 寺 sì 贝 bèi 润 rùn 氏 shì 冬 dōng 扩 kuò 栏 lán 荒 huāng 哲 zhé 逼 bī 吓 xià 堆 duī 撞 zhuàng 郎 láng 俩 liǎ 蓝 lán 闲 xián 辛 xīn 镜 jìng 陪 péi 骑 qí 蛋 dàn 促 cù 羊 yáng 宜 yí 嘛 ma 颜 yán 贫 pín 幅 fú 驻 zhù 萍 píng 污 wū 杰 jié 扑 pū 壮 zhuàng 萨 sà 刑 xíng 忧 yōu 貌 mào 狱 yù 塞 sāi 凤 fèng 孔 kǒng 触 chù 恋 liàn 岂 qǐ 森 sēn 繁 fán 碎 suì 津 jīn 侠 xiá 隆 lóng 迟 chí 辉 huī 狠 hěn 析 xī 缩 suō 穴 xué 萧 xiāo 怨 yuàn 磨 mó 伏 fú 辞 cí 泥 ní 龄 líng 径 jìng 鼻 bí 赖 lài 仰 yǎng 愤 fèn 慕 mù 俄 é 映 yìng 询 xún 惨 cǎn 麦 mài 宿 sù 倍 bèi 粗 cū 腾 téng 稍 shāo 截 jié 染 rǎn 乌 wū 愈 yù 岗 gǎng 柳 liǔ 铺 pū 涉 shè 疾 jí 挡 dǎng 奉 fèng 踏 tà 忠 zhōng 伍 wǔ 躲 duǒ 籍 jí 努 nǔ 朗 lǎng 箱 xiāng 裁 cái 帐 zhàng 兼 jiān 彼 bǐ 霞 xiá 猪 zhū 悉 xī 扎 zhā 劝 quàn 薄 báo 筑 zhù 俊 jùn 鞋 xié 距 jù 侵 qīn 欣 xīn 挤 jǐ 媒 méi 吐 tǔ 魂 hún 洁 jié 枝 zhī 盈 yíng 阻 zǔ 陷 xiàn 甲 jiǎ 郑 zhèng 鸣 míng 倘 tǎng 剩 shèng 颗 kē 拖 tuō 舒 shū 惠 huì 昏 hūn 振 zhèn 戒 jiè 丧 sàng 焦 jiāo 爬 pá 凌 líng 慧 huì 偶 ǒu 晃 huàng 桃 táo 赤 chì 烂 làn 骗 piàn 措 cuò 页 yè 凶 xiōng 泰 tài 尸 shī 坡 pō 勒 lēi 疗 liáo 塔 tǎ 尘 chén 躺 tǎng 殊 shū 慰 wèi 坛 tán 甘 gān 咬 yǎo 拒 jù 彪 biāo 炸 zhà 井 jǐng 崇 chóng 饮 yǐn 祝 zhù 汪 wāng 牢 láo 桂 guì 尾 wěi 漂 piāo 聊 liáo 撒 sā 恰 qià 凝 níng 矛 máo 於 Yū 宾 bīn 绪 xù 彭 Péng 肚 dù 匆 cōng 描 miáo 粉 fěn 贼 zéi 乏 fá 盾 dùn 愁 chóu 斜 xié 裂 liè 滑 huá 斐 fěi 废 fèi 寂 jì 涌 yǒng 详 xiáng 汤 tāng 彻 chè 玄 xuán 斤 jīn 轰 hōng 奸 jiān 怜 lián 朵 duǒ 佳 jiā 皆 jiē 鸟 niǎo 邦 bāng 扶 fú 毁 huǐ 聪 cōng 辩 biàn 瓶 píng 饿 è 蛇 shé 捕 bǔ 搬 bān 沈 Shěn 枫 fēng 舅 jiù 幽 yōu 魔 mó 琴 qín 挣 zhèng 聘 pìn 弯 wān 墓 mù 欺 qī 悟 wù 蒋 Jiǎng 臣 chén 返 fǎn 违 wéi 亏 kuī 丢 diū 援 yuán 赫 Hè 魏 Wèi 耐 nài 佩 pèi 酸 suān 盟 méng 胖 pàng 傻 shǎ 绕 rào 哼 hēng 秦 Qín 屈 qū 辱 rǔ 昨 zuó 瘦 shòu 暂 zàn 箭 jiàn 署 shǔ 赴 fù 递 dì 猜 cāi 潜 qián 鸿 hóng 绩 jì 耀 yào 涂 tú 割 gē 豆 dòu 闷 mēn 亭 tíng 祥 xiáng 励 lì 宇 yǔ 泛 fàn 狼 láng 悔 huǐ 搭 dā 舰 jiàn 浮 fú 牵 qiān 符 fú 肃 sù 奴 nú 爆 bào 姊 zǐ 幼 yòu 夹 jiā 邀 yāo 疯 fēng 允 yǔn 恼 nǎo 租 zū 椅 yǐ 尺 chǐ 侍 shì 腐 fǔ 颤 chàn 扭 niǔ 菲 fěi 瓦 wǎ 擦 cā 辣 là 奏 zòu 殷 yīn 埋 mái 摔 shuāi 盼 pàn 吟 yín 渡 dù 衫 shān 跨 kuà 醉 zuì 艰 jiān 掩 yǎn 荷 hé 苍 cāng 旋 xuán 揭 jiē 桑 sāng 仗 zhàng 莲 lián 钻 zuān 宏 hóng 幻 huàn 刃 rèn 峡 xiá 辽 liáo 娃 wá 凯 kǎi 患 huàn 障 zhàng 丐 gài 衡 héng 猫 māo 丑 chǒu 涛 tāo 暖 nuǎn 溜 liū 锅 guō 奈 nài 罚 fá 拾 shí 浓 nóng 键 jiàn 脉 mài 锁 suǒ 邻 lín 臭 chòu 芳 fāng 垂 chuí 捉 zhuō 恢 huī 姆 mǔ 砍 kǎn 驾 jià 恭 gōng 挨 āi 祸 huò 曹 Cáo 慈 cí 抖 dǒu 泉 quán 览 ) 澳 ào 脏 zāng 疼 téng 铜 tóng 羞 xiū 档 dàng 抛 pāo 苗 miáo 惑 huò 肥 féi 驱 qū 窝 wō 裤 kù 估 gū 胞 bāo 柄 bǐng 阔 kuò 杜 dù 勤 qín 舟 zhōu 帽 mào 玛 mǎ 撤 chè 频 pín 禅 chán 柯 kē 莱 lái 堪 kān 寸 cùn 哀 āi 熊 xióng 腹 fù 尝 cháng 敲 qiāo 勃 bó 巡 xún 盗 dào 筹 chóu 扣 kòu 池 chí 浅 qiǎn 柴 chái 埃 āi 嫁 jià 枚 méi 稀 xī 雕 diāo 厌 yàn 瓜 guā 寿 shòu 跌 diē 扯 chě 董 dǒng 锦 jǐn 鉴 jiàn 刷 shuā 趋 qū 捐 juān 傲 ào 贯 guàn 殿 diàn 拨 bō 逊 xùn 踢 tī 赔 péi 姿 zī 迁 qiān 黎 lí 祭 jì 滴 dī 袭 xí 慌 huāng 鞭 biān 茫 máng 逢 féng 屠 tú 昆 kūn 柏 bǎi 驶 shǐ 咐 fù 植 zhí 惧 jù 纽 niǔ 捷 jié 圳 zhèn 牲 shēng 踪 zōng 丛 cóng 漠 mò 锐 ruì 喇 lǎ 乾 qián 霍 huò 湿 shī 睁 zhēng 仔 zǐ 吵 chǎo 悠 yōu 沟 gōu 墨 mò 串 chuàn 俱 jù 陶 táo 贡 gòng 浑 hún 赢 yíng 屁 pì 驰 chí 棒 bàng 匹 pǐ 拼 pīn 恒 héng 邪 xié 脆 cuì 糟 zāo 扮 bàn 贤 xián 饰 shì 偿 cháng 拆 chāi 缠 chán 摄 shè 拟 nǐ 滋 zī 嘿 hēi 旨 zhǐ 闯 chuǎng 贺 hè 翠 cuì 缝 féng 饱 bǎo 劫 jié 抚 fǔ 挖 wā 册 cè 叛 pàn 肖 xiào 熙 xī 炼 liàn 宪 xiàn 庙 miào 碧 bì 盒 hé 谊 yì 储 chǔ 冯 píng 唤 huàn 贪 tān 卧 wò 翼 yì 扰 rǎo 胁 xié 跪 guì 碑 bēi 呵 hē 甜 tián 洒 sǎ 谱 pǔ 莎 shā 娜 nuó 阁 gé 庸 yōng 鹏 péng 覆 fù 玲 líng 侯 hóu 抹 mā 卢 Lú 碍 ài 综 zōng 丘 qiū 晕 yūn 拦 lán 燃 rán 昌 chāng 吞 tūn 嫌 xián 狄 Dí 押 yā 舌 shé 琳 lín 雾 wù 曼 màn 耻 chǐ 柜 guì 摊 tān 削 xuē 戚 qī 杆 gān 岩 yán 喂 wèi 扔 rēng 逝 shì 诞 dàn 悬 xuán 爽 shuǎng 崔 cuī 廷 tíng 凑 còu 痴 chī 盆 pén 御 yù 酷 kù 艾 ài 唉 ài 姥 lǎo 笼 lóng 颠 diān 姻 yīn 携 xié 愧 kuì 芬 fēn 穆 mù 扇 shàn 郁 yù 掷 zhì 怔 zhēng 芯 xīn 鼠 shǔ 纠 jiū 疆 jiāng 曰 yuē 傅 fù 袍 páo 唇 chún 稣 sū 捧 pěng 勾 gōu 牧 mù 儒 rú 慨 kǎi 筋 jīn 柱 zhù 卑 bēi 咽 yàn 吨 dūn 虫 chóng 绳 shéng 厨 chú 冤 yuān 涨 zhǎng 皱 zhòu 疲 pí 赌 dǔ 饶 ráo 矿 kuàng 畅 chàng 煤 méi 腕 wàn 喷 pēn 遣 qiǎn 浩 hào 翁 wēng 咨 zī 镖 biāo 屏 píng 仲 zhòng 嘻 xī 吩 fēn 棉 mián 孟 mèng 撑 chēng 炉 lú 泄 xiè 葬 zàng 搜 sōu 添 tiān 遵 zūn 迪 dí 伪 wěi 兆 zhào 欠 qiàn 谅 liàng 炎 yán 氛 fēn 杖 zhàng 瞎 xiā 钓 diào 肠 cháng 披 pī 剥 bāo 誓 shì 赚 zhuàn 役 yì 泡 pào 逆 nì 矮 ǎi 吊 diào 填 tián 嘉 jiā 烛 zhú 厦 shà 夕 xī 衰 shuāi 液 yè 薛 Xuē 仆 pū 迈 mài 齿 chǐ 谨 jǐn 呈 chéng 昂 áng 抄 chāo 弥 mí 渴 kě 梯 tī 疏 shū 耗 hào 瞪 dèng 斥 chì 夸 kuā 蒂 dì 剪 jiǎn 娶 qǔ 痕 hén 弗 fú 姚 Yáo 债 zhài 妥 tuǒ 璃 lí 掏 tāo 刹 shā 晶 jīng 衷 zhōng 肤 fū 鹿 lù 拓 tà 卓 zhuó 症 zhèng 糖 táng 钦 qīn 绵 mián 哩 lī 诱 yòu 枯 kū 歇 xiē 塑 sù 妨 fáng 豫 yù 抑 yì 珊 shān 棍 gùn 晋 jìn 淋 lín 悦 yuè 敦 dūn 艳 yàn 玻 bō 砸 zá 嚷 rǎng 盲 máng 辨 biàn 葛 gé 罕 hǎn 矩 jǔ 泳 yǒng 宅 zhái 贷 dài 膀 bǎng 捏 niē 颈 jǐng 践 jiàn 脖 bó 贾 gǔ 轿 jiào 脾 pí 堡 bǎo 娇 jiāo 浙 Zhè 劣 liè 潇 xiāo 赐 cì 陀 tuó 蓄 xù 坟 fén 颂 sòng 漏 lòu 杭 Háng 茅 máo 砖 zhuān 瞬 shùn 鹤 hè 辟 bì 渔 yú 乖 guāi 霸 bà 襄 xiāng 炒 chǎo 哑 yǎ 浦 pǔ 饼 bǐng 牺 xī 滩 tān 钉 dīng 吁 yù 锡 xī 赠 zèng 哄 hōng 铃 líng 顽 wán 殖 zhí 鹰 yīng 蔡 Cài 催 cuī 芙 fú 彬 bīn 拚 pīn 轨 guǐ 哟 yō 歉 qiàn 盯 dīng 硕 shuò 惹 rě 契 qì 愚 yú 帅 shuài 惶 huáng 憾 hàn 懒 lǎn 姨 yí 喘 chuǎn 兽 shòu 陌 mò 罩 zhào 猎 liè 嵩 sōng 盐 yán 饥 jī 凄 qī 喉 hóu 宴 yàn 腔 qiāng 翰 hàn 膝 xī 陵 líng 蜂 fēng 逻 luó 劈 pī 廉 lián 裹 guǒ 骄 jiāo 贩 fàn 绘 huì 崖 yá 辰 chén 涯 yá 戈 gē 坑 kēng 遮 zhē 擒 qín 蛮 mán 芷 zhǐ 堵 dǔ 雇 gù 挽 wǎn 眠 mián 吻 wěn 孝 xiào 泊 bó 撕 sī 虹 hóng 叙 xù 粹 cuì 勉 miǎn 竭 jié 歪 wāi 慎 shèn 棵 kē 朴 pǔ 械 xiè 溪 xī 莉 lì 斑 bān 磕 kē 寡 guǎ 循 xún 斩 zhǎn 掠 lüè 吕 Lǚ 昔 xī 郊 jiāo 爵 jué 徽 huī 磁 cí 俯 fǔ 谭 tán 鼎 dǐng 拂 fú 俺 ǎn 嫂 sǎo 帕 pà 嗯 ńg 冻 dòng 婉 wǎn 桐 tóng 骆 luò 泼 pō 匠 jiàng 艇 tǐng 谦 qiān 妓 jì 菩 pú 厕 cè 俘 fú 毅 yì 岭 lǐng 丫 yā 畏 wèi 湘 Xiāng 桶 tǒng 嗓 sǎng 煌 huáng 鲍 bào 粒 lì 巷 xiàng 帘 lián 秃 tū 腊 là 仓 cāng 拐 guǎi 绑 bǎng 啥 shá 荐 ) 倪 ní 瑟 sè 廊 láng 鸭 yā 蜜 mì 诊 zhěn 棚 péng 掀 xiān 筒 tǒng 媳 xí 纹 wén 秒 miǎo 沾 zhān 庞 páng 蹲 dūn 骚 sāo 歧 qí 艘 sōu 芝 zhī 哗 huá 亩 mǔ 券 quàn 趟 tàng 巾 jīn 淫 yín 谎 huǎng 寞 mò 灌 guàn 篮 lán 妄 wàng 搁 gē 侄 zhí 厢 xiāng 叉 chā 俞 Yú 伐 fá 宰 zǎi 瞒 mán 宙 zhòu 肿 ) 漆 qī 怖 bù 吾 wú 吼 hǒu 侨 qiáo 叠 dié 啸 ) 罐 guàn 肆 sì 裙 qún 泣 qì 胀 zhàng 赋 fù 熬 áo 趁 chèn 咳 hāi 愉 yú 恳 kěn 辜 gū 肌 jī 婴 yīng 羽 yǔ 躬 gōng 毙 bì 拘 jū 叮 dīng 哇 wa 晴 qíng 谜 mí 淮 Huái 旺 wàng 逸 yì 琼 qióng 姜 jiāng 呜 wū 窜 cuàn 颁 bān 薪 xīn 寨 zhài 尿 niào 颊 jiá 逮 dài 卜 bǔ 昭 zhāo 浸 jìn 刮 guā 宛 wǎn 嘱 zhǔ 囊 náng 寓 yù 驳 bó 倡 chàng 浴 yù 咕 gū 挪 nuó 搏 bó 蓬 péng 晌 shǎng 渠 qú 兜 dōu 喃 nán 夷 yí 沪 Hù 贱 jiàn 魄 pò 舵 duò 晰 xī 僵 jiāng 糕 gāo 裔 yì 秩 zhì 倚 yǐ 塌 tā 恍 huǎng 钩 gōu 嘲 cháo 傍 bàng 裕 yù 煮 zhǔ 乳 rǔ 勿 wù 竖 shù 惩 chéng 睹 dǔ 株 zhū 绣 xiù 妖 yāo 讶 yà 咖 kā 纲 gāng 胎 tāi 滨 bīn 耕 gēng 嗤 chī 舱 cāng 娱 yú 匪 fěi 鸦 yā 胃 wèi 躁 zào 狮 shī 砰 pēng 妮 nī 凛 lǐn 龟 guī 裸 luǒ 嫣 yān 甫 fǔ 窑 yáo 塘 táng 纤 xiān 宠 chǒng 链 liàn 拱 gǒng 尹 yǐn 掘 jué 坝 bà 狭 xiá 铭 míng 淳 chún 沐 mù 馨 xīn 潘 Pān 甩 shuǎi 榜 bǎng 渊 yuān 羡 xiàn 侮 wǔ 卿 qīng 兀 wù 喧 xuān 履 lǚ 猴 hóu 枉 wǎng 衬 chèn 畔 pàn 凳 dèng 缅 miǎn 弦 xián 畜 xù 粞 xī 溢 yì 搂 lǒu 乞 qǐ 旬 xún 缚 fù 灿 càn 舆 yú 雁 yàn 倦 juàn 酬 chóu 韵 yùn 媚 mèi 堤 dī 攀 pān 窃 qiè 嫩 nèn 遂 suì 澄 chéng 侦 zhēn 陕 Shǎn 陋 lòu 笨 bèn 匙 shi 沫 mò 耸 sǒng 踩 cǎi 酱 jiàng 壶 hú 啡 fēi 碌 lù 痒 yǎng 鄙 bǐ 壳 ké 贞 zhēn 霉 méi 蠢 chǔn 芦 lú 胳 gē 矣 yǐ 焰 yàn 脊 jí 囚 qiú 辅 fǔ 账 zhàng 佐 zuǒ 僚 liáo 雀 què 撰 zhuàn 耍 shuǎ 枕 zhěn 捡 jiǎn 涵 hán 逗 dòu 粪 fèn 朦 méng 肝 gān 蒸 zhēng 滥 làn 筷 kuài 溃 kuì 隶 lì 烤 kǎo 缸 gāng 弓 gōng 潭 tán 旷 kuàng 哎 āi 峻 jùn 爪 zhǎo 怯 qiè 茂 mào 芒 máng 肢 zhī 稻 dào 兔 tù 圾 jī 喻 yù 框 kuàng 缴 jiǎo 蹈 dǎo 哨 shào 颖 yǐng 菊 jú 喀 kā 妆 zhuāng 淹 yān 瓷 cí 淀 diàn 蜡 là 嚼 jué 剂 jì 逛 guàng 骤 zhòu 暑 shǔ 襟 jīn 庐 ) 苹 píng 晒 shài 悼 dào 昧 mèi 拢 lǒng 函 hán 胧 lóng 胶 jiāo 抒 shū 乒 pīng 讽 fěng 歹 dǎi 旱 hàn 葡 pú 惟 wéi 拣 jiǎn 耿 gěng 廿 niàn 桩 zhuāng 乙 yǐ 谣 yáo 坠 zhuì 滞 zhì 孕 yùn 诵 sòng 梳 shū 冈 gāng 肺 fèi 丸 wán 霜 shuāng 汁 zhī 纱 shā 衔 xián 腻 nì 甸 diàn 啤 pí 坎 kǎn 稼 jià 禾 hé 愣 lèng 脂 zhī 萄 táo 捞 lāo 搅 jiǎo 屑 xiè 伞 sǎn 蝶 dié 铸 zhù 躯 qū 稚 zhì 腥 xīng 藤 téng 陡 dǒu 烫 tàng 梨 lí 哦 ó 浆 jiāng 僻 pì 坊 fāng 焉 yān 隙 xì 淘 táo 垮 kuǎ 滔 tāo 酿 niàng 鹅 é 兹 zī 捣 dǎo 栋 dòng 瑰 guī 敞 chǎng 癌 ái 缆 lǎn 烁 shuò 玫 méi 诈 zhà 煞 shà 膜 mó 焚 fén 粘 zhān 摧 cuī 疫 yì 幢 zhuàng 汝 rǔ 毯 tǎn 挫 cuò 纺 fǎng 朽 xiǔ 锤 chuí 兑 duì 辫 biàn 堕 duò 笛 dí 觅 mì 蔽 bì 谐 xié 氓 máng 蔑 miè 沸 fèi 藉 jí 卸 xiè 熄 xī 扁 biǎn 炭 tàn 慷 kāng 篷 péng 眨 zhǎ 譬 pì 叨 dāo 蔬 shū 绸 chóu 婿 xù 寥 liáo 浇 jiāo 乓 pāng 膏 gāo 膛 táng 琢 zuó 啪 pā 淑 shū 叭 bā 弊 bì 灶 zào 醋 cù 斌 bīn 奠 diàn 屯 tún 膨 péng 沦 lún 缕 lǚ 壤 rǎng 冶 yě 暇 xiá 揉 róu 萝 luó 翔 xiáng 蛛 zhū 栗 lì 荫 yìn 讥 jī 葱 ) 巩 gǒng 粥 zhōu 斋 zhāi 迄 qì 帜 zhì 菌 jūn 铅 qiān 贿 huì 绒 róng 侣 lǚ 锻 duàn 谴 qiǎn 汹 xiōng 敷 fū 宵 xiāo 讳 huì 锣 luó 撼 hàn 亨 hēng 淌 tǎng 扛 káng 杉 shān 燥 zào 匀 yún 渺 miǎo 碟 dié 嵌 qiàn 沃 wò 剖 pōu 姬 jī 绰 chuò 嗦 suō 绞 jiǎo 轴 zhóu 垒 lěi 噪 zào 蕴 yùn 邵 Shào 咋 zǎ 坪 píng 佣 yōng 卵 luǎn 昼 zhòu 憋 biē 奎 kuí 捂 wǔ 煎 jiān 瞅 chǒu 蚀 shí 熔 róng 虾 xiā 谬 miù 绅 shēn 镶 xiāng 聋 lóng 募 mù 垄 lǒng 彦 yàn 翘 qiào 趴 pā 杏 xìng 彰 zhāng 阐 chǎn 讼 sòng 枢 shū 崭 zhǎn 蒲 pú 泻 xiè 俭 jiǎn 橡 xiàng 溶 róng 瀑 pù 扒 bā 琛 chēn\n",
            "NEW_COMMENT__________________________________________________________________________________________________________________________________\n",
            "Hi,I wanted to give you my ideas for the Social Skydiving challenge without the hassle of signing up for the comment systems.  So, I hope you see this here.I have a lot of ideas, most of which are probably junk.  But, your blog struck a chord in me, so I've written them out.  I've not proofread much, so hopefully most of it makes sense.PROLOGUE:I think the most stressfully embarrassing social situation I've ever faced was one time at a Renaissance Faire.  If you're not privy, a Ren Faire basically consists of hordes of hippies pretending they're from the 15th century with questionable accuracy.  For patrons, it's a campy carnival of perverts with pathetic cockney accents.  For workers, drunken weekend parties ensue betwixt the adults (armed with the usual hippie supplies, if you know what I mean (drugs!!)) while the children are left to wallow weekend after shower-less weekend.  Your imagination probably does a pretty good job of filling in the holes.As such a child of some Ren Faire workers, I spent my weekends of each Faire Season dressing like a serf, playing with wooden weapons, watching the stage shows again &#38; again, and occasionally pausing to help run my family's booth (a historically inaccurate but fun game).At some point in the season, we attended a seminar about hawking our booths to the passerby, taught by a long-time Fair veteran.  He was of a kind; I don't expect just saying \"suave Ren Faire guy\" suffices, so I'll try to expound.  He was one of those charming guys, not old enough for it to be creepy and not young enough for it to be cliché.  A magician, which in Ren Faire terms translated as \"cool\", for whatever reason.  Clean-looking, talented, and effortlessly proceeded with the charmingly light-aired social interaction of the Faire.  It's kind of weird to explain.  It's as though Ren Faire gave guys carte blanche to be womanizers.But he made his lessons in attracting people towards you seem effortless.  Of particular note was his observation that people came to the Ren Faire to be immersed in the campy sort of atmosphere.  That a powerful selling device was merely sexual appeal: the women certainly knew it, since they wore bodices that prominently created cleavage no one knew they had, and the guys knew it because so many got away with being perverts.  Chicks worked the ale stand, goading drunken men into tips, and guys invited 14-year-old girls in small white summertime shirts to the water-dunking game.  So, an underlying tool of the seminar was that you could \"woo the women\".  That was the exact phrase; it stuck in my head.He demonstrated how coolly he could proceed to flatter a woman, gently offering his hand, with a bow, to the accepting lady.  She passes her hand into his that he may raise it to his lips and deliver a simple kiss.  He locks his eyes on hers, giving a gentle squeeze to the hand, tempting a reciprocal squeeze.  \"Oh, you have a nice grip, m'lady.  Surely you could [throw a dart | ring the bell | something vaguely related to the booth he was advertising].\"Just like that, he had his customer, and they both had fun being a part of the situation.  It struck a chord in me somehow: that's easy!  And so, the first of the embarrassments start as I confidently assert -- aloud to my family -- how I can apply the lesson in helping get customers.  When I get my clothes wet and look frumpy, I start lamenting how I won't be able to \"woo the women\".  etc.Predictably, I sat on my laurels, watching female after female pass our game while I did nothing.  My dad asks if I'm ever going to do it.  I assure him that I will -- that I just hadn't worked up the gall yet. He tells me to just go out there.  Still, I wait.Sick of waiting.  Swallow my fear.  First group of appropriately-aged women pass by, and I pounce.  In a slur of awkward grabbing-at-the-words, I realize how I should have thought of something to fucking say.  From what I remember, it went something like:\"Aye, but for the...you are surely the l-loveliest lady to, uh, grace our...beloved Faire.\"As if it was not enough that I had just jumped out in front of these moving people, causing them to halt abruptly, I was now fumbling over some half-assed attempt at flattery.Not just flattery.  I was kneeling before her, my head bowed and my hand outreached in the traditional gesture.  ...And she wouldn't reciprocate.  Not out of disgust or anything (I'm fairly sure), but out of sheer confusion.  The utter bozo that I am, I take it upon myself to grab her hand from her side -- with a little too much resistance for it to be comfortable -- and plant an awkward kiss upon it.  I remember how hot my face and chest ran from the pangs of humiliation that shot throughout the empty cavity that was my body (for you see, it was empty after my stomach plummeted straight out of existence).Still, I battle through it.  Confidently look forward, lock eyes, and squeeze whatever I was holding -- only to find her limp, lifeless hand not responding.To describe the momentary silence as an \"awkward pause\" fails to do it justice.  I was looking up at her, and to this day, whenever I picture it I can only remember seeing her looking like Lydia from the movie Beetlejuice.  And I have no idea why I remember her looking like that.  I'm almost 100% certain she must have looked drastically different from that black-garbed character.  But that's the image that lodges in my mind for some reason.  The sheer awkwardness is only punctuated by (what I assume to be) the girl's mother:\"What do you say, dear?\"\"Um...thank you?\", she forces.And the 3-person group (or at least I remember it being that large) continues walking away.  As her hand slips out of mine, all I'm left with is an aghast fumbling for more words.  Everything about the \"wooing\" had failed; hard.\"Uh, um, w-would you like to play our game?!\", my stupefied voice calls all-too-loudly to their backs in a perplexingly transparent fashion.The mother turns her head back.  \"Oh?  No, not today, sorry.\"The arm I had just done the deed with falls lifeless by my side.  I'm left with nothing but my hideous resentment, humiliation, and shame.  I quickly about-face back to my dad, collapsing in his lap, where I cry.  A lot.  It must have taken me hours to calm down (I don't actually know how long).  To be fair, I must've been about 10 or 11 years old at the time...Wow, that was painful to write about.  And not even because the vast amount of failure made a fuck's bit of difference in my life (though I've never since tried a stunt like that!); if ever there was a time to get away with it, being a little kid certainly helped.So, this isn't an idea for your challenge; it's a guideline: if you can face something as embarrassing to you now as this was to my 11-year-old self, yet walk away learning something, I'd call it a success.  If taken in objective terms, you've probably faced situations in this 30-day adventure that sum to more total embarrassment than my 1 fleeting pre-adolescent encounter.  Taken in all its context, however, it was probably the most embarrassing thing I've ever done.IDEAS:Note that these are mostly social experiments I've always wanted to try but never got myself to do (excuses!).  They're a bit far-fetched, because they're designed with an eye towards just seeing what results you get, rather than engaging in conversation or bettering yourself socially.Games:A theme you address is the restoration of child-like wonder.  One thing I think we all lose as we grow up is our sense of simple, spontaneous pleasures.  Things you can engage total strangers in.  The problem here being that if you fail to get the event rolling, it all works out boringly -- you've hardly failed at all if you fail to do this, but if you succeed, you have an awesome time.  So, I don't think these are very good challenges.  But, I've entertained these thoughts.In her routine The Beginning, Ellen DeGeneres suggests that you \"just go up to a total stranger tomorrow on the street, just go up to him and just touch and go 'YOU'RE IT!' and just run away.  Have a giant game of tag going on on the street all the time.\"Similar ideas that are more prone to Big Failure involve dialog, because at least you have to say something aloud.  Maybe you could get a bunch of strangers to join you in singing some classic song.  Something everyone's comfortable singing -- something they'd know at least some of the words to.  I've done this with songs from The Lion King, for instance.  Maybe a dramatic scene from a well-known movie people would know the dialog to.  These might be easier with some seed set of people instead of just you, though; at least n &#62; 1 could finish out the song or scene in a way that's less likely to get you kicked off the bus.Persuasion:Other people have had ideas along these lines, and I think it makes for a great class of challenges: convincing strangers to do something with you.  It not only helps build a common ground a bit more solid than smalltalk, but if you fail you get to have people think you're some sort of weirdo!Elevator patrons make for an interesting random sample of people.  They're usually looking to get away to somewhere, so most of them won't give you the time of day.  I've long pondered experiments you could carry out in elevators, though:- I once rode an elevator in a college dorm where 3 or 4 residents were sitting on the floor playing cards.  This is probably easier to get away with in a dorm, because you aren't strictly going to interrupt business with a weird/cramped elevator trip -- versus, say, your workplace.  These kids were doing it just to be weird, but you could use it to invite strangers to play cards with you.  See how big a group you could get going.  Engage in conversations over some cards.  If they decline, they just have a story about some weirdo in an elevator playing solitaire.  Now, if you're in an elevator that serves to traffic people with business purposes -- somewhere to go on a schedule -- you probably won't get many people to come along with you, due to the sudden nature of engaging in a card game.  You could tweak this to a different, more conducive environment: in the halls outside of a classroom?  In the classroom before the lecture starts?- An experiment I thought of with goals similar to Social Skydiving was to hang out in an elevator.  People are surprised when there's someone in the elevator already, just riding.  It is kind of weird, after all.  It's sparked conversations for me before.  My idea was then: if I saw any attractive women, bluntly ask them if they'd be interested in dating me (phrased with various layers of \"hypothetically, of course!\", if need be).  The aim was not to actually get any dates, but to convince myself that it was easy to ask and that it'd get more comfortable with time.  (Of course, I've always made excuses, so I've never actually done this.)  If anyone gets too weirded out, you can use the excuse that you're performing a random survey.  Then, even after social side-effects (self-improvement, yadda), you would have some interesting data.  See what range of reactions you get!  While it probably wouldn't make you seem any less of a geek, it might deflect animosity.Okay, enough about my weird fascination with elevators...- Growing more overtly sexual, you could pull off a stunt like in A Complete History of My Sexual Failures (http://www.imdb.com/title/tt1037033/), a documentary wherein the maker barges outside and proceeds to parade around the streets, begging various women to have sex with him.  He was threatened, some ran away from him, hilarity ensued, but not only did it take awhile for the cops to interject, (SPOILER ALERT!) he got one positive response.  I don't know how much the camera following him helped the entire situation.  With \"oh, I'm doing a documentary and I'm drunk and took way too much Viagra\", it's easy to write someone off as a harmless lunatic.- More harmless (still creepy), you could give a pretense to go out and do something with someone.  \"I have some tickets to [Disneyland Seattle | Six Flags | minigolf | whatever it is you guys have], but no one to go with.  You in?\"  Such abruptness would probably make people distrustful.  I know I wouldn't agree to go somewhere with a random stranger; he'd probably just try to kill me in the parking lot.  So, you can lead into it.  Strike up a conversation, and if it's going particularly well, try to edge in something to convince them to go with you.  Probably shouldn't press the issue if they decline, of course.  If the outing is sufficiently innocent, you shouldn't come off like you're trying to get into their pants.- Ask people what you should do for your challenge.  Strike up a conversation and work towards divulging that you've been doing the Social Skydiving experiment (Smile!  You're on Candid Camera!).  If they're interested, discuss the results, the finer points of social awkwardness, and ultimately ask them what you should do as your Mega Capstone.  Ask them how they could be involved in carrying out a plan.  Maybe that could blend well with the other ideas -- \"I was thinking of going to [do something] with someone I just met\".This, of course, presumes an ideal conversation.  If you've learned anything from this, you'd be at least a little bit equipped to steer the conversation into the area you want it.  And it probably helps having this clear-cut goal of the conversation.  In disclosing information about yourself, it's much less phatic than standard smalltalk and has potentially more lasting effects.- In some cases of certain social anxiety, doctors will have patients publicly declare something.  e.g., Have someone who's embarrassed to admit they have a stutter announce it to a bus full of people.  This isn't a specific challenge, but something worth considering: something very public where you disclose some personal info.  Not unlike your blog, but doing it face-to-face instead of written-down can be intimidating, hence proving your increased bravery.  Something as short as \"I'm Justin, and I stutter\" isn't going to be worth it as a challenge, but I wouldn't know what else you could announce to a large group of people.  Maybe you could see if they'd listen to you talk about your Social Skydiving experiment?- In an effort to heighten the level of discourse with strangers, instead of discussing the weather you could debate them.  Of course, debate about certain issues becomes just as phatic: \"I LOVE BLAH!\" \"BUT I DON'T!\".At my school, every so often there'd be these guys with giant banners listing Satan's Children, including groups such as \"Mouthy Women\".  This would often encourage little islands of conversation.  I mean, sure it's part of his business plan (seek out high-traffic areas, piss people off, then magically they're talking about religion instead of just ignoring him), but the conversations are so much fun.  My friend and I went down to yell at these dudes once.  I got to creep out the Campus Crusade for Christ kids by asserting that I wasn't actually there to argue that Mouthy-Women-man should spread the Word of God in a nicer way.  Stuff like that.  Play the Devil's Advocate.  Automatic conversation &#38; debate starter.  And more interesting than the weather!It's harder to debate someone spontaneously, though, without resorting to the same tactics (which wouldn't necessarily be a bad challenge...).- If you're like me, you have some old friends that you don't talk to anymore.  Sure, you guys used to know each other &#38; talk during high school or whenever, but it's been 5 or 10 years, and it all just kind of...died off instead of being any deliberate sever.  If you're even more like me, you have social anxiety about even starting conversations with those old friends (who you can easily track down).  \"What if the conversation doesn't go right?  That was a long time ago that we did such &#38; such.  We won't have anything to talk about, because we don't have any context for each others' lives.\"  etc.  If you could reconnect, it'd be interesting, but thinking about them is like remembering a ghost.But, instead of paralyzing yourself with these fears, try it out.  See what they're up to.  Reminisce.  If you can carry a conversation, you succeed.  Try it with something like the phone or face-to-face, if possible, so that you can't hide behind switching your IM client to \"Away\".  It has chances of being more meaningful than talking to strangers, even though you might discover that they are strangers after so long.You could be even crazier and contact the people you had a bad time with, like the maker of A Complete History of My Sexual Failures contacting all of his ex-girlfriends.If you don't have any old friends / acquaintances you'd want to talk to like this, then the idea's a bit of a lost cause.  But I think it'd be cool if you did.I've enjoyed following your blog.  Best of luck!\n",
            "NEW_COMMENT__________________________________________________________________________________________________________________________________\n",
            "A few observations:1. What is at stake: The original lawsuits filed in Massachusetts in 2004 claimed a theft of IP by Mr. Zuckerberg in starting what is today Facebook. Ergo, there is a massive amount at stake financially if the original case is re-opened and made subject to litigation. Among other things, the ConnectU founders could make a claim on FB's profits almost in perpetuity, could obtain injunctive relief by which they could effectively shut FB down via court order, and could cause the FB founders to be exposed to endless problems with FB's own investors for what would undoubtedly be breaches of reps and warranties made by FB and its founders in the Series A through D &#38; following investment documents (for example, Microsoft might potentially seek to rescind its $240 million investment and demand its money back). Thus, a re-opening of the original case would be a horrific event for FB and its founders. The problem here is this and not any supposed indictment for securities fraud. Of course, with such risks involved, the ConnectU founders have a great motivation to push every angle possible to get the case re-opened because any amount that would be paid to settle the case today would easily dwarf the original settlement amount.2. Where this is at: The article makes it seem like some dramatic event occurred by which FB and its founders have suddenly been hit with some claim for securities fraud. This is far from accurate.  Back in 2005, Facebook responded to the original Massachusetts suit by filing a legal action in California, evidently trying to gain a procedural advantage against both ConnectU and its founders. The ConnectU founders got themselves dismissed from that case on grounds of lack of personal jurisdiction, leaving only their entity in the case. The parties later conducted a private mediation and settled the case over a two-day period. The ConnectU founders did appear in the mediation and got their promised payday. The settlement was documented in the form of a 2-page term sheet and basically involved the grant of a large chunk of FB's common stock to the ConnectU founders. After the mediation was done, the parties attempted to take the 2-pager and put it in the form of definitive documentation and that is where things broke down. Initially, FB apparently tried to accommodate the ConnectU side by preparing complex documentation that would have made the acquisition of ConnectU by FB a tax-free merger (this obviously would have benefited the ConnectU founders, who otherwise would have been taxed on the value of the stock they received as of the date of receipt, leaving them with a multi-million dollar tax hit and no way to liquidate their FB stock to pay for it). When disputes arose about the detailed terms, FB filed a motion with the court to enforce the settlement. In doing so, it asked the court to enforce the terms it had put form in the complex documentation and not as set forth in the 2-pager. The court, on hearing the motion, ordered that the settlement agreement be enforced but did so based on the terms set forth in the 2-pager. The ConnectU parties were then forced to deliver the ConnectU stock to Facebook, which (given that it then controlled the company) promptly fired the attorneys who had been representing ConnectU and its founders. This left the founders scrambling to appeal and to do so under circumstances where the only party with standing to appeal (ConnectU) was controlled by FB as an adverse party. This led to a logistical nightmare, from a litigation perspective, but it eventually got sorted out when the court let the ConnectU founders \"intervene\" and make their case on appeal. The brief filed before the Ninth Circuit Court of Appeals (discussed in this article) is the opening shot on an appeal seeking to overturn the lower court's order enforcing the settlement.3. The legal claims on appeal: When it opposed enforcement of the settlement in the lower court, ConnectU raised the legal theory that FB had violated federal securities laws when it allegedly agreed to grant stock to the ConnectU founders in exchange for a release of their claims. The lower court disagreed in electing to enforce the settlement and that is why the issue is being raised on appeal. The other ground of appeal is that the 2-pager that the lower court said constituted an enforceable settlement agreement did not amount to a binding contract because it lacked material terms. Hence, given that the parties were unable to agree on the detailed terms, ConnectU asserts that, at best, the parties only had a \"letter of intent\" outline of what an agreement would look like, subject to reaching final agreement following the mediation itself. Since no final terms were reached, ConnectU argued to the lower court, and argues now on appeal, that there is no binding agreement and that the Massachusetts litigation by which it seeks the horrific remedies described above should be allowed to proceed (i.e., that FB give back the ConnectU stock, that the original lawyers for ConnectU be brought back into the case, and that the litigation on the merits of the alleged trade secret theft by Mr. Zuckerberg be allowed to proceed to trial).4. The merits of those claims: This appeal is a testament to what high-priced (and quite excellent) lawyers can do to stir things up when large amounts of money are at stake. I have been involved in countless mediations over the course of a 30-year-plus career and can strongly attest that no one in his right mind (or otherwise) even begins to think that federal securities laws should be taken into account when settling a case by which stock is transferred from one party to another as part of the settlement. Such a mediation usually takes place over a day or two (as it did here) and is conducted under confidential circumstances - that is, there are court rules that affirmatively state that nothing said or done in that process shall be admissible as evidence for any reason in a later proceeding. Who, in that context, would be concerned about making sure that whatever was said by one party or the other constituted truthful representations about the value of what was being transferred to settle the case. Indeed, if anything, parties will try to wildly puff up the value of what is being offered in order to maximize the value of their deal (no one wants to leave \"money on the table\"). What is more, the other party knows that this is happening. That is the nature of litigation, where you frequently have blowhard lawyers shooting off about this or that with little regard to truth. When a fight is settled in this way, and stock is transferred, the party getting the stock is not making a business investment by which the transferring party needs to figure out if he is, e.g., an accredited investor or, e.g., if he has had full and complete access to the company's books and records. If anyone would even suggest such things in a mediation, he would be laughed out of the room. But, when you have expensive lawyers straining for every possible ground to maximize their client's leverage in a case where huge amounts of money are at stake, you get an approach where no stone is left unturned to gain maximum advantage. Hence, this argument in this appeal.5. The alleged \"fraud\" is likely bogus here as well. The theory is that FB did a press release shortly before the settlement touting Microsoft's $240 million investment and suggesting that, based on that investment, FB had a market cap of $15 billion. The claim is that the ConnectU founders relied on that valuation in determining what the value of the common stock was that they received. Later, supposedly, they discovered that FB had in fact done a 409A valuation of the common stock and that such valuation had placed an approximately $8/sh price on the common stock (in contrast to the $35/sh price placed on the preferred at the time of the Microsoft investment). Thus, the ConnectU founders were supposedly defrauded by having been misled about the value of the FB stock they were receiving to settle their claims (that is, as alleged, they thought they were getting stock worth $35/sh when it was in fact worth no more than $8/sh and, presumably, they would not have settled their claims for this supposedly lower amount had they known the true facts about the 409A appraisal, which facts were not disclosed to them at the time of the mediation). That might sound plausible to someone who knows nothing about startups but it is in fact an absurd argument to anyone who knows even the basics of startup financing. Every startup deal-maker knows that startups value preferred stock at 4 to 5 times higher (it used to be more like 10 times higher) than the common stock. This is vital for keeping employee incentives reasonably priced. Anyone who has been through even a single financing with a startup will know this. Therefore, what are the odds that the ConnectU founders, knowing that the $35/sh price was based on a press release discussing Microsoft's preferred stock investment, did not immediately know and understand that a startup of this type would be putting a significantly lower price on the common stock at the same time. Thus, the argument strikes me as entirely artificial. It is a lawyer argument, very likely concocted after the fact. Because of this, too, in my judgment, I believe the argument will be rejected on appeal, just as it was by the lower court. If courts were to hold that no stock could be transferred in a settlement effected through mediation unless the parties stopped to comply with federal securities laws, the result would be utter chaos whenever a party sought to transfer equity as part of resolving a dispute. This is wholly inappropriate to a settlement context because you take a situation where a party is trying its best to \"put one over\" on the other party (that is how litigation is played) and transform it into a situation where a party can be sued for statements made about value or company circumstances, etc. Rule 10b-5, for example, allows a defrauded investor to sue not only the issuer but also all controlling persons and also all aiders and abetters. Will we now get lawsuits against litigation lawyers who are trying to get the best results for their clients by structuring a settlement with a stock component? Will we now have to create a record of negotiations rather than conduct settlements in a confidential context where parties can feel free to discuss the merits of their case openly without fear of repercussions? When you consider this claim in context, it is actually frivolous, at least when considered as a general rule for whether such laws should apply to a settlement context.6. Having said all that, I have been involved a number of times with settlements where the deal falls apart before it is fully documented, and courts are generally highly reluctant to enforce a settlement agreement if they are not absolutely convinced that the deal as struck is truly a binding agreement. It is impossible to evaluate this without being able to see the 2-pager itself (which is not in this record). Based on that experience, though (and every litigator will attest to this), it could well be that the ConnectU side has good grounds to get the settlement set aside, and I assume that explains the tremendous effort that has gone into this. Even if they don't ultimately succeed, this puts enormous pressure on FB and Mr. Zuckerberg to settle up at a much higher amount than that of the original settlement, even while the appeal is pending. The lawyers representing FB are undoubtedly sitting their client down and reviewing the parade of horribles in great detail, if nothing else just because they want to cover themselves from liability.7. I don't know any of the participants here but, from what I have read in news reports, the founders on each side of this do seem to deserve each other - but I can't say that about innocent investors and others who stand to lose and lose big if this goes awry. This is just the sort of royal mess that winds up on law school and bar exams to test the limits of a candidate's knowledge when something gets super-complex with myriad twists and turns. Not a happy situation for anyone really.\n",
            "NEW_COMMENT__________________________________________________________________________________________________________________________________\n",
            "Side tabs are great, because text is wider than it is tall, so you can fit a lot more of them on the screen, to manage more windows.But why restrict yourself to the top edge, the bottom edge, one side or the other, when you can allow the user to drag the tabs around to any place along any edge that they want? I am perplexed that all tabbed user window frames don&#x27;t allow this useful and obvious feature, after all these years.Also, tabbed windows work very nicely with pie menus, and tabbed frames plus pie menus are an excellent combination for window managers and web browsers.I implemented side tabs in a commercial product in 1988, for UniPress (Gosling) Emacs 2.20 running on the Sun NeWS and SGI 4Sight window systems, and I used them for the HyperTIES hypermedia browser and authoring tool that I developed with Ben Shneiderman at the University of Maryland Human Computer Interaction Lab.HyperTIES Hypermedia Browser and Emacs Authoring Tool for NeWS\n",
            "HyperTIES is an early hypermedia browser developed under the direction of Dr. Ben Shneiderman at the University of Maryland Human Computer Interaction Lab.\n",
            "http:&#x2F;&#x2F;www.donhopkins.com&#x2F;drupal&#x2F;node&#x2F;101Designing to Facilitate Browsing: A Look Back at the Hyperties Workstation Browser\n",
            "By Ben Shneiderman, Catherine Plaisant, Rodrigo Botafogo, Don Hopkins, William Weiland.\n",
            "http:&#x2F;&#x2F;www.donhopkins.com&#x2F;drupal&#x2F;node&#x2F;102Here&#x27;s some stuff about it from Wikipedia:https:&#x2F;&#x2F;en.wikipedia.org&#x2F;wiki&#x2F;Tab_(GUI)The NeWS version of UniPress&#x27;s Gosling Emacs text editor was the first commercially available product to pioneer the use of multiple tabbed windows in 1988. It was used to develop an authoring tool for the Ben Shneiderman&#x27;s HyperTIES browser (the NeWS workstation version of The Interactive Encyclopedia System), in 1988.[2][3] HyperTIES also supported pie menus for managing windows and browsing hypermedia documents with PostScript applets. Don Hopkins developed and released several versions of tabbed window frames for the NeWS window system as free software, which the window manager applied to all NeWS applications, and enabled users to drag the tabs around to any edge of the window.[4]\n",
            "HyperTIES was a &quot;hypermedia&quot; browser, a term first used by Ted Nelson in 1965. The first &quot;web&quot; browser came out later in 1990,[5] and the term &quot;World Wide Web&quot; was not invented until 1990.[6]HCIL Demo - HyperTIES Authoring \n",
            "https:&#x2F;&#x2F;www.youtube.com&#x2F;watch?v=hhmU2B79EDUHere&#x27;s another different application of tabs that I developed on NeWS, a visual PostScript programming interface.The Shape of PSIBER Space:\n",
            "PostScript Interactive Bug Eradication Routines\n",
            "Written by Don Hopkins, October 1989.\n",
            "University of Maryland\n",
            "Human-Computer Interaction Lab\n",
            "Computer Science Department\n",
            "College Park, Maryland 20742\n",
            "http:&#x2F;&#x2F;www.donhopkins.com&#x2F;drupal&#x2F;node&#x2F;97Also, here&#x27;s a video of an even more general implemented of tabbed window frames with a pie menus based window manager, that I implemented at Sun Microsystems for The NeWS Toolkit 2.0:http:&#x2F;&#x2F;www.donhopkins.com&#x2F;home&#x2F;movies&#x2F;TabWindowDemo.movHere is the source code in PostScript for a few different implementations that I gave away for free back in the 80&#x27;s and 90&#x27;s:This is the original version for NeWS 1.1 that shipped with UniPress Emacs, and that I used for the HyperTIES hypermedia browser and authoring environment, which is demonstrated in the video at https:&#x2F;&#x2F;www.youtube.com&#x2F;watch?v=hhmU2B79EDU :% Tab window class\n",
            "http:&#x2F;&#x2F;donhopkins.com&#x2F;home&#x2F;archive&#x2F;NeWS&#x2F;tabwin.ps.txtThis is the PSIBER Space Deck for NeWS 1.1, which uses its own form of tabbed sub-windows whose tabs you can drag around to any edge, described in this paper http:&#x2F;&#x2F;www.donhopkins.com&#x2F;drupal&#x2F;node&#x2F;97\n",
            " :\n",
            "http:&#x2F;&#x2F;donhopkins.com&#x2F;home&#x2F;archive&#x2F;psiber&#x2F;cyber&#x2F;litecyber.ps...This is the first version I implemented for NDE 1.0 on X11&#x2F;NeWS while at the University of Maryland:% NDE Tab Frames\n",
            "% Copyright (C) 1989\n",
            "% By Don Hopkins, University of Maryland Human Computer Interaction Lab\n",
            "% May 13 1989\n",
            "http:&#x2F;&#x2F;donhopkins.com&#x2F;home&#x2F;archive&#x2F;NeWS&#x2F;tab-1.ps.txtThis is the second version I implemented for NDE 1.0 on X11&#x2F;NeWS while at the University of Maryland:% tNt Tab Frames, release 1.0\n",
            "% Copyright (C) 1990\n",
            "% By Don Hopkins, University of Maryland Human Computer Interaction Lab\n",
            "% Started, May 13 1989.\n",
            "% Reimplemented mostly from scratch for X11&#x2F;NeWS FCS.\n",
            "http:&#x2F;&#x2F;donhopkins.com&#x2F;home&#x2F;archive&#x2F;NeWS&#x2F;tabframe-1.ps.txtThis is the final version I implemented for The NeWS Toolkit 2.0 while at Sun Microsystems, which is demonstrated in the video at http:&#x2F;&#x2F;www.donhopkins.com&#x2F;home&#x2F;movies&#x2F;TabWindowDemo.mov :% Tab Windows for the NeWS toolkit\n",
            "% Version 3.0.2\n",
            "% This file implements a pie menu tab window manager for the NeWS toolkit.\n",
            "% It should work with TNT2.0fcs on OW2.0fcs and TNT3.0beta on OW3.0beta.\n",
            "% This code and the ideas behind it were developed over time by Don Hopkins \n",
            "% at the University of Maryland, UniPress Software, and Sun Microsystems. \n",
            "% Pie menus and tab windows and NOT patented or restricted, and the\n",
            "% interface and algorithms may be freely copied and improved upon. \n",
            "http:&#x2F;&#x2F;donhopkins.com&#x2F;home&#x2F;archive&#x2F;NeWS&#x2F;tab-3.0.2.ps.txtI also implemented a tabbed window manager for X11 based on &quot;uwm&quot;, which I can&#x27;t find a link to right now.And at Sun we developed but never released a really nice extensible window manager with tabs, pie menus, rooms, virtual desktop, and other cool features, that managed both NeWS windows and X11 windows:http:&#x2F;&#x2F;www.art.net&#x2F;~hopkins&#x2F;Don&#x2F;unix-haters&#x2F;x-windows&#x2F;i39l.h...Some notes about OWMOWM is the &quot;Open Window Manager&quot; we prototyped in NeWS. We enhanced the NeWS window frames so they sported indexing tabs, pie menus, rooms, and a scrolling virtual desktop. Many of our enhancements were separatly developed, and plugged together orthogonally like legos. All NeWS applications could use these fancy frames, and the Open Window Manager wrapped X clients in the same frames that NeWS windows got!This way, factoring the window frames out as a part of the toolkit, and implementing the X window manager separately, NeWS applications don&#x27;t have to know a thing about X window management, and X clients can go on doing the same nasty things they&#x27;ve always done, and everybody get the benefits of dynamic extensibility, and a consistent user interface, by using the default window class!I39L window management complicates pinned menus enormously. TNT menus pin correctly, so that when you push the pin in, the menu window simply stays up on the screen, just like you&#x27;d expect. This is not the case with XView or even OLWM. Under an I39L window manager, the Open Look pinned menu metaphor completely breaks down. When you pin an X menu, it dissappears from the screen for an instant, then comes back at a different place, at a different size, with a different look and feel. If you&#x27;re not running just the right window manager, pinned menus don&#x27;t even have pins! There is no need for such &quot;ICCCM compliant&quot; behavior with TNT menus. When they&#x27;re pinned, they can just stay there and manage themselves. But were TNT windows managed by an external I39L window manager, they would have to degenerate to the level of X menus.Under the OWM solution, pinned TNT menus work correctly, and they inherit their pinned window behavior from ClassPopupWindow, the same class managing pinned X menus. The look and feel is high quality, consistant, maintainable, and intentionally extensible.If I39L window management has such a negative impact on pinned menus, how else will it impact other parts of the toolkit and applications?Will it effect popup notices? Since they need keyboard input for the buttons, will they have to play the I39L window management game? How do we get the notice tail (a separate canvas) to line up, if the window manager decides to wrap a frame around the notice window?It is impossible to know how it will effect TNT applications, because the toolkit was specifically designed to be subclassed and extended in areas that overlap with I39L window management. NeWSRoom and the TNT virtual window manager are examples of simple, interesting extensions to the window class that are in direct conflict with I39L window management. We would be giving up a lot of actual and potential functionality, that we designed the toolkit to support in the first place. We need to redesign the window class for greater flexbility and easier subclassability, but those goals are at odds with I39L window management. The result of a cross of these two opposing goals would be massivly complex and would sacrifice most of the important advantages of the TNT approach. However, the OWM approach to window management, wrapping X windows in instances of the TNT window class, synergizes with extensions to the window classes. As an extreme example, you can make OWM wrap window frames with title tabs that pop up pie menus full of handy window management functions around all your X windows.There are several other technological advantages of managing X windows internally with NeWS, over managing them externally with X. By an external window manager, I mean one that is in a separate address space as the windows. Relative to the server, all windows are internal, all X &quot;Xlib&quot; and NeWS &quot;wire service&quot; clients are external, and NeWS canvas objects and light weight processes are internal. But an external X window manager is in a different address space must try to manage many shared resources at a distance, an intrinsicly difficult task, imposing limitations on the whole system and unavoidably restricting the user interface possibilities.The management of arbitrarily shaped windows becomes very complicated under an I39L window manager. In contrast, PizzaTool has a popup pizza preview window, whose shape is a rectangular frame around a round (or semi-circular, depending on your appetite) pizza window, with the space between the inside of the frame and the pizza cut out. It was very easy to implement, by subclassing ClassPopupWindow and overriding the &#x2F;path method to cut out the inside of the frame and ask the center pizza client to add its shape to the path. When you move or stretch the window, you see a rubber-band preview of the actual shape the window will take when you release the button. The pizza path procedure knows to maintain a 1:1 aspect ratio (no oval pizzas), that centers the round pizza in the frame as you drag the resize corner around. The shape of a TNT window is not simply defined by curves or bitmaps -- it is defined by a method of the window object, which can apply constraints and may depend on the state of other objects in the system, like the size or number of slices of the pizza inside the frame. All this nice interactive feedback is totally trivial to implement with TNT, and is completely impossible with an I39L window manager. And even if an I39L window manager could be programmed to perform such custom feedback, it would still have to grab the server and lock out all other animation in the process, instead of using nondestructive overlays like TNT.X11 window managers must grab the server in order to animate rubber-band feedback over the screen when resizing and moving windows. This grabbing causes many problems with NeWS synchronous interests, that can be demonstrated by pressing the &quot;Help&quot; key while dragging out a rectangle on the root background. NeWS can do a much better job at managing global resources in the server because it is in the same address space and it has facilities like the overlay plane specifically designed to implement such window management functions, without even grabbing the server. This antisocial server grabbing behavior is just one symptom of a general class of problems with external X window management, including other important issues such as keyboard and colomap focus.If NeWS alone manages the input focus, it can manage it perfectly. An X window manager alone cannot, because it runs in a foreign address space, and is not in a position to synchronously block the input queue and directly effect the distribution of events the way NeWS is. But even worse is when an X window manager and NeWS both try to manage the input focus at once, which is the situation we are in today. The input focus problem could be solved in several ways: OWM solves the problem elegantly, as PSWM did in the past; OLWM could be made NeWS aware, so that when our own customers run our own external X window manager on our own server that we ship preinstalled on the disks of our own computers, OLWM could download some PostScript and let NeWS handle the focus management the way it was designed.It&#x27;s criminally negligent to ship a product that is incapable of keeping the input focus up to date with the cursor position, when you have the technology to do so. Your xtrek has paged the window manager out of core, and the console beeps and you suddenly need to move the cursor into the terminal emulator and type the command to keep the reactor from melting down, but the input focus stays in the xtrek for three seconds while the window manager pages in, but you keep on typing, and the keys slip right through to xtrek, and you accidentally fire off your last photon torpedoe and beam twelve red shirt engineers into deep space!Oh yeah, and here is a picture of pizzatool:http:&#x2F;&#x2F;www.art.net&#x2F;~hopkins&#x2F;Don&#x2F;images&#x2F;pizzatool.gif\n"
          ]
        }
      ],
      "source": [
        "#Посмотрим что из себя представляют очень длинные комментарии более 2000 слов\n",
        "for comment in df[\"comment\"]:\n",
        "  if len(comment.split())> 2000:\n",
        "    print(\"NEW_COMMENT__________________________________________________________________________________________________________________________________\")\n",
        "    print(comment)\n",
        "#Это спам комментарии с большим количеством ссылок или большие тексты скопированные из различных источников "
      ]
    },
    {
      "cell_type": "markdown",
      "source": [
        "Это спам комментарии с большим количеством ссылок или большие тексты скопированные из различных источников"
      ],
      "metadata": {
        "id": "X_z9mmoObXD8"
      }
    },
    {
      "cell_type": "code",
      "execution_count": null,
      "metadata": {
        "id": "vDBKF-kW-7xV",
        "colab": {
          "base_uri": "https://localhost:8080/",
          "height": 282
        },
        "outputId": "b7a31ddf-d208-4fb5-a58d-c92795d59f86"
      },
      "outputs": [
        {
          "output_type": "execute_result",
          "data": {
            "text/plain": [
              "<Axes: >"
            ]
          },
          "metadata": {},
          "execution_count": 38
        },
        {
          "output_type": "display_data",
          "data": {
            "text/plain": [
              "<Figure size 432x288 with 1 Axes>"
            ],
            "image/png": "[encoded data removed]"
          },
          "metadata": {
            "needs_background": "light"
          }
        }
      ],
      "source": [
        "#Средняя длина слов в комментарии\n",
        "df['comment'].str.split().apply(lambda x : [len(i) for i in x]).map(lambda x: np.mean(x)).hist(bins = 25)\n",
        "#Из-за выбросов график крайне неинформативен, длина слов в отдельных случаях достигает значений более 1500."
      ]
    },
    {
      "cell_type": "markdown",
      "source": [
        "Из-за выбросов график крайне неинформативен, длина слов в отдельных случаях достигает значений более 1500.\n",
        "\n",
        "Визуализация показывает, что на графике по длине слов встречаются выбросы, которые значительно выходят за пределы среднестатистических значений. Некоторые слова имеют длину более 1500 символов, что нехарактерно для текстового контента, доступного в интернете. Из-за таких выбросов график становится не очень информативным, и трудно выделить какие-то закономерности или тренды в данных."
      ],
      "metadata": {
        "id": "yRQVCenrbYfs"
      }
    },
    {
      "cell_type": "code",
      "execution_count": null,
      "metadata": {
        "colab": {
          "base_uri": "https://localhost:8080/",
          "height": 282
        },
        "id": "xdpCVN6pavrH",
        "outputId": "b9f7bbbf-669c-440b-ebd6-8c74a6f47bdc"
      },
      "outputs": [
        {
          "output_type": "execute_result",
          "data": {
            "text/plain": [
              "<Axes: >"
            ]
          },
          "metadata": {},
          "execution_count": 39
        },
        {
          "output_type": "display_data",
          "data": {
            "text/plain": [
              "<Figure size 432x288 with 1 Axes>"
            ],
            "image/png": "[encoded data removed]"
          },
          "metadata": {
            "needs_background": "light"
          }
        }
      ],
      "source": [
        "#Средняя длина слов в комментарии (диапазон от 2 до 14)\n",
        "df['comment'].str.split().apply(lambda x : [len(i) for i in x]).map(lambda x: np.mean(x)).hist(range=(2,14), bins = 25)\n",
        "#Как и в случае с аналогичным графиком для текста поста, средняя длина слова примерно равна 5.5 символам, что соответствует стандартному распределению для английского языка. "
      ]
    },
    {
      "cell_type": "markdown",
      "source": [
        "Как и в случае с аналогичным графиком для текста поста, средняя длина слова примерно равна 5.5 символам, что соответствует стандартному распределению для английского языка.\n"
      ],
      "metadata": {
        "id": "RtRuuU4Ubabk"
      }
    },
    {
      "cell_type": "code",
      "execution_count": null,
      "metadata": {
        "colab": {
          "base_uri": "https://localhost:8080/"
        },
        "id": "jHkIKPHxabgS",
        "outputId": "181d3926-5ca8-44ff-b981-c681add7ddf4"
      },
      "outputs": [
        {
          "output_type": "stream",
          "name": "stdout",
          "text": [
            "javascript:(function(){readStyle='style-newspaper';readSize='size-large';readMargin='margin-wide';_readability_script=document.createElement('SCRIPT');_readability_script.type='text/javascript';_readability_script.src='http://lab.arc90.com/experiments/readability/js/readability.js?x='+(Math.random());document.getElementsByTagName('head')[0].appendChild(_readability_script);_readability_css=document.createElement('LINK');_readability_css.rel='stylesheet';_readability_css.href='http://lab.arc90.com/experiments/readability/css/readability.css';_readability_css.type='text/css';_readability_css.media='screen';document.getElementsByTagName('head')[0].appendChild(_readability_css);_readability_print_css=document.createElement('LINK');_readability_print_css.rel='stylesheet';_readability_print_css.href='http://lab.arc90.com/experiments/readability/css/readability-print.css';_readability_print_css.media='print';_readability_print_css.type='text/css';document.getElementsByTagName('head')[0].appendChild(_readability_print_css);})();\n",
            "/ۨ۠ۢۘۜۤۡۨۛۧ۟ۤۖ۠ۤۗۘۤ۫ۢۡۚۨ۠ۙۛۢۜۨۨۜۚ۠ۧ۟ۛۖ۠ۧۜۢۨۚۛۙۨۤۛ۫۟ۤۘۘۤۗ۫۠۟۟ۛۧۚۡۢۨ۠ۛۡ۫ۢ۫ۗ۫ۗۨۧۙ۬ۜۧ۟ۘۘۨ۬۬ۖۛۙۚ۟۟۫ۙۚۖۨۢۚ۬۬ۡۛۛۛۧۘۨۚۨۤۖ۟۬ۜۤ۫۫ۘۢۛۚۘۨۗۛۡۙۤۡۗ۠۟۫ۖۨ۬ۛ۠۠ۨۙۡ۠ۢۢ۬۠ۜۙ۟ۜۙۧ۟ۧۛ۟ۨۚۙۛۚۨۡۤۗۙۧۜۚۢۤۖۡۛ۠ۤۜۖ۫ۡۤ۟ۤۙۚۗۖۡ۬ۖ۠۠۬ۨۜۙ۟ۜۨۡۡ۠ۙۗۖۡ۟ۨۗۘۜ۠۫ۢۤ۟ۜۤۛۨۧ۬ۡ۬۟ۢۛۜ۫ۚ۟ۢۢ۬ۗۗۙۡۖۢۡ۟ۨ۠ۧۘۨ۟ۖۤۚ۫۬ۖۗۤ۠ۘۡ۬۟۬ۛۜۤۢۧۨۙۜ۬ۛ۫ۧۘ۬۫ۢ۠۠۟ۖۤۗ۟ۢۛ۟ۗ۫ۧۗۡ۬ۨۨۨۧ۬ۗۛۡۜۨۙۘۛۨۢۤ۠ۢۖ۠۫ۗ۟۫ۛۗۘۚۚ۠۠ۗ۠ۢۚۗۘ۠ۢۗۘۨۙۙۜۘۡۖۖۙ۬ۤۖۜۗۜۧۧۚۢۛۙۛۨۗ۫ۖ۬۠ۘ۠ۖۧ۫ۨ۟ۜۡ۫۫ۛۖۗ۫ۘ۫ۡۗۛۤۚ۟ۛۘۧ۬ۧ۫ۡۚ۠ۤۛۤ۟ۘۖ۫ۛۚۚۘۖۢ۬ۜۤۙۤ۠۠ۢۤۛۗۗۖۤۘۛۧ۟ۢۢ۠۬ۙۘ۬ۢ۟ۙۖ۠ۨۤۡۡ۟ۤ۫۫ۤۧ۠ۡۤۡۨۘۘۗۤۧۨۘۨۧۙ۬۠ۘۛۗۤۖ۫ۙۡ۠۟ۢ۬ۙ۟۠۫ۙۚۤۤۤۗ۟ۘ۬ۘ۫ۚۨ۬ۡۨ۠ۧۘ۫۟۫ۗ۫ۨۚۚۧۛۙۛۡۗۤ۫۬ۧ۟ۙۨ۫ۧ۟ۜۚۙ۟ۗ۫۟ۘۡۛ۬ۡ۟۠ۨۢ۟ۢ۬ۙۙۖۡۗۧ۬ۖۤۘۚۧۤۘۖۨۗۙ۬۬ۖۖۗ۠ۡ۠ۜ۫ۡۢۘۖ۟ۨۤۢۨۙۜۚۚۨۢۨ۟ۜۢۖۙۖۖ۠۫۫ۙۗۗۢۧ۠ۛۛۧۛ۟ۧۢۜۛۜۜۖۙۗ۬ۘۡ۬ۢۢ۟ۨۡ۫ۗۜ۫ۜۗۢۢۖ۟ۢۨۡ۫ۙۤۘۙۤۜۗۜۢ۠ۘۗ۬۬۫ۤۚۜۗۙۜۨۗۨۡۧۗۧۧۘۢۙۖ۟ۗۤ۬۬ۧۜۢ۠ۘۗۢۘۖ۟ۙۡۡۗۙۘ۫۬ۖۖۗۢ۬۬ۜۙ۟ۜۚ۠ۘ۫ۤۤ۫۟ۤ۟۫ۘۘۢۡۗۙۘۚ۠۠ۗۘ۟ۧ۟ۛۛۙۡۜۘۨۖۢۚۧۙ۫۫ۖۖۨۘۜۚۚۨ۠ۘ۠ۖۡۜۤۢۧۡۙۜ۠ۧ۬ۡۗۜۨۧۖۤۙۛۜۘۢۢ۟۬ۡ۬ۚ۟۬۬ۛ۫ۗۨۘۡۧۧۖ۟۬ۖۗۗۗۖۧۜ۫ۨۘ۬ۘ۫۟۟ۤۚۛۛۡ۟۟ۛۖ۠ۡۘۜۧ۠ۖۡ۬ۜۢ۠ۖۧۡ۫ۙ۫ۜۘۢۚ۠۠ۗ۠ۢۙۗۡۨۖۧۘۛۤۜۡۢ۟۬۬ۨۖۛۧۜ۠ۢۧ۫ۨ۟ۜۡۜۗۘۘۧۖۖۜۡۧۧۛ۫۟ۗۛۘۚۘۡ۫ۢۡۚ۬ۘۖۧۙۡ۫۬۟۬ۗ۟ۜۡۘۘۘۡۗۚۡۧۤۢ۟ۚۡۗۧ۬ۨۧۜۡۜۤ۫۫ۢۙۨ۫ۜۡ۟۟ۤۚۗۗۚۙۡۜۚۘۨۜۢۡۖ۟۟ۚۡ۬۬۟ۖۢ۟۠ۜ۟ۙ۠ۢۘۗۨۚۚۛۧ۬ۢۢۧ۠ۛۗۘ۟۫ۘ۟ۗۡۧۤ۠۫۬ۨ۟ۨۖۡۜۨۚ۠۠ۤۖ۟ۖ۬ۡۙ۠ۢۨ۠ۧۡۢۨ۬ۙ۟۠ۚۗۢۤۖۙۨۤۖ۟ۢۘ۫۫۬ۤ۬ۖ۬ۤۢۘۖۧ۟ۨۖۡۤۨۚۖۙۙ۫ۢۘۜ۫ۛۡۨۜۖ۟ۤ۟ۖۧۖ۠۫ۤ۫۫۟ۘۢۚۙ۬ۡۢۧۧۙۙۖۗۡ۠ۧ۠ۛۗ۟۠ۘۤۡ۫ۘۤ۟۫ۘۗۧۤۗۧۚۚۗۢۖۢۛ۬ۧۜۛۜۗ۬۬ۛ۫ۙۘۘۙۤۧۨۙۛۤ۫۫ۛۛۡ۟ۖ۠۟ۚ۫۬ۙۢۨۜۖۜۛۙۚۘۤۖۜۢۢۛۧ۠۬ۗ۠۠ۢۚۗۗۙۛۡۗۗۘۨۧۙۛۖۖۜۚۡۛ۬ۡۖۖ۬ۖۘۢۚۡ۠ۗ۬۠ۖۖۡ۫ۜۗۜۨۛۗۖۖۚ۫ۧۛۤۡۧ۠ۢۡ۬۠ۨ۟ۨ۠۬۟ۨ۟ۘۛ۫ۢۗۛ۫ۛۢ۫ۚۖۘۚ۫ۢۡۚ۟ۛۜۤۤ۬ۢۚۙۜۙۙۨۛۤۡۛۖ۟ۧ۟ۜۚ۠ۘۙۛ۫ۘۡ۫ۜۘۗ۫ۗۧۙۛۢۗۡ۠ۘۧ۬ۧۨۤۡ۫ۘۛۖۚ۫ۧۜ۫۟ۢ۫ۡۖ۟ۛ۬ۙۙۤۧۖ۟ۖۙۧۚۨ۬۫۬ۖۘ۬ۡۗۤۡۘۜۖۚۨۤ۠ۚۢۖۡۡۧۙۛ۬ۚۧۗۛۧۜۚۤۢۖۢۡۡۡ۠۬ۢۖۚۤۛ۠ۗۙۜ۫ۤۖ۬ۧ۠ۨۜۖۨۡۘۖۤۤۛ۬ۢۗۧ۠ۜۚ۫۫ۘۛۘۢ۫ۜ۠ۨ۫ۡۡۡۧ۠ۖ۟ۛ۬ۧۖۙۗۢۗ۫۫۬۟ۤ۠ۡۡۤۢۗۗۤۨۤ۠ۚۖۛ۫ۘۨۤۜ۬۠ۛۡۚ۠ۘۡۨۜۢۡۡۢۡ۬۬ۨۡ۠۠ۜ۠ۛۖۡ۬ۖۖۖۗۢ۫۟ۤۘۡ۫ۗۧۤ۟ۛۢۢۛۜۛۧۚ۠۫ۛۤۛۙۗۡۘۚ۟۟ۘۘۨۗ۫ۧۛ۫ۚۧۢۖ۠۬ۧ۫ۤۨۡ۫ۚۤۢۖۙۤ۬ۚ۟۠ۜۧۗۨۚۙۤۛۖۨۧ۟ۙۛۖۚۙۡۤۖۡۡ۬ۘ۟۠ۨۢۜۢۘۘۛۨۙۘۙ۠ۗۢۘۢۤۤۚۛ۬ۡ۬ۖۗۢۡ۠ۚۧۨ۬ۗۖۖ۬ۘۚۢۗۨ۠۠ۙۨ۬ۛۛ۟ۜۤۚۡۡۘۗۛ۠۬ۢۖ۟ۢۨۡ۫ۖۧۧۗ۟ۡ۟ۖۜۤ۟۟۟۟ۙۨۖۡ۬ۖۡۨ۫ۨۧۧۘۖۤۤۘ۟ۧ۟۫ۨۙ۬ۤۖۜۢۜۤۙ۠ۜۘۚ۟۠ۗۚۨۧ۬ۚۢ۠ۜۤۚۛۛۚ۟ۢ۟ۗۗ۬ۗۤۙۜۢۚ۠۬ۖۧۧۖ۟ۖۢۜۙ۫ۡۨۨ۬ۘۜ۫ۜۗۘ۫ۙ۬۟ۗۘ۟ۛۡۜۗ۫۫۫ۗۘۢ۬ۤۜ۠۬ۙ۫ۜۘۢۨۖۚۜۚۘ۬ۖ۠ۚۧۡۤۡۢ۬ۨۨۨ۠ۛۡ۬ۛۚۚۜۧ۫۫ۨۙۨ۟ۧۘۗۜۢ۠ۡۡۢۚۨ۠ۚۜۜۧۧۛۗۤ۬ۢ۟۠ۨۢۤ۫ۡ۫ۡۛۗۧۗۛۤۧۗۗۨۤۜۛ۟ۤۨ۫ۛۡۜۨۛۜ۟ۤۜ۟ۧۚۚۛۙۨۢۤۢۢۧۡۧۘ۠۬ۖۘ۠۫۬ۨۖۖۚ۫ۛۧۗۨ۬۬ۗۢۨۧۗۧ۫ۖۜۛۢۧۜ۬ۛۘۧ۬ۙۗ۫ۢ۠ۙۛۤۤ۬ۚۢۚۘۜ۟ۙۧۡۜۗ۟ۘ۫ۡۗۨ۠ۤۘۖۗۖۢ۠۟۟ۢۖۚۧۗ۫۟ۖ۟ۨۤۨۙ۟ۛۙۙ۬ۤۨۜ۟ۢۗۘۡ۟ۡۚ۟ۢ۠ۛۛۤۧ۬ۙۖۨۢۘۛۗۢۨۧۧ۠ۚۢۘۙۜۘۗۨ۠ۧۤ۫ۘ۟ۤۧۛ۬ۖ۬ۖۢۧۜ۟ۚۜۨۗۨۡۧۗۧۧۘۚۢۙۚۜ۟ۤۤۗۗ۬ۗۗۛۧۧۧ۟ۙۢۙۡۙۙۘ۬۟۟ۧۢ۫ۧۘۜۤۜۖ۠۟ۨۜۤۚۙۚۙۨۢ۫ۗۘۛۤۧ۟ۛۜۧۡۖۖۙۖۤ۫ۖۘۢۚۙۛ۟ۙۘۖۡۡ۠ۧۙۜۖۧۗ۫ۨۛۡۢۖ۫ۨۡۨۗۧۨۖۖۤۙۛ۟ۧۖۨۖ۬ۜ۠ۜۗۡۧۤۢ۬ۧ۠ۡۤۢۢۚۨ۠ۧ۟ۢۙ۫ۘۜ۬ۗۨ۫ۜ۠ۙ۬ۨ۠ۨ۟ۜۧۚۚۛۘۙۖۤۤۗۧ۠ۨۘۡۙۢۡۛۖۡۤ۟۬۫۬ۛۛۘ۠۫ۤۨۗ۬ۨ۠۫ۢۖۚۧۧۜۚۗۨۜۗۧۖۤۤ۟ۤ۠ۤۙۜۢ۠ۖ۠ۛ۠ۢۚۜۧۗۜۖۧۖۡۡ۫ۙۛ۬۠۟ۙۨۧۖ۠ۛۡۤۡۜۡۚۚۤ۬ۚۢ۟ۙۧۚۨۗۙۡ۟ۚۧۖ۫ۨۤۢۨۜۗ۟ۤۨ۬۟۬ۡۤۗۙۧۤۨ۠ۗۜۡۙ۬ۡ۫ۘۨۗۢۨ۟ۚ۫ۢ۫ۜۛۡۜۗۜۨ۟ۤۤۚۚۛۡۤ۠۬ۙۨ۟ۧۤۚۘۜ۠ۨ۬ۨۤۧ۬ۧ۫ۘۘۢۘ۬ۘ۬ۘ۬ۙ۬۬ۚۡ۫ۧۙۡ۬۟ۢ۬ۡۜۙۤۢۘۤۧۖ۠ۡۧۛ۟ۚۨ۬ۙۢۡۜۢۚۙۨۚۨۜۧۚۧۡۘ۟ۢۨ۬۟۬ۖ۫ۙۖۡۗۙۘۡۧۘۨۙ۬ۤۧۨ۟ۙۢۨۜ۠ۙۛۤۢۖ۫ۨۛ۫۠ۤۙۜ۠۠۫۠ۤ۟ۢۙ۠ۤ۠ۢۗ۟۠۟ۛۤ۬۫ۜۙ۟ۜۡۢۛۖ۬ۡۨۗۛۤ۬۫ۡۘ۫۠ۘۤ۬۬ۗۢۙ۫ۖۖۖۢ۬ۛۘۢۚۙۜ۫ۤۖۡۡۖ۟ۤۗ۬ۘۛۛۚ۟ۡۜ۟ۛۨ۫۬ۘۚۡۤۖۘۤۧۖۚۛۧۢۖۜۖۗۖۖ۬ۗۤۨ۠۫ۗۧۤۗ۠ۡ۟ۖۘۙۗۡ۠۠ۧۚ۠ۡۗۘۤۗ۫ۙۗۗ۫ۤۜ۫ۖۨۤۗۡ۫۬ۘۚۡۤۖ۠ۖ۟ۖۨۡۜ۫ۚ۠ۤۜۘۜۗۡۤۗ۟ۚۗ۫ۖۖۨۤۙ۬ۗ۫۠ۧ۫ۨۛ۫ۗۚۘۢ۠ۧ۬ۨۖۖۗۢۖ۬ۜۨۨ۫ۖ۟ۜۢ۬ۚۤ۟ۤ۠۫۟ۧۧ۟ۡ۠ۖۛۤ۫ۛۛۚ۬ۡۢۘۡۚ۟۬ۨۙۘۖۤۘۗۜ۠ۧۢۚۜۛۛۗ۫ۡۜۛۡۖ۫۠ۙۜۜ۠ۙ۟ۢۤ۟۬۠ۖۜۤۧۚۗۤۛ۠ۘۨ۠ۧ۠۬ۤۚۜ۬ۙۘۗ۬ۢۘۘۜ۠ۨۚۤۤۜۤۨۗ۟ۢۗۗۧۤۜۢۙۙۜۨۤۛۛۖۙۛ۬ۨۛۜۡۨۚ۬ۜۖۖ۬ۗۛ۬ۚۧۙۨۧۛۢۙۚۧ۬ۖۜ۬ۛۨۧۚۡۢۚۤۙۨۛۚۜ۟۬ۙۚۡۜۧۧۚۢۙۨ۫ۤۙۧ۫ۙۢۙۡۘۙۡۨۢ۫ۙۤۨ۬ۘۖۧۤۜۚ۟ۤ۬۠۠ۨۘۧۘۢۗۡۜۡۢ۬ۜۜۜۤۧۜۖۜۚۢۢۖ۟۬۠ۖۖۨ۬ۜ۟ۙۖۨ۟ۨ۠ۜۤۚۛۛۗۙۗۤ۬ۢۨۜۚ۬۠ۤ۠ۢ۫ۙۙ۬ۡۜۢ۫ۙۤ۫ۤۜ۫ۘۘۢۜۚۧۤۛ۠ۖۢۗۙۤۧۜۨ۠ۛۚۤۛۤ۠ۖۗ۟۠۫ۙۤ۟۠ۢۘۘۧۤۙۖۙۙۧۗۨۙ۠ۡ۟ۖۖۨۡۧ۫ۨۛ۫ۚۧۘۚ۠ۧ۬ۨۖۢ۫ۧۨۘۨ۟ۜۡۢ۬ۗۘۡ۟ۢۡۜ۬ۢۜۡۤ۬ۙۚۡ۠ۜۤۡۖۗۖۗۢۨۧ۠ۢ۠ۘۜۙۙۜ۟ۤۤۨۙۢ۠۬۟۟۠ۜۤۢۢ۟۬ۘۧ۫ۜۤ۠ۢۙ۬۟۫ۜۚۚۧۛ۬ۨ۬ۗۗۛۘۚۘۡۢۗۨ۠ۛۚۚ۟ۨۤۤۙۤ۠ۨۘۗۤ۬۬ۖۢۤۗۛۗۛۨۨۚۙۛۧۛۖۗۚ۫ۜۧۧۛۚۧۢۖۡۖۚۤۤۖ۬ۧۚۡۤۛۚۛۨۢ۬ۜۤ۟ۛۢۧ۬ۙۗۨۢۙ۬ۚۨۙۡۨۜ۫ۧۤۙۙ۟۟۠ۨۢ۫ۨۜۢۤۤۘ۟ۗۡۢۨۜ۬ۡۗ۫ۨۗۖۡۧۙۗۧۖۗۤۙۢ۟۠ۘۡ۟ۨۜۜۙ۠ۜ۟۟ۤۢ۬ۛۖۡۤۡۚۚۤۘ۠ۛۨۛۧۤ۬ۢ۬ۗۘ۫ۧۖۖۙۖۤۤ۟ۚۜۤۖ۠۟ۨۙۧۨ۬ۧۘ۟ۖ۠ۜۖۨۖ۬۬ۗۗۢۖ۬ۡۧ۟۬ۛۜ۫ۡۤ۟ۜۢۚ۠۠ۤۙۜۤۧۚۛۡۧ۠ۚۡۤۘۗۘۛۜۨۗۨ۬ۜۜ۬ۧۖ۠۬ۡۤۙۘۛ۫ۚۧۗۙۢۧۡۡ۟ۤۙۙۚۡ۬ۛ۠ۡ۬ۡ۟۠ۘۡۨۖۘۖ۬ۢ۟ۡۛۗۘ۠ۨۖۧ۫ۧۘۙۧۨۢۡۡۖۨ۬ۖ۫ۤ۬ۤۖۜۖۤ۬ۜۖۖۡ۫ۛۗۤۛۜۤۢۢۘۜۘ۫ۤۤۚۖۧۢۘۧۖۢۚۡۙ۠۠ۨۙۜۜۧۡۛۘۨۛۡۤۢ۬۠۬ۖۛۛۗۨۗۚۗ۬ۗۚ۟ۨ۫ۚۧۧ۠ۢۤ۫ۘ۟ۤۧۚۛۛۧۚ۠ۨۜۘۖ۟۫ۜۤۡۛ۟ۛۖ۫ۢۧۨۨۖۤۢۙۧ۠ۖۗۨۤۡۨۨ۠ۡۙۚۜ۟۠۟ۧۛۗۖۖۢۧ۠ۛۛۜۛ۟ۖۙ۟۠ۨ۫ۨ۠ۖۧۖۢۜۙۤ۬ۗۤۙۢ۬ۡۡۘۗ۟ۘۡۢۗۢۛۧۡۢ۠ۘۗۗۡۜۨۘۘۛ۠۬ۢۛۢۗۙۧۘۚ۬ۗۚۘۢ۟ۘۖۨ۟ۨ۫۠ۗۢۚ۠ۘۡۙۙ۟۫۬ۨۤۧۗۜ۠ۘ۟ۗۖ۠ۜ۠ۙۘۧۗۤ۠ۤ۠۫ۘۗۗ۫ۖۙ۬ۢۤۡ۫ۡۚ۟ۛۗۡۢۘۨۨ۠ۙۗ۟۫ۛۘۢۚ۠ۧۢۛ۬ۗۨۘ۫ۖۛۜۡ۬ۙ۠۫۠ۛۙۧۡ۟ۢۚۢ۫۟۬ۘۧ۫۬ۢۙۢ۬۬ۧ۠ۨ۟ۛ۬ۙۙۖ۫ۢۙ۬ۖۡۚۛۛ۟۠ۧۙۘۨۢۢۚۜۛ۟ۤۢ۬ۤۚۘۜۚۙۧۛۧۡۤۙ۟ۤۖۡ۫ۖۤۙ۠ۡۗ۠۫ۜ۫ۜۛۤۧۖۨۘۗۤۨۖۖۤۙۛۢۤۢ۫۠ۡ۟ۢۘ۟۟ۘ۬۠ۗۛۖۢ۬ۖۛۡۧ۬ۗ۟ۡۨۖۧ۫ۖۤۘ۠ۡۜۧۘ۟ۜۘۢ۬ۤۚۧۨ۫ۧۛ۫ۧ۬ۙۖ۫ۢۙ۬ۖۡۤۨۗ۟ۙ۫ۛۘ۫ۚۘۛ۟۟ۨ۫ۧۧۤۨۧۨ۫۠۫ۤۢ۟ۜ۬۫ۙۛۡۗۡۛۡۗۨۖۚۜۨۚۧ۫ۚ۬ۜۚۤۨ۬ۙۢۗ۫ۘۖۗۢۜۚۢۢۖ۠ۙۡۖۢۘۚ۠ۨۧۢ۟ۛۜۘۖۙۖۛ۠ۡ۬ۚۗۢۚ۠ۤۢ۬ۙ۫ۤۡ۠۟ۜ۟ۤۤۜۗۜۙۢۜ۟۟ۜ۬۠ۨۤۤ۟۬ۧۧۜۤۨ۫ۙ۫ۜ۫ۜۧۧۚ۬ۤۗۚۖۚۨ۟ۗۗۘۨۖ۬ۜۢۧۚۖۖۡۤۗۤ۠۟ۚۙۧۗۢۘۡۤ۟ۡ۫۬ۘۚۡ۟ۗۚۧ۫ۚۧ۟ۨۘۤۨ۟ۚۡۛۜۛۜۗ۫۫ۧۧ۠ۢۗ۟۟۫ۧ۫ۗۤۨۖۗۤۘ۫ۤۤ۬ۙ۠ۨ۫۠ۘۢ۬ۤۜۚ۟ۨۜۜۗۨۘۛ۠ۧ۠ۜۖ۫۫ۧۙۚ۬۬۠۫ۚۘۚ۫ۛۙ۬ۢۤ۟ۜۢۨۢ۟ۡۛۧۤۜۛۗ۠ۤ۬۫ۙۖ۠ۨۧۢ۫۠ۛۡۘ۠ۛۨ۠ۤۘۙۤۤۚۜۤۢ۠ۛۜۤۨۖ۠ۙۨۙۜ۫ۨۚۚۤۗۚۖۜ۟ۡ۫۠ۚۡ۬ۢۛۡ۟ۧۡۜ۟ۗۜۤ۫۬ۜ۬ۢۤۚۧۧۜۢ۠ۢۡۢۛۡۚۗۧۙ۫۠ۙۗۨۚۚ۟ۘۗ۫۟ۘۙ۟ۤۖۢۙۜ۬ۡۖۚۘ۫ۚۛ۫ۖ۠ۢ۠۬ۘ۠ۨ۟ۢۛۜۤۛۧ۠ۡۙۚۜ۠ۤۤۛ۬ۧ۠ۨ۠۬۫۠۫ۗۗۧۧۘۡۢۛۜۧۜۚۤ۫ۛ۬ۘ۠ۚۨ۫ۨۧۖ۟۠۫۬ۡ۠ۡۘۙۛۙۙۡۜ۠ۙ۠ۘ۬ۤ۟ۖۧۙۚ۫ۤ۬ۜۧۨ۫۠۟۬ۘۙۜۡۜۧۧۚۗۜۛۙۖۙ۠ۡۗ۠۠۠ۨ۬ۨ۠ۧۡۖۗ۟۠۠ۖۗ۫ۜۙۧۖۛۢۧ۬۟ۡۨۛ۬ۧۨ۟ۧۘ۠۫ۘۧۢ۟ۡۚۚۤۤۛۗۜۗۚۙۡۜ۟۬ۙ۟۠ۙ۠ۖۡۙۚۨۢۛۡۨۡۧۘۘۖۚۙۙ۫ۚۨۚۘۖ۫ۜۨۖۨۡۘ۟ۛۧۚۖۜۙۖۤۤۡۢۜ۟ۚۧۘۚ۟۟ۘۘۘ۫۠ۧۗ۠ۜۨ۬ۙ۠۠۠ۢ۠۬ۛۤ۬۫۟ۚۛ۟ۧۤۘۗۡۧ۟۬ۡۢۗ۠ۛ۫۠ۤۗ۟۠۟ۗۘ۬ۢۧۗۚۗۨۖۚ۬ۡۤۤ۫۟ۚۘ۟ۤۧۖۘۖۢۧ۟۬ۧۢ۟۟ۢۖۡۛۙۨۤۙۢۗ۫ۘۖ۠ۧۤۛۢ۫ۛۛۜۧۧۛۗۧۨۖۛۗۚۘۚ۫ۗۙۧۜۜۚ۫ۡ۬ۜۚۚۧۛۢۙۖۙ۬ۗ۟۠ۤۚۡ۫ۨۨۨ۠۬ۤ۠۠۬ۚۘۤۗۖۚۙۙ۠۟۠۫ۙۡ۠۟ۛۜۤۤۤۤۚۙۧ۟۟ۨۡ۠ۚۙۨ۟۟ۢۢۢۢۡۛۢۖۡۖۙۗ۠ۧۖۘ۟ۚۖۚۧۧۢۚۨۨۨۧۜ۫ۖ۠ۡ۟ۨۙۨۙۘۗ۠ۘۢ۬ۜۜ۬۬ۚۛۡۘۘۨۘۢۜ۟۫ۛۨۧ۠ۛۗۧۘۡ۬۬ۜ۬ۘ۫ۨۛۚۤ۟ۗۖ۠ۛۙ۠ۤۢۚۖۧۚ۫۠ۗۤۡۗۜۛۡۤۤ۠۫ۤ۫۟ۚۘ۟ۨۢۚ۬۟ۗۨۡ۟ۛۧۚ۫ۧۜ۫ۧۛۛۖۢۗۛۤۧۤ۠ۢ۟۟ۘۘۘ۫۠ۧۚ۟۫۬ۨۘۡۡۙۜۨۢۗۖۡۧۧۙۛ۬ۖۙۨۜ۬ۜۖۛ۟۫ۖۨ۬ۛ۠۠ۨۙۡ۠ۢۢ۬۠ۜۙ۟ۜۙۧ۟ۧۛ۟ۗۙۧۜۨۘۘۧۤۤ۟ۚۡۛۙۜ۠۠ۤۡۗ۠ۗۛۘۡۨۛ۬ۜ۫ۧۗۜۛۙۢۛۨ۠ۙۢۤۧ۟۬۠ۗۛۜۢۛ۠ۚ۬۠ۡ۫ۜۗۨۢۡۙۤ۫ۙۖۨۛۖۤۢۧ۬ۙۜ۬ۘۘۜ۫ۙۧۘۙۡۧ۟۬ۡۜۛۧۖ۫ۨۗۧۨۛۛۖۚۚۚ۫ۛۤۨ۫ۘۛۢۢۤ۟ۛۤۛۜۖۤۖۗ۟۟۫ۧۖ۠ۡۗ۟ۛۙۨۖۚۢۨ۬ۜۡ۫ۛ۬ۜۤ۟ۘۤ۟۟۟۟ۘۘۛ۬ۛ۟ۘۡۜ۠ۢۤۤۙۧ۫ۗۤۜ۠۬۬ۙ۬ۙ۫۠ۧۢۢۜۛۤۖۜۖۙ۠۠۟ۤۖۘۗۖۖۛۡ۠۟ۖۘۚ۫ۡۤۛۖۡۤۖۘۢۧۨۨۢۡۛۖۘۙۛۚۨۢۤۙۖ۟ۙ۬ۧۖۜۛۡۤۖۨۢۘۢۛۗۧۜۡۜ۠۟ۤۜ۟ۢۢۖ۠۫ۧ۫ۗۚۖۢۜۢۢ۟ۖۘ۫ۧۖۗۘۡ۟ۘۧ۬ۤ۫ۗۤ۠ۜۛ۫ۚۚۛۢۜۢۚۚۤۢۜ۫ۙۨ۟ۜ۬ۢۖۡۢۘۨۗۚۨۧ۟۫ۚۗ۠ۜ۠ۢۚۗ۟ۧۡ۬۟ۢ۠۟ۘۧۚۚۜۧۗۨ۫ۢۖۧ۟ۨۧۛ۫ۧۡۡۚ۟۫ۚۘۛ۟۟ۚۗ۬ۚۤ۟۫ۘۡۚۢۖ۫ۨۧ۠۫۠ۢۘۨۨۧۘۘۤ۟۠ۤۚۛۛ۟ۜۡۛۡۚ۟ۛۖ۫ۙ۫ۨۤۧۙۛۤۧۤۢۡۘۧ۫ۜۡۨۢۛۖۧۖۜ۟ۚۗۡۜۡۢۤۢ۫۫ۘ۫ۜۘۤۖۛۙۚۨۗ۠۬ۚۤ۫ۚۖۤۡۘۜۗۗ۠ۛ۠ۚۘۙ۬ۢۤۢ۫ۜۢۗۚۜۨۚۧ۬۫۟۠ۘ۟ۚۙ۟ۧ۠ۛ۟ۖۜۤ۠ۖ۠ۛۛۤۛۧ۠ۘۡ۬ۖۙ۟۠ۨۢ۟ۢ۬ۙۙۖۤۜۡۢۘ۟ۤۧۛۢ۟۟ۧ۬۠۫۫ۨۛۡۚ۠ۘۡ۟۠ۡۛۧ۫ۨۙ۟ۢۙ۟ۜ۠ۢۛ۟ۤ۫ۙۧۧۧۘۖۘ۬ۧۡ۟ۜۢۡ۟ۖۘۚ۬۟۟ۚۧۧۖۧۨ۠۫۟ۛۨ۬ۛۛ۟ۧ۫ۙۡ۠ۚۤۡۗ۫۠ۗۛۗۚ۬ۛۨۜۛۚۡۧ۫ۨ۟ۙ۠ۛۡۢۤ۫ۖۗۨۤۚۤۢۧ۟ۤۜ۟ۤ۬۠ۚۢۖۢۡ۬۟ۧۗۚۖۚۘۢۖۤۙ۠۫ۛ۟ۧۢۙ۟۟ۧۤۛۘۗۙ۬۟ۧ۫ۙۡۨۢ۫۬ۧ۟ۙۧۚۚۛۤۛۛۗۧۢۛۤ۫ۛ۬ۤۛ۫ۨۡ۫ۨۧۧۚۜۡۤۢۛۛۛۤۢۛۛ۟ۜ۫۬۟ۚۢ۬ۛۗۤۢۜ۬ۛۗ۬ۡۧۨۡ۬ۙۜۨۢۛۚۢۛۛۛ۠ۧۤۖۘۘۗۚۗ۬ۗۛ۫ۖۗۖۙ۫ۡۤ۟۬ۘۘ۠ۙۗۘۧۜ۬۠ۛ۫ۤۛۡ۬ۙۜۨۢۛۚۢۛۛۛۜۧ۬ۛۛ۫۟ۘۧۡۙۖ۟ۧۘۧۗۡ۠ۘۘ۟ۙ۬ۖۛ۟۠ۚۨۤۜۤۙۧۨۤۨۚۜ۬ۚۗۛۛۙۨۤۜ۫ۖۨۢۧۖ۠ۖۛۤۨۜۤۜۗۜۘۤ۬ۖۘ۫ۤۛۛ۟ۜ۠ۖ۠ۛ۫ۙۤ۟ۧۡۨ۟ۧۘۙۛۨۗۘۖۘۡۡۗ۟ۛۡۢۜۖۤۜۧ۫ۤۨۚۖۛۘۢۖۢۛۗۨۧ۟ۗۜۨۧۗۧ۫ۖۜۛۗ۫ۚۙۡۜۡۚۤۡۘۜۗۚ۬ۛ۟ۙۙۙۧۗۛۢۗۙۖ۬ۛۙ۠ۘۙۗ۠ۗ۬۠ۖۢ۬۟ۗۢ۬ۜۗۛۜ۠ۢۢۧ۠ۧ۫ۗۤۙۢۛ۟ۚۘۖ۫ۢۧۙۘ۟۟ۧۡۖۗۧۘۛ۬ۡۖ۠ۢ۠۬ۨۙۖۜۤ۠ۛۖۤۛ۠ۚۨۙۡ۠۟ۤۡۢۙۜۨۛۢۨ۬ۧۛ۫۠ۤۘۙۛۙۖ۬ۤ۟۫ۘۗۖۙ۫ۢۤۗۗ۬ۢ۠ۚ۠ۛۛۤۧ۬ۡۚ۫ۨۢۘۨ۠۫ۗ۫ۗۡ۠۠ۜ۟ۤۤۚۘۜۚۙۨ۬ۧۧۡۛ۫۠ۨۗۜۡۜۜۚۧۗۙۖۢ۬ۖ۟ۚۘ۠۫ۛ۫ۜ۠ۙۨ۬ۨ۠ۡۙ۠ۢۗ۟۠۟ۧ۫ۧۘۚۛۖۢۜۙۨۡۤ۫۟ۛۧۚ۫ۧۜ۫ۧۛۤ۠ۖۗۙۡۡۜۗۧۚۙۨۢۘۖۚۚۛۨۢۖۗۧ۬ۜۗۗۖۢۜۙ۫۫ۖۖۖۛۨۤۨۧۧۙ۠۫ۡ۬۫ۨۜۢۖۡۤۘۚۧۙۨۘۙ۠۟\n",
            "۠ۗۢۘۜۨۘۚۘۡ۠ۧۡ۬ۖ۟ۡۘۢۡ۫ۘۧ۠ۗۤۘۛ۬۬ۛ۫۫۫ۘۖۜۙ۟۠۠ۘۚ۠۬ۜۚۜۡ۠ۗ۫ۚۖۡۡۤ۠ۚۗۡ۟ۖۧ۟۫ۘ۟۠ۛۢ۬ۢۖۗ۫ۚۖۙۚۜ۫۬ۖۧ۫ۛۗۡۨۡۗۛۨۢۖۜۛ۟ۜ۠ۖۧۡۧۘ۟ۡ۠ۗۗۘ۟۫ۖۨ۬ۛ۠۠ۨۙۡ۠ۜۢۧ۬ۖۜۢۧۚ۟ۜۘ۬ۛ۫ۧ۠۬ۨۚۚۗۚۘۚۚۚۖۢۢ۟۫۫ۢ۬ۖ۠۫ۚۙۤۢۘۖۘۙۜ۟۫ۛۡ۬ۧۖۛۚۨۢۗ۟ۘۖۧۗۖۖ۫ۚۚۗۚۙۧ۠ۧۘۛۤ۫ۙۚۨ۠ۡ۠ۜۡ۟ۖۙۗۨۤۡۘۡ۬ۡ۟ۘۘۜۖۧۢ۟۬ۜۤۧۤۙ۬ۘۚۘۤ۫ۧۧ۬ۛۚۚۘۤۢۡ۟ۙ۫۟ۨ۟ۜۗۛۖۧۘ۟ۗۛ۬ۙۚۛۡۗۗۚ۫۠ۖۘ۫ۧۗۖۙۢۚۧۜۖۢۤۡۢۗۗۚۛۙ۫ۘۢۛۖۤۤۢۙۨۨۙۡۖ۫ۖۤۙ۟ۧ۫۠ۨۢۛۡۗۜۨۢۨ۟ۢ۬ۘ۫۫ۧۛۜ۠ۤۚۗۘۘۘۙۡۚۨ۫ۖۚۖۛۘ۟۫ۢۙۗۗۘۘ۬۫ۙۡ۠ۘۚۜۨۙ۫ۖۗۖۚ۠ۘ۠ۨۡۨۨۢۤ۫ۖۘۢ۠ۨۛ۟۠۫ۨ۠ۘۤ۬ۡۙۤۡۙۙۛ۠ۜۙۗۧ۬ۡ۬ۨۙۛۧ۬۠۬ۧۡ۬ۙ۫ۡۜۚۡۜۨ۠ۖۧۧۡۙۧ۬۫ۤۨۘ۠ۤ۫ۘۗۙ۟۠ۨ۬۟ۙۗۛۗۖ۟ۙ۟۠ۤ۠ۛۘ۫ۗۙۜۙۜۗۨۧۨۘ۬ۢۡۚۨۖۖۘۗۖۨۡۧۙۡۖ۫ۤۙۙ۟۬ۘۨ۠۫ۧۙۢ۫ۨ۠ۛۛۨۙ۬ۙ۫۠ۡۘۧۖۖۨ۫ۜۘ۠ۘۖۙۖ۬ۨۗۗۨۢ۠ۨۧۡ۠ۛۙۘۗۨۛ۫ۜ۠ۚۖۚ۫۬ۤۖۢۡۡۢۚ۠۫۬۠ۗۜۗ۟ۚۛۙ۬۠ۤ۠ۗۖۜۨۧۢ۟ۨۤۜۖ۫ۜۖۘۨۢۙۧۙۢۘ۬۬ۨ۠ۡۢۢۨ۟ۙۜۙۙ۟۫ۧۨۖ۫ۢۧ۬۟ۨ۫ۛۛۧ۫۫ۚۤ۫۠ۜۘۢۙ۬۬ۙۜۚۖۤ۟ۢ۟۠ۡۘ۫ۢۜۜۖۨۤۖ۬ۡ۟ۢۛۨۨۖ۟۫ۨ۬۬۫ۘ۫ۢ۠ۚ۠ۨۡۤۛۨۤۜۤۗۛۨۢ۫ۚۗۡۧۨۜۙۡ۬ۖ۬۠ۜ۠۠ۧ۟ۨۧ۟ۧ۟ۤۤ۫ۚۖۗۘۚۗۛۡۤۙ۬ۛۤۜۜ۫ۤۨۖ۫ۤۡۚۘۘۤۡ۬۠ۖ۬۫ۧۨ۟۟ۧ۠ۤۖ۫ۚۡۡ۟۟ۢۙۘۢۗۤۨ۠ۖۨ۬ۘۡۡۤۡۨ۠ۘ۫ۡۤۧۙ۟ۖۗۨۗ۫ۘۙ۠ۖ۟ۨۘۗۤۖۢۙۘۙ۫ۧۙۘۤۤۖ۠۬۟۫ۛ۬ۧۡ۠ۢ۫ۨۚ۫ۤ۠ۤۚۤۜۗ۫ۗۛۚۤ۫ۧۡۖۡۗۖ۟ۜ۟ۛۧۡۧ۫ۨ۬ۛۡۖۢۡۛۙۡ۬ۤۧ۠۟۟ۗۛۤۙۡۖۖۙۨۤۙ۫ۖۙۗ۫۠۫ۢۤۧۤ۟ۡۢۘۤۙۚۡۛ۫ۛۖۚۖۨ۠ۨ۠ۚۢۖ۫۬ۨۨۧۖۜ۟ۨۛ۫ۧۤۢۗۡۘۛۚۧۨۤۤ۬۠ۖ۫ۘۘۛۜ۫ۨۖۨۨۚ۠ۚۖۘۜ۬ۨ۠ۜۧۡۢۗۗ۫ۨۙۤ۫ۘۚۗۛ۬ۛۡ۫ۖۘۨ۫ۜۨۧ۠ۙ۟۠ۜۤۙ۟۫ۙۢۢۛ۟ۖۧۧۙۡۛۙۘ۬ۘۤۚۛۧۤۤ۫ۢۙۧۚۚۛۙۙۖۗۜ۟۟ۗ۫ۨۗۜۤ۠ۛۧ۟ۛۘۖ۠ۗۤ۠۟ۧۤۤ۟ۤۢۘۖۖۙ۟۬ۚۤ۠ۗ۠ۢ۫ۘۨۗۡۧۗ۬ۢ۬ۢ۫ۘ۬ۨۜۖ۬ۡۢ۟ۢۡۖۜۡۨۨۨۖۚ۫ۨۤۨۘۖۚۤۙۗ۬ۢۜۛۘ۠ۜۢۧۜ۬ۛۡ۟ۖۘۙۗ۟ۢۛۢۛۗۡ۟ۡۧ۫ۧ۠ۨۢ۟ۘۜۢۙۛۤۡۖۚ۬ۡ۟ۗۡۡۙۚۙ۟ۨۗۤۢ۟ۨۙۤۢۨۧۢ۠۬ۧۚۢۚۙۚۛۖ۟ۚۨۘ۬ۘۛۖۘۙۨۤۨۨۤ۠ۤۖۧ۫ۚۨۜۢۨۚ۟۠ۨۖۜ۠۬۫۠۫۫ۢۛۢ۠ۤۤۨ۬ۢۙۜ۟ۧۡۚۢۧ۬۬ۤ۠۠۫ۨۡ۫ۤۧ۫۠ۡۙۢۨۙ۬۬ۖۜۨۛۛۖۢۛۡۙ۠ۗۤ۫۠۟ۘۚۙ۬ۖۢۚ۫ۘۤۜۤۡ۠ۚۢ۟ۙۛ۫۫ۜۚۢۧۙۗۜ۠ۚۗ۟ۡۧۢۖۛۗۢۙۚ۫۠ۜۛۢ۟ۗۖۧۡ۬ۖۡۖ۟۠ۜۨۨۗۨۡۡۛۡۨۤۧۘ۠ۘ۫ۛۡۙ۫ۖۨۘ۠ۧۗۨۚۧۖ۟ۤ۟۬ۜ۠ۜۢ۠۠۠ۜ۠۫ۚۤۨۛۘۛۙ۬ۘۗ۫ۖۜۡۖ۠ۤۜۗۜ۠۬ۤۨ۬۫ۛۛۨۢۡۗ۫۬ۡۚۖ۬ۨۘ۬ۘۜۚۚۚۛ۬۠ۨۜۧۙۚۧۡ۟ۨۢۚۖ۫ۜۛ۬ۘۧۗۖۚۚ۬ۖۨۨۧۙۢۙۛۗۧ۠ۙۛۚۧۨۘۤ۠ۘۛۘۘۤ۟ۙۘۜۨۨۛۘ۟ۧۜۧۨۡ۫۠ۛۛ۫ۤ۟ۙ۬ۚ۠ۖۨ۬ۖۨۛۛ۠ۛ۬ۖۗۜ۬ۙۧۢۜۢۡۧۙ۠۫ۨۘۗۘۜۡۢۛۢۛۗۚۚ۬ۜۧ۬ۗ۠ۗۚۛۛۧۚۨۙۘ۟ۖۤۙۤۚۜۗۖ۫ۗۤۜۖۘۙ۬ۡ۠۠ۖۡۙۙۗۨۢ۟ۗۗ۬ۗۛۗۘۖ۟۬ۢ۟۠۫۬ۗۜۨۧۡۗ۠ۛۜۢۧۧۛۙۢ۫۬ۡۧۧۡۖۢ۠ۨ۬ۙۧۗ۠ۗۗ۬ۡۜۘۗۚ۠ۘ۫ۜۨ۟۫ۡۡۖ۬ۧ۠ۚۤۧ۫ۜۙۡ۠۫ۢ۠ۤۛۡ۬ۧۨ۫۠ۧۛۙۘۧۨۜۗۧ۠۟ۜۨۙ۬ۨۨۤ۬۟ۗۛ۟ۡۨ۫ۜۚۨ۬ۨۖۘۢ۟ۜۧ۠۬ۤۘ۫۬ۢۤۡۢۘۨۙۗۚۤ۫ۤۢۜۘۢۗ۠ۗۙۚۢ۬۟۟ۜۤۢۜۗۛۢ۠ۤۖۡۧۨ۬۟ۙۤۖۡۢۛۙۘۢۜۗۛۨ۟ۗۜ۫ۤۛۜ۠ۘۙ۟۫ۤ۟ۡۗۜۡۜۨۚ۠ۢۖۛۛۨ۠ۖ۠ۛۚۖۚۧۗۤۡۢۘۚۘۜۧ۫ۧ۠۠ۢۤ۫ۖ۫۠۟ۗۖۜ۟ۧۙۗ۬ۨۨ۫ۤۗ۫ۜۡۢۤۖۧۡۨ۟۫ۖۧۡ۬۫ۛۡ۬۟ۘۚۤ۫ۖۡۜ۟ۘۧ۠۠ۗ۫ۘۜۢۨۚۚ۬۠ۗ۫ۧۚۚ۫ۤۙ۫۫ۜۨۢ۫ۖۚۗۚۙ۫۫ۘۘۨۤۚ۫ۙۗ۫ۨۢ۬ۙۛۨۙ۠ۢۜ۟ۚۙۚۖۡۢ۬ۙۨۢۖۡۢۢۧ۫ۘۧۢۛ۫۠ۤۗۛ۫ۡۤ۫ۢۖۜۛۘۨۖۡۡ۫۬ۗۡۚۡۨۗۘۙۜۤۚ۬ۧۧ۠ۧۧۡۗۗۗۙۜۧ۫۫۠۬ۖۤۤۡۖۡ۟ۛۢۛۖ۠ۡ۬ۚۤۧ۟ۙ۫ۧ۫ۡۤۧ۟ۛۚ۠۫ۜ۬ۧ۫۬ۨۡۜۜ۟ۚۢ۠۫۠ۛۙۙۛۚۧۖۘۖۛۛ۟ۨۚۛۖۚۘۨ۬۠ۧۘۢ۫۫۟ۨۨۧ۫ۚۖۡۖۤۛۖ۫ۖۙۨۖ۠ۡۛۛ۠ۜۖۡ۫ۖۤۤۚۛۖۡۡ۬ۧۤۘۚۗۜۛ۬ۤ۫۫ۜۙ۠ۧ۫ۚۗۚۛۖ۠ۨۨۚۙۧۨۖۛۛۘۜ۟ۗۗ۠ۤۖ۟ۘۢ۬ۡۖۜۗۘۖۚۛ۟ۡۚۨۖۤۤۚۨۡۤۜ۫ۡ۬ۨۢۧۜۨ۫ۨ۬۫ۨۧۧۨۗۗۢ۫۟۫ۚۛ۟ۜۘۧ۟ۗ۟ۨۧۢۖۚۙۜۤۘۗ۠ۘۧ۠۠ۘۛۢ۫ۧۙۗۛۤۢ۠ۜۘۗۧۡ۠ۤۗۚۢۨۖۨۖۖ۫۟ۛ۫ۤۢۗ۟۟ۖۙۖۤۛۜۤ۠ۡۢۡۙ۟۠ۧۢۗ۟ۙۢۧۢ۟ۢ۟ۡ۬ۗۛۚ۠۬ۚۚۘۧ۟ۡ۫ۙۧۜۡۨۗۚۤ۬ۛ۫ۛۖۡ۬ۨۚۛ۫۫۟۫ۢۡۢۤۙۖۡۘۨ۠ۧۘۘۢۚ۬ۙۤ۫۬۬ۧ۬۬ۧ۬ۚۤۤۖۧۢۗ۠۟ۘۧۘۙۗۖ۟۬ۨ۠ۤ۟ۜۜۢۨۨۙۢۛ۫۫ۚ۟ۤۗ۫ۤۨۚۜۘۢۜۙۛ۫ۧۜۚ۠ۚۜۛۡۨۛۘۨۙ۬ۖۘۜۗۚۤۛۤۨۘۡۘۢۜۤ۟ۗۙۖ۟ۧ۫ۘۛۙ۟ۢۡۖۧۗۛ۠ۛۚۛۛۖ۠۟ۨۛۧۧۙ۬ۤ۟ۘۘۤۡۛۧۧۧۤۙۖ۟ۜۘۧۚۘۡۗۜ۠ۗۚۢۜۚۗۧۡۛۤ۬۠ۧۖۘ۟ۨۢۤۡۨۖۙۖۛۘ۫ۗۛۙۢ۬ۛۗۢۤۜۗۖۢ۫ۛۜۖۢ۫۫ۜۙۡۡ۟ۧۡۘۗۛۢ۠ۢ۫ۙۢۤ۬ۨۘ۫ۖۖۙۛ۬ۜۢ۠ۗۤ۟ۜۚۙۜۖۢۡۧۙۘۚۗ۟۬ۛۢۘۡ۟۠۠ۚۨۜۗ۬ۖۨۤۧۚۘۡۘۙ۬ۧ۬ۨۖۖۧۗۘۧۖۚ۠ۚ۟ۙۢۧۨۢۗۡ۠ۢۢۡۤۢۚۛۗۙ۫ۙ۬ۙۤۖۚ۫۠ۘۢۤۨۧۘ۠ۖ۠ۧۙۨۨۛۖۛۛ۠ۤ۫ۨ۫۠ۖۛۜۤۚۙ۟ۢۗۧۤ۠ۧۚۢ۟ۙ۬ۙۨ۬۠ۙۛۖۖۨۧ۟ۢ۟۬ۧۨۙۡۖۤۨۗۚۡ۫۫ۚۤ۬ۤۜ۬۠ۤ۫ۢ۬۬ۜ۟۫ۡۢۙ۬ۛۛۧ۟ۧۤۨۚۡۜۙۘۜۜ۠ۛۚۖۨۘۨۜۨۚۚۙ۬۬۬ۡۜۤ۫ۤۛ۠۟ۛۖۤۖۘۢۛ۫ۧۗۖۧۡ۫ۜۤۡۘ۬ۜۡ۟ۖ۠ۗۘ۠ۨۡ۫ۡۚۙۤ۟ۧۙۧۡۜ۟ۗ۠ۗۨۡۛ۟۬ۜۡ۬ۡۘۚۙۨۨ۬ۛۙۖۢۤۛۛ۬ۜۗ۬ۖۖۤۢۨ۠ۚۚۧۖۛ۫ۧ۟۠ۤۡۗۧ۠ۨ۫ۗۡۜۜۘۙۚ۟ۖۙۘۖۤۗۨۧ۠۫ۨۘۘۖۚۧۢۗۢ۫ۛۙۚۚۗۤۜۨۗۙ۬۠ۙۨۙۛۚ۫ۛۧ۟ۚ۟ۚۚۖ۟ۘ۬ۖۘ۫۟ۜۜۡۖۤ۬ۧۘۚۢ۟ۜ۫ۢۨۧۨۧۙۘۧۖۖ۬ۧۖۢۨۛ۫۟۟ۗۧۚ۫ۖۨ۫ۡ۟۟ۧۧۖۛۜۡۨ۠۬ۤۨ۠۟ۤ۟ۧۡۨۢۚۘۜ۫ۛۤۡ۟ۨ۟ۤۘۚۘۨۙۙۤۘۧۤ۟ۙۙۚۢۗ۟۬ۖ۠ۜۢۗۛۙۛۤۘۙۛۤۖ۠۫ۧۡۜۖۢ۫ۘ۠ۤۘ۠ۚۡۚ۬ۜۡۙۨۢۨۢۢۖۧۛۛۙۜۜۜۘۜۘۛ۠ۙۙۖۢۤۘۢ۫ۖ۟ۙۨۜۛۛۘۜۜۡۧۘۘۖ۫ۨۜ۠ۜۢۛۜۗ۠۠ۨۗۜۢ۠ۛۢۚۙۧۛۤۨ۟ۗۜۗۤۢۡ۠ۢۜۛۧۛۨۡۤۙۙۤۗۜۢۚ۫ۙۖۨۗۘۙۙۨۨۙ۬ۤ۫ۙۛۗۧۘۡ۠ۧ۟ۜۘۨۙۡ۠ۧۧ۬ۧۙۨۨۘ۫ۛ۫ۘ۬ۖۤ۬ۤۡۛۚ۫۬ۙۜۨ۠ۢ۫ۤۘۨ۫ۨۖ۠۬ۡۛۛۚۧۗۘۧۙۗ۬ۤۧۚ۫ۧۖ۬ۜۚۛ۫ۛۜۚۗ۫ۛۢۘۘۤ۠۟ۡۧۧ۫ۧ۫ۧۙۙۜ۬ۛۘۢۡۙ۠ۘۗۧۗۛ۬ۗۛۖۤۨ۠۠ۤۨۘ۫ۗ۠ۚۖۙ۬ۛۚۛۨۗۙۨۙۗۜۘۧۜۘۜۘ۫۠ۖ۠۟ۚۧۨ۫۠ۡۘۡ۟ۡۙۢ۟ۧۙۗۢ۬ۤۛۗۙۢۖۡ۫ۧۢۤۚۜۢۢۜۛۤ۫ۚۢ۟ۡۛۖ۫۫ۛۤ۠ۖ۫ۡۘۤۤۤۖۧۨۜۧ۬ۜۨۜۜ۟ۢ۠۫ۤۛ۬ۤۡ۬ۛ۟۫ۢ۬ۜۛ۠ۗ۠۟ۨۗ۟ۚۘۜۘ۫۟۠۠ۚۚۢۨۖ۬ۤ۠ۛ۬ۤۗۚ۬۟۠ۨ۫ۛۜۘ۠۬ۘ۟ۧۙ۬ۖۨۛۜۛ۟ۘۙۙ۬ۖۤۢ۬ۛۜۙ۠۫۬ۤۢۡۡۘۗۚۘۘ۠۫ۙۧۛ۠ۖۚۚۙۘۤۛۘۜ۫ۘۧۙۗ۬۬ۡۤ۟ۙ۬۬ۙ۫ۢۡۘۚ۫ۖۗۤۢ۠ۜۤۡ۠۟۟۫ۜ۠ۖ۠۫ۧۧ۟۠ۡۗ۬۫ۧۗ۟ۗ۠ۨۘ۬ۨ۬ۤۨۚ۫ۗ۠۟ۚۢۛۡۖۗۙۧۗ۟ۤۤ۟ۧۢ۫ۗ۫ۧۜۤۘ۬ۜۙۨۙۙۖ۠ۚۖۛۛۖۛۘۡۧ۟۫ۢۛۡۚۜۙۙ۬۬ۨ۟ۨۢۢۧ۠ۗۗۢ۟۬۠ۙۛۚۛ۫ۗۘۖۚۛۨۗۢۧ۬ۙۧ۠۟ۢ۠۠۠ۛۜۤۚۘۘۜۡ۫ۖۡ۠ۖۡۖ۬ۖۜۡ۬ۤ۫ۚۡۧۗ۠ۖ۬ۜ۫ۙۢۛۤۤ۟ۜۜۡۢۛۙ۬ۢۡۢۚۛۗۖ۬۬۫ۘۗۡۡ۫ۡۚۧ۠ۚۘۧ۠ۖۜ۠ۜۡۚ۟۟ۤۧۚۤۚۡۙۗۡ۠ۛ۬ۜۗ۬ۙۜۡۧ۫ۙ۫ۘۤۙۜۚۨۙ۟ۚۜ۫ۡۚ۫۟ۛۙۧ۠ۧۚۨ۠۠ۢۚ۬ۡ۟۬ۚ۫ۚۨۨۨۧۙ۫۬ۛۨۢۤۧۤۤۘ۬ۖۘۢۢۖ۬ۤۗ۬۬ۗ۬ۛۧۡۡ۫ۚۢۧۛ۬۬۬ۛۤۤۚۧ۬۠ۚۡۤۨۙۢۢۙۡۨ۟ۗۛۡۗ۬۬ۤۜۧ۟۫ۛۨۡۜۛۡۙ۫۠ۨۢۛ۫۟۬ۨۖۗۤۛۚۚۚۧۤۨۚۡۨۤۨ۟ۨۧۡۜۢۤۛ۠ۘۢۚۚۘۤۗۜۨۨۗۤۢۚۧۧ۟۫ۙ۬ۢۗۨۧ۬۬ۢۢ۟ۨۨۘ۬ۨ۠۠۫ۙۖ۠۟ۤۚ۟ۡۘۧۗۘۤۙ۬ۚۧ۠ۧۤۨ۟۫ۜۖۢۡۖ۟ۨۖ۬ۤۘۜۨۜۡۖۗ۬ۛۛۛ۫ۤ۟ۢۗۤ۠ۙۛ۫۬۬۟ۙ۟ۚۡۙۙۜۛۚۜۙ۟ۡۤۚۙ۟۟۫ۜ۬۠ۖۘ۟ۡۙۙۚۚ۟ۤ۟ۧۧۙۛۡ۫ۛۨۜ۟ۤۢۢۜۡ۫ۖۢۘۛ۬۠ۘۧۤ۬ۨۗۤ۬۟ۢ۫ۢ۫ۘ۠ۘ۫۫ۜۜۨ۠ۨۛۡ۬۟ۡۡۨۛ۟۠ۘۧۛۢۗۡۢۜۙۧۛۨۖۛۛۨۙ۫ۖۡۨۚۡۚۘۧۗۖ۠۬۬ۡۙۛۚ۬ۚۨ۬۟ۨۗۜۗۡۡ۬۫ۗۙ۬ۚۗ۠۬۬ۖۖ۬۠ۚۧۤۛۤۚۙۜۘۧ۠۫ۗۙۗۢۤۗۘۘۛ۠۬ۛۧۘۗ۠ۛۧۨۧۗۡۚ۟۬۬ۡۛۚۛۨۤ۫ۡۖ۫۟ۘۚۛ۫ۨۢۧۤۢۡۢ۫ۧۨۖۚ۫۫ۧ۟ۧ۬ۜۗ۠ۜۜۡۖۨۜۘۜۗ۟۠ۗۖۖ۟ۤ۬ۤۧۙۗ۫ۨۧۢۚۘۗۡۢ۟ۘۜۧ۫ۙۙۗۘۤۜۜ۬ۖۡۧ۫ۙۜ۬ۙۘۘۢۖۚۙۡۛۨۙۜۡ۬۟۫ۖ۟ۜۛ۫ۙۜۡۢ۠ۧۛۨۜۙۡۛۨۧ۟ۖ۠۫ۖ۬۠ۨۗۢۛۚۨۚۡۡۨ۠ۜۨ۬۠ۖۤۜۜۘۙ۬ۗۗۚۡۘ۬ۙۧۚۛ۫ۨۡۘۨ۠ۛۗۨ۫ۢۢۡۨۖۧ۟ۗۨۢۤۖۘ۟۫ۘۨۘۜۢۜ۠ۢۘۙۗۢۛۢۚۧ۟۟۫ۙ۟ۚۖ۟ۤۡۡ۠ۙۡۛ۟ۜۖ۫۫ۚ۬ۚۘ۠ۖۡۖۧۛۡۚۜۨ۟۟ۧۗ۬ۢۤۨۡۤ۬ۙۨۜۗۛ۠ۗۤ۟۟۟ۛۙ۫ۙۛۚۜۖۜۗ۟ۙۨ۠ۤۖۘۤۙۨۛ۬ۛۘۗۘۜۖۚۛ۬۬ۗۖۛۛ۬ۜۡۧۘۛۚ۠ۧۢۖۧ۬ۚۗۜۡۜۘۧ۬ۨۛۘۗۙۤۖ۠ۙ۬۟ۗۜۖۡۧۜۛۢۧۤۡۖۖۗۜۧ۠ۘۜۛۚۗ۟ۡۤۗۧ۬ۤۡۢۗۗۢۘ۠ۙۤۚۧۧ۫۫ۗ۠ۡۢۢ۠ۚۙۧۢۛۢۗۛۙ۫ۧۚ۟ۙۖۢۧ۬ۧۤ۟۫ۛ۫ۛۗۛۙ۟ۙۧۢۧۗۤ۟ۙ۫ۢۢۗۚ۠ۖۢ۟ۧ۬ۜۧۗۢۘۗۢۚۜۢۜ۠ۖۤ۬۟۫ۧ۠ۡۜۜ۬ۜ۟ۖۛۚۜ۠ۧۗ۬ۤ۬ۧۧ۫۠ۨۙۢۚۚۜۡۚۧۨۙۧۤۗۙۘۘۡ۬ۗ۫ۖۢۙۡۗۧۖ۟ۡۡۗ۬ۘ۠ۨ۠۠ۤۨۛۜۜۚ۟ۘۖ۠ۙ۟ۨۨۖ۫ۛ۬۟۠ۙۡۗۛۜ۟ۘ۟ۢ۫ۡۘۢۢۢۧۨۡ۫ۘۤۨۙۨۨ۟۠ۜۧۛۡۧ۠ۚۧۘۚۡۡ۫۠ۗۧۘ۫ۛ۟ۗۗۡۧۧۡۘۖۘۧۙۘۙ۠ۡۢ۠ۨۡۘۛۙ۠ۧۧۡۙۗ۫ۨۧۗ۠۫ۨ۫ۖۙۛۡۚۢۗۜ۬۠ۚۢۖۖ۬ۘۖۙۡۢ۟ۨۢۤۖۨۢۛۛۚۗ۬ۧ۬ۧۗۨ۠ۨ۠۟ۗ۬ۤۤ۫ۢ۫ۜ۫ۖ۫ۙۜۙۧ۠ۚ۠۫۬ۡۧۡۚ۟ۙۘ۟ۖۨ۬۠ۢۙ۠۟۫ۜۤ۫ۨۖۚۙۨۡۘۤۡۨ۠ۙ۬۬ۧۡۚ۫ۡ۫ۘۤۢۢۢۙ۠۬ۧۛۜۘۙۘۛ۫ۗۡۡۛۚۘۡۘۤۙۚۡۨۤۧ۫ۚۤۜۖۘۨ۟ۤ۟ۧۛۧ۬ۚۗ۠ۖۙۡۨۤۧۨۤۨ۠ۗۛۜۛۨۚۘۢۧۗۧۛۛۙۧۢۖۗۤۢ۟۟ۘۛۢۜ۬۫۠۫۫۠ۚۘۛۜ۬ۤۘۨۡۛۗۖۤ۠ۗ۬ۨ۟ۨ۠۬ۢۢۛۛۚ۬ۡۜۡۘۨۙۤۖۗۧۧۖۘ۬ۤۜۙۡۢۖ۠۠ۤۧۗۡۘ۬ۡۤۡۖۘۢ۬ۘۛۨۢۜ۠ۨۤ۟ۙۗۖۙۧۘۙۘۗۧۖۘۗ۟ۤۡ۠ۗۛۤۘ۟ۢ۫ۛ۬۫ۙۤۡۧ۟۟۠ۗ۫۠۫۬ۗۗ۟ۗۜۡۛ۬ۡۙۙۤ۟ۛۗۧۡۧۗۨ۫ۡ۠۠۟۬ۖۚۜۙ۫۟ۘۗ۫۠ۡۨۗ۬ۚۜ۟ۤۗۗۖۖۧۤ۬ۖۘۙۡ۫ۧ۠ۜ۟ۤۜۙ۠ۛ۬ۨۘۧ۠۬ۖۙۛۖۚۢۢۗۢۢۡۧ۠۫ۚ۠ۡۢۤ۬۫ۚۡۚۛۡ۠ۨۙۘ۠۟ۛ۟ۤ۠۬ۙۡۘۙۤ۠ۤ۫ۧ۫ۚۡۨۘۨۢ۫ۖ۠۬ۙۛۚۨۗ۟۬۬ۢۛۜۘۗ۟ۧۙ۫ۤۢ۬ۧۛ۫۬ۜ۠ۙۜۤۤ۟ۡ۠ۤۤۜۘۨۖۘۗ۬ۨۘۢ۠ۨۧ۠ۙ۫ۧۤۘ۟ۖۡۜۧۖۛۘۨۤۤۘ۫ۛۡۚ۟۠ۤۗۗۢ۟ۛۗۨۨۖۨۛ۬ۖۛۖ۠ۢۡۢ۬ۗۙۨۧۤۡۗۗ۠ۗ۬۬ۛۖۡۡ۟۟ۤۛۤ۫ۗۙۧۡۨۢۧۤۤۜ۫ۤۛ۬ۤۙۜۖ۟۫۬۟ۨ۠ۗۛۧۤۖۧۧ۠۟ۘۢۛۚۗۨۖ۫ۢۢۡۤۚۡۘۗۡۧ۟ۖۢ۬۫ۧۖۢۜۙۜۤۙۨ۫ۚۛۚۤۨۤۗۤ۫۫ۜۚۚۙ۬ۙۗ۬۫ۤۗۖۚۨۜۜۧۜۜۜۢۖۛۢۧۜۚۘۢ۫۟۟ۖۗۛ۟ۜۚۙۖۨۜۨۛۗ۬۫ۤۙ۫ۙۧۜۛ۫ۨۜۘ۫ۤۙۤۤۘۘۢۡۖۢۤۧۚۤۡ۟ۙۘۡۖۘۙ۫ۤۤ۟ۜ۟ۢۨۧۗ۬ۜۜۢ۠ۢۙ۟ۢۧۚۡ۠ۡۘۢۚۤ۠۠ۗۖۜۙۙۧۧۙ۫۫ۢ۠ۛ۟ۧۜۢۚۚۨۚۢ۠۟ۡۤۤ۠ۢۘۤۛ۫ۜۘ۟ۛۤۙۖۡۗۛۚۙۜۤ۬۠ۨۧۘۨۖ۫ۤۤۙۗ۠ۢۗۜۙۗ۠ۗۚۤۢۘۘ۟ۖۛۚۘۚۤۨۛ۠ۨۛ۬ۖۗۨۚۙ۬ۖۨۧۗۗۜ۠۬۫۬ۘۡۤ۟ۜۢۜۗۘۗۙۡۛ۬ۨۜ۟ۢۡۧۢۗ۫ۗۖ۫۬ۙ۬۫۫ۙۜۤۖۧ۬ۛۙ۠ۢۧۢ۟ۡۚ۟ۙۙۨ۫۟۟۫۬ۡۤ۟ۡۘ۫ۘۡ۫ۢۡۜۜۧ۠ۚۚۧۙۨۖ۫ۨۨ۠۠ۜ۠ۜۗۛۚ۫۫۫ۘۡۗۨۡۤۢۛۡ۠ۗ۠۟ۤۙ۬ۡۛۧ۠ۢ۠ۙۛۤۙۚۜۢۙۖۛۙۖ۟ۛۜۚ۠ۤۡ۫ۙۢۡۛ۠ۗ۟ۜۜۧۗۨ۬ۙۜۗ۬ۢۨۚۖۘۛۤۨۘۡ۫ۚ۬ۖۧۤۚ۠ۚ۠۫ۗۘۢۚۗۤۨۡۤۙۘ۬۟ۤۚۘۨۙ۟ۚۗۖ۟۟۫۟۟ۤ۠۬۟۫ۗۡ۬۬ۙۘۚۘ۟ۢۙ۠۬ۚۨۛۖۤ۟ۙۙۖۚۚۤۢۡۤۙۙۗۖۙۛۡۘۤۙۗۧۜۧۤۗۧ۫۠ۧ۬ۢۜۢۛۖ۫ۗۧۜۤۗۢۖ۬ۜۨۜۜۡۖۨ۟ۗۜۡۗۨ۟ۢۛۚۚۗۙۘ۟ۢۧۗۡۖۖۧ۬۟ۗۢۗۤۤۢۢۚ۠ۗۙۜۖۚۤۚۚۗۨۧۙۜۡۧۖۡۙ۠ۤ۫ۜۢۤۢۚۧ۬ۧۤۙ۟ۢ۟ۡۤۘۚۜ۟۫ۚۚۜۗۡۗۘۨ۟ۜۘۨۡ۫ۡ۟ۢ۫۬ۙۖ۫۫ۤ۫ۛ۠ۨۗۖ۬ۜۖ۫ۧۗۜۢۤۖۤۨۧ۫ۘ۫۫۠ۤ۬ۗ۠ۘ۬ۗۖۡۤۗۡۨۨ۟ۤ۠ۧۛۡۤ۠ۜۛ۫۫ۜ۠ۘۡۤ۬۬ۤۧۧ۠ۨۛ۟ۙۚۗۢۘۜۙۙۜۡ۟ۢ۟ۙ۬ۡ۬ۛۚۙۢۙۡۢۙۛۖۧۙ۟ۧ۟ۧۛۡۢۚۨۨ۬ۧۙ۟ۢۡۜۤۡ۬ۖۖۛۖ۟ۗۖۚۨۖ۫ۨۚۖۧ۠ۖۛۤ۫ۙۛۚ۬ۘ۠ۡۤۡۚۢ۟ۤ۬ۖۤۡۨۢۘ۟ۙۧۖۨۨۢ۠ۘۘ۫ۘۙ۬ۚ۬ۢ۫ۨۖۗۙۙۤ۟ۧۗۡۗۡ۫ۘۨۧ۠ۨۗۖۤۤۜ۠ۘۧۤۨۚۜۙۨۗ۠ۤ۠ۗۡۚۧۢۜ۠ۛۜۚ۫ۛۗ۬ۗۚۤ۬۠ۙۧۛۙ۫ۤۧ۬ۚ۫۬ۤۖۗۚ۬ۡۡۜۙۖۖۛ۠۬ۚۚۚۨۛ۟ۘۡۘ۟۫ۨۘۢۡۢ۟ۛ۠۟۬ۛۨ۬ۧۨ۬ۜۚ۫ۜ۫ۙۢۧۘ۠ۙۧۡۙۚۡ۟ۨۖۗۛۙۙۨۨۘۡۛۨۘ۠ۜۨۢۜۢۙۤۧۨۚۢۨۜۤۚۜۖۗۚۘۗۜ۟ۢۗ۟ۡۙۛۗۡۙۜۨۜۙۘۘۗۘۘۧۖۜ۟ۗ۠ۡۢۖ۫ۛۤۡۨ۬۫ۚۢۚ۫ۗۙ۫ۧۧ۟ۨۤۤ۬ۜۖۛۤۧ۠ۗۜۡ۟ۚۚۜ۠ۙۗۛ۫ۡۨۘ۠ۢۜۙۛ۫ۛ۠ۛۛۚۡ۬ۢۢۖۤۖۛۜۙۙۘ۫ۡۚ۬ۤ۫ۗۚۖ۟ۚۚۜۛ۟۠ۖۗۛۚۖۘۖۢۚۢۖۨۡۨ۟ۜۢ۠ۗۚۘۖ۟ۨۨ۬ۘ۟ۢۚۡۗۤ۠۟ۡۛۛۛ۠ۜۘ۠ۛۙ۟ۢۗ۫ۙۜۘۜۜ۫ۨ۠۠ۧۡۨۜۖۗۛۚۗ۫ۘۧ۠ۙ۠ۡۛۙۖۖۧۘۖ۟ۛ۟ۚۜۡۧ۫ۚۡ۟ۨ۟۠ۤۜ۬ۨۜ۠ۡۡۗ۬۠ۛۚۖۘۧۖۢۨۛۜۚۨۨۙۖ۠ۨۧۛۜۧ۬۟ۗ۠ۙۖ۠ۤۛ۟۬ۘۗۧۛۘ۠ۢۛ۟ۡۡ۫ۛۖۨۤۙ۬ۜۙ۫ۘۘۡۨۙۙ۠۠ۢ۠۬ۙۛۡۨۤۖۤۙۤۨۗۖ۬۠ۜ۫ۗ۫ۨۙۗۚ۠ۘۘۘۖۛۜ۟ۢۜ۫ۜ۬۠ۤۧۜۛۧۛۧۢۗ۬ۘۚ۬ۤ۟ۛۡۗ۬ۡۢۛۢ۠۟۟ۡ۫ۨۘۜۧۧۨۖۡۢۤۗ۬ۙ۠۠ۙۖ۠ۧۘۢۡۚۤۡۛۛۘ۠ۧۖۗۨۗۤۨۙۛۤۧۖ۟۠ۖۚۚۢۡۧۖۘ۟ۖ۬ۙ۬ۙ۫ۖۧۙۜۗۙۧ۠ۘۤ۬ۖ۬۫۬ۘۜۜۘۤۢۧۧ۫ۛ۟ۙۢۛۗۡ۫ۧۤۢۘۖۤۘۙ۬ۙۢۚۘۙۧۖۛ۟ۙ۠۬ۜۘۗۧۜۢۧ۠ۛ۫ۢۤۘ۟۬ۧۘ۫ۘ۬ۡۧۜۗ۫ۡۡۛ۫ۡۨۛۧۡۨۜۡ۬ۛۧۖۚۖۙ۟ۤۧ۠ۙۘۡۜۖۡۚۙ۠ۡۛۘۙۚۢ۟ۗۢۜۤۙۛ۬ۢۨ۠ۚ۠ۘۢ۬۠۠ۚۘ۠ۨۖۘۙۙ۟ۖۛۗ۠ۚۢۜ۟ۧۧۖۡۨۡ۫۬ۛۡۖ۫۟ۡۡۛ۠ۜۚ۫ۘ۬ۧ۫ۛ۠ۤۘۛ۠ۙ۠ۗ۠ۢۗۙۙۛ۟ۤۘۡۗۖ۬ۛۢۗۙ۟۫ۡ۫ۧ۬۬ۛۧۡ۫ۜۙ۫ۨۗۙ۬ۙۗۖۡۛۢ۠۬۫ۡۗۖۜۛۘۧۜ۟ۧ۬ۤۙۘۤۖۛۜۖۢۡۙۘۘۘۢۗۡۙ۟ۖۗ۟۠ۚۢ۫۟ۘ۠ۖ۫ۧۡۤۖ۬ۢۢ۬ۡۘۢ۬ۙۢۤۘ۠ۘۙۗۘۖۤۘۡۗۗ۟ۛۙ۠ۖۧۢۙۢۜۘۜۜۤۖ۫ۚۗۢۜۜ۫ۛۙۧ۠ۖۙ۬۠ۢۛۘۤۗۢۡۤۢ۫۬۟ۜۜۨۗۤۙۨۗ۟ۧۖۨۨۤ۫ۨۤۘۙۘۚۛۡۢۤۙۙۡۗۧ۠ۤ۠ۛ۫۬ۘۖۘ۬۬ۧۨ۫ۡ۠ۢۗۚۚ۬ۨۡۙۧۙ۟ۢۨۨۖۢ۬ۙۨ۬ۖ۬ۧ۟۬ۡ۠ۜ۠ۜۨۢۚ۠۠ۚ۠ۡۘ۫ۚۧۡۤ۬ۛۡ۬ۢۜ۫ۗ۠۠۠۟ۙۢۤۛۜۜۨۘۡ۫۟ۚۛ۟ۛ۟۫ۢ۟ۛۗ۬ۢ۠ۚۜ۫ۖۙۘۘۘ۠ۚۗ۠۫ۘۚۘۢۤۚ۟ۨ۬ۛۧۘۜۜۘۤۘۖۧۜۤۗۧۖ۬ۧۙۚۙۗۛۚۢ۬ۤۨۚۘۜۢ۠۠ۘ۟۠ۡۗۨۛۙۤۨۡۡۢۨۢۛۙۢۛ۟۬ۨۛ۫۠ۡۖۘ۫ۢۛۡۗۖۧ۟۠ۨۖۛۤۤ۠ۨۚۨۤۗۡ۠ۡۢۛۖۛ۬۬ۨۗۗ۫ۘۧۨۗۨۚۡ۠ۧۡ۠ۡ۠ۙۜۡۘ۟ۤۡۚ۟ۤۧۘۨ۟ۢۚ۬ۘ۠۟۠۬ۚۙ۠ۜۢۢ۫ۧۨ۟ۢ۫ۢۢۧۘۜۚ۠ۘۗۢ۠۠۬۠۠ۨۢۡۢۘ۟ۧۗۨۧۧۖۧۧۖۙۙۚۤ۫۠ۧ۟ۧۙۙ۟۠۠ۘۤۤۗۛ۫۠ۙۚ۟ۚ۟۠۠۟ۙۙۡۗۜۙۤ۟ۨۛۢۢ۠ۘ۟ۖۘۖ۫۟ۨۨ۠ۨۗۖۖ۫ۚۖ۟ۧ۬ۢ۬ۗ۠۫۬ۢۚ۟ۧۗ۠ۗ۫ۨۖۜۨۤۙۡۛۤۧۢۢۤ۬ۡ۠ۙۚۜۤۜۢۖۢۗۤ۫ۚۖۤۤۙۚۤۚۡۘۜۖۖۙ۫۟۠ۛۤۡۚۘۤ۬ۛ۠ۛۡۘۘ۟ۚ۠۠ۢۛ۠ۛۖ۠۫ۡ۟ۚ۫۫ۢۛۚ۫۫ۤۙۚۚۨ۟ۢ۠ۤۗۤ۟ۙ۫۫۠ۢۧ۟۫ۗۨ۬ۜۘۡۗۡ۟۟ۙۘۨۤۘۜ۬ۢۨۧ۟ۖۤ۠ۡۤ۫۟ۘۨۢۢ۟ۛۙۜۡۧۢۘۖۚۙۨۚۛۚۧۘۘۗ۬ۢۛ۠۠۠ۨۡۚ۫ۤۙۛۧ۟ۚ۬ۡۜۙ۬ۤۚۘۡ۠ۧۡ۬۫ۖۛ۠ۖۘۢۚۛۢۚ۟ۘۧۘۤ۬۬ۛۧۙۘۙۜۡ۠ۨ۟ۢۢۡۧۚۨۜۧۢۜۙ۠ۘۨۧ۟۠ۜۖۡۙۜ۠ۚ۬ۖۜۡ۬ۗ۟۟۬ۡۚۛۜۧۡ۫۟ۨۖۢۗۜۧ۟۬ۡ۠ۘۗ۠ۢۚ۬ۜ۬ۡۢۨ۬ۖۛۖ۫ۚۚۛ۫ۚ۬ۚ۠ۨۡۖۤۙ۠ۗ۠ۧۙ۠۟ۢۘ۠ۖۤ۬ۖ۫ۗۧۨۨۚۡۘۧ۬۠ۤ۬ۡ۠ۚۡۗۖۡۛۧۘۙۤۨ۠ۢۡۨۡ۟ۤۚۘ۬ۖۘۧۙ۫۠۟ۗۙۤۧ۫۟ۙ۫۠ۡۖۢۢۢۡۗۛۙۡۨۤۙۙۚۛۧۘۤۜۚ۬ۚۗۧۘۚۤ۬ۢۜۗۧۛۛ۫ۤۙ۠۟ۡۙۨ۠ۚ۟۟ۖ۫ۤۙۛۢۤ۟ۜ۟ۛۗۜۨۧۘۜۛۨۚۧۧۜ۫۠ۡۢ۫ۡۢۘ۟ۜۙۗۨۡۜۘۘۙۙۢۚۛ۬۠ۗۖۖ۬ۙۢۧۡ۠ۗ۠ۡۖ۟ۛۖۡۨۙۖۗۧۡۚۘ۫ۨۗۡۙۤۖۧۙۡ۟ۤۤۛ۠۠ۙ۟ۤ۫ۡ۫ۧۗۛۨۨ۫ۛۧ۟ۖۤۗ۫ۙۧۖ۬ۘۖۙۛۗۙۛۗۘۡۜ۫ۖۚ۠۬ۧۚ۬۠ۗۙۜۘۘۤۛ۫ۖ۟ۧۡۨۢۢۨۙۤۖۚۡۗۡۡ۟ۤۢ۠ۡۗ۠ۧۛۘۚۚۚ۟ۨۗۖۖۢۛۨۙۤۧۧ۠ۧۖۢۙۙۢۨۗۚۧۛۤۘ۫ۗ۬۟ۡۢۤۙۜۨۛۜۛ۠ۡ۠ۧۗۡۙۚۧۙۤۘۙۚۤۛ۬ۙۖ۠ۜ۬ۢۢۡ۟ۛ۬۫۠۬ۛۨ۟ۨۤۗ۫ۡ۠ۛ۠۟۠۟۬۬۠۬ۗۢۜ۟ۜۘۢۜۧۨ۫ۨ۠۠ۛۚۤۖۧ۬ۤ۬ۧ۬۟ۛۛۨۨۗۗۨۨۘۚۧۤۘۜۧۡۘ۠ۧ۟ۘۢۧۛۘۧۧۗۘۖۧ۬ۘۘۧۨۘۚۧۤۘۜۧۜۗۨۚۨ۟ۚ۬ۧۢ۬ۗۗۢۗۖۛۙۜۨ۫۫ۚۚۖۡ۠ۘۤۡۜۛۖ۫ۙۤۢۨ۠ۗۜۨۧۗۘۨۙۖ۠۫۬۬۠۬ۙۘ۫ۧۗۘۖۧۤۤۨۚۢۢ۬ۚ۠ۢۗ\n",
            "۠ۗۢۘۜۨۘۚۘۡ۠ۧۡ۬ۖ۟ۡۘۢۡ۫ۘۧ۠ۗۤۘۛ۬۬ۛ۫۫۫ۘۖۜۙ۟۠۠ۘۚ۠۬ۜۚۜۡ۠ۗ۫ۚۖۡۡۤ۠ۚۗۡ۟ۖۧ۟۫ۘ۟۠ۛۢ۬ۢۖۗ۫ۚۖۙۚۜ۫۬ۖۧ۫ۛۗۡۨۡۗۛۨۢۖۜۛ۟ۜ۠ۖۧۡۧۘ۟ۡ۠ۗۗۘ۟۫ۖۨ۬ۛ۠۠ۨۙۡ۠ۜۢۧ۬ۖۜۢۧۚ۟ۜۘ۬ۛ۫ۧ۠۬ۨۚۚۗۚۘۚۚۚۖۢۢ۟۫۫ۢ۬ۖ۠۫ۚۙۤۢۘۖۘۙۜ۟۫ۛۡ۬ۧۖۛۚۨۢۗ۟ۘۖۧۗۖۖ۫ۚۚۗۚۙۧ۠ۧۘۛۤ۫ۙۚۨ۠ۡ۠ۜۡ۟ۖۙۗۨۤۡۘۡ۬ۡ۟ۘۘۜۖۧۢ۟۬ۜۤۧۤۙ۬ۘۚۘۤ۫ۧۧ۬ۛۚۚۘۤۢۡ۟ۙ۫۟ۨ۟ۜۗۛۖۧۘ۟ۗۛ۬ۙۚۛۡۗۗۚ۫۠ۖۘ۫ۧۗۖۙۢۚۧۜۖۢۤۡۢۗۗۚۛۙ۫ۘۢۛۖۤۤۢۙۨۨۙۡۖ۫ۖۤۙ۟ۧ۫۠ۨۢۛۡۗۜۨۢۨ۟ۢ۬ۘ۫۫ۧۛۜ۠ۤۚۗۘۘۘۙۡۚۨ۫ۖۚۖۛۘ۟۫ۢۙۗۗۘۘ۬۫ۙۡ۠ۘۚۜۨۙ۫ۖۗۖۚ۠ۘ۠ۨۡۨۨۢۤ۫ۖۘۢ۠ۨۛ۟۠۫ۨ۠ۘۤ۬ۡۙۤۡۙۙۛ۠ۜۙۗۧ۬ۡ۬ۨۙۛۧ۬۠۬ۧۡ۬ۙ۫ۡۜۚۡۜۨ۠ۖۧۧۡۙۧ۬۫ۤۨۘ۠ۤ۫ۘۗۙ۟۠ۨ۬۟ۙۗۛۗۖ۟ۙ۟۠ۤ۠ۛۘ۫ۗۙۜۙۜۗۨۧۨۘ۬ۢۡۚۨۖۖۘۗۖۨۡۧۙۡۖ۫ۤۙۙ۟۬ۘۨ۠۫ۧۙۢ۫ۨ۠ۛۛۨۙ۬ۙ۫۠ۡۘۧۖۖۨ۫ۜۘ۠ۘۖۙۖ۬ۨۗۗۨۢ۠ۨۧۡ۠ۛۙۘۗۨۛ۫ۜ۠ۚۖۚ۫۬ۤۖۢۡۡۢۚ۠۫۬۠ۗۜۗ۟ۚۛۙ۬۠ۤ۠ۗۖۜۨۧۢ۟ۨۤۜۖ۫ۜۖۘۨۢۙۧۙۢۘ۬۬ۨ۠ۡۢۢۨ۟ۙۜۙۙ۟۫ۧۨۖ۫ۢۧ۬۟ۨ۫ۛۛۧ۫۫ۚۤ۫۠ۜۘۢۙ۬۬ۙۜۚۖۤ۟ۢ۟۠ۡۘ۫ۢۜۜۖۨۤۖ۬ۡ۟ۢۛۨۨۖ۟۫ۨ۬۬۫ۘ۫ۢ۠ۚ۠ۨۡۤۛۨۤۜۤۗۛۨۢ۫ۚۗۡۧۨۜۙۡ۬ۖ۬۠ۜ۠۠ۧ۟ۨۧ۟ۧ۟ۤۤ۫ۚۖۗۘۚۗۛۡۤۙ۬ۛۤۜۜ۫ۤۨۖ۫ۤۡۚۘۘۤۡ۬۠ۖ۬۫ۧۨ۟۟ۧ۠ۤۖ۫ۚۡۡ۟۟ۢۙۘۢۗۤۨ۠ۖۨ۬ۘۡۡۤۡۨ۠ۘ۫ۡۤۧۙ۟ۖۗۨۗ۫ۘۙ۠ۖ۟ۨۘۗۤۖۢۙۘۙ۫ۧۙۘۤۤۖ۠۬۟۫ۛ۬ۧۡ۠ۢ۫ۨۚ۫ۤ۠ۤۚۤۜۗ۫ۗۛۚۤ۫ۧۡۖۡۗۖ۟ۜ۟ۛۧۡۧ۫ۨ۬ۛۡۖۢۡۛۙۡ۬ۤۧ۠۟۟ۗۛۤۙۡۖۖۙۨۤۙ۫ۖۙۗ۫۠۫ۢۤۧۤ۟ۡۢۘۤۙۚۡۛ۫ۛۖۚۖۨ۠ۨ۠ۚۢۖ۫۬ۨۨۧۖۜ۟ۨۛ۫ۧۤۢۗۡۘۛۚۧۨۤۤ۬۠ۖ۫ۘۘۛۜ۫ۨۖۨۨۚ۠ۚۖۘۜ۬ۨ۠ۜۧۡۢۗۗ۫ۨۙۤ۫ۘۚۗۛ۬ۛۡ۫ۖۘۨ۫ۜۨۧ۠ۙ۟۠ۜۤۙ۟۫ۙۢۢۛ۟ۖۧۧۙۡۛۙۘ۬ۘۤۚۛۧۤۤ۫ۢۙۧۚۚۛۙۙۖۗۜ۟۟ۗ۫ۨۗۜۤ۠ۛۧ۟ۛۘۖ۠ۗۤ۠۟ۧۤۤ۟ۤۢۘۖۖۙ۟۬ۚۤ۠ۗ۠ۢ۫ۘۨۗۡۧۗ۬ۢ۬ۢ۫ۘ۬ۨۜۖ۬ۡۢ۟ۢۡۖۜۡۨۨۨۖۚ۫ۨۤۨۘۖۚۤۙۗ۬ۢۜۛۘ۠ۜۢۧۜ۬ۛۡ۟ۖۘۙۗ۟ۢۛۢۛۗۡ۟ۡۧ۫ۧ۠ۨۢ۟ۘۜۢۙۛۤۡۖۚ۬ۡ۟ۗۡۡۙۚۙ۟ۨۗۤۢ۟ۨۙۤۢۨۧۢ۠۬ۧۚۢۚۙۚۛۖ۟ۚۨۘ۬ۘۛۖۘۙۨۤۨۨۤ۠ۤۖۧ۫ۚۨۜۢۨۚ۟۠ۨۖۜ۠۬۫۠۫۫ۢۛۢ۠ۤۤۨ۬ۢۙۜ۟ۧۡۚۢۧ۬۬ۤ۠۠۫ۨۡ۫ۤۧ۫۠ۡۙۢۨۙ۬۬ۖۜۨۛۛۖۢۛۡۙ۠ۗۤ۫۠۟ۘۚۙ۬ۖۢۚ۫ۘۤۜۤۡ۠ۚۢ۟ۙۛ۫۫ۜۚۢۧۙۗۜ۠ۚۗ۟ۡۧۢۖۛۗۢۙۚ۫۠ۜۛۢ۟ۗۖۧۡ۬ۖۡۖ۟۠ۜۨۨۗۨۡۡۛۡۨۤۧۘ۠ۘ۫ۛۡۙ۫ۖۨۘ۠ۧۗۨۚۧۖ۟ۤ۟۬ۜ۠ۜۢ۠۠۠ۜ۠۫ۚۤۨۛۘۛۙ۬ۘۗ۫ۖۜۡۖ۠ۤۜۗۜ۠۬ۤۨ۬۫ۛۛۨۢۡۗ۫۬ۡۚۖ۬ۨۘ۬ۘۜۚۚۚۛ۬۠ۨۜۧۙۚۧۡ۟ۨۢۚۖ۫ۜۛ۬ۘۧۗۖۚۚ۬ۖۨۨۧۙۢۙۛۗۧ۠ۙۛۚۧۨۘۤ۠ۘۛۘۘۤ۟ۙۘۜۨۨۛۘ۟ۧۜۧۨۡ۫۠ۛۛ۫ۤ۟ۙ۬ۚ۠ۖۨ۬ۖۨۛۛ۠ۛ۬ۖۗۜ۬ۙۧۢۜۢۡۧۙ۠۫ۨۘۗۘۜۡۢۛۢۛۗۚۚ۬ۜۧ۬ۗ۠ۗۚۛۛۧۚۨۙۘ۟ۖۤۙۤۚۜۗۖ۫ۗۤۜۖۘۙ۬ۡ۠۠ۖۡۙۙۗۨۢ۟ۗۗ۬ۗۛۗۘۖ۟۬ۢ۟۠۫۬ۗۜۨۧۡۗ۠ۛۜۢۧۧۛۙۢ۫۬ۡۧۧۡۖۢ۠ۨ۬ۙۧۗ۠ۗۗ۬ۡۜۘۗۚ۠ۘ۫ۜۨ۟۫ۡۡۖ۬ۧ۠ۚۤۧ۫ۜۙۡ۠۫ۢ۠ۤۛۡ۬ۧۨ۫۠ۧۛۙۘۧۨۜۗۧ۠۟ۜۨۙ۬ۨۨۤ۬۟ۗۛ۟ۡۨ۫ۜۚۨ۬ۨۖۘۢ۟ۜۧ۠۬ۤۘ۫۬ۢۤۡۢۘۨۙۗۚۤ۫ۤۢۜۘۢۗ۠ۗۙۚۢ۬۟۟ۜۤۢۜۗۛۢ۠ۤۖۡۧۨ۬۟ۙۤۖۡۢۛۙۘۢۜۗۛۨ۟ۗۜ۫ۤۛۜ۠ۘۙ۟۫ۤ۟ۡۗۜۡۜۨۚ۠ۢۖۛۛۨ۠ۖ۠ۛۚۖۚۧۗۤۡۢۘۚۘۜۧ۫ۧ۠۠ۢۤ۫ۖ۫۠۟ۗۖۜ۟ۧۙۗ۬ۨۨ۫ۤۗ۫ۜۡۢۤۖۧۡۨ۟۫ۖۧۡ۬۫ۛۡ۬۟ۘۚۤ۫ۖۡۜ۟ۘۧ۠۠ۗ۫ۘۜۢۨۚۚ۬۠ۗ۫ۧۚۚ۫ۤۙ۫۫ۜۨۢ۫ۖۚۗۚۙ۫۫ۘۘۨۤۚ۫ۙۗ۫ۨۢ۬ۙۛۨۙ۠ۢۜ۟ۚۙۚۖۡۢ۬ۙۨۢۖۡۢۢۧ۫ۘۧۢۛ۫۠ۤۗۛ۫ۡۤ۫ۢۖۜۛۘۨۖۡۡ۫۬ۗۡۚۡۨۗۘۙۜۤۚ۬ۧۧ۠ۧۧۡۗۗۗۙۜۧ۫۫۠۬ۖۤۤۡۖۡ۟ۛۢۛۖ۠ۡ۬ۚۤۧ۟ۙ۫ۧ۫ۡۤۧ۟ۛۚ۠۫ۜ۬ۧ۫۬ۨۡۜۜ۟ۚۢ۠۫۠ۛۙۙۛۚۧۖۘۖۛۛ۟ۨۚۛۖۚۘۨ۬۠ۧۘۢ۫۫۟ۨۨۧ۫ۚۖۡۖۤۛۖ۫ۖۙۨۖ۠ۡۛۛ۠ۜۖۡ۫ۖۤۤۚۛۖۡۡ۬ۧۤۘۚۗۜۛ۬ۤ۫۫ۜۙ۠ۧ۫ۚۗۚۛۖ۠ۨۨۚۙۧۨۖۛۛۘۜ۟ۗۗ۠ۤۖ۟ۘۢ۬ۡۖۜۗۘۖۚۛ۟ۡۚۨۖۤۤۚۨۡۤۜ۫ۡ۬ۨۢۧۜۨ۫ۨ۬۫ۨۧۧۨۗۗۢ۫۟۫ۚۛ۟ۜۘۧ۟ۗ۟ۨۧۢۖۚۙۜۤۘۗ۠ۘۧ۠۠ۘۛۢ۫ۧۙۗۛۤۢ۠ۜۘۗۧۡ۠ۤۗۚۢۨۖۨۖۖ۫۟ۛ۫ۤۢۗ۟۟ۖۙۖۤۛۜۤ۠ۡۢۡۙ۟۠ۧۢۗ۟ۙۢۧۢ۟ۢ۟ۡ۬ۗۛۚ۠۬ۚۚۘۧ۟ۡ۫ۙۧۜۡۨۗۚۤ۬ۛ۫ۛۖۡ۬ۨۚۛ۫۫۟۫ۢۡۢۤۙۖۡۘۨ۠ۧۘۘۢۚ۬ۙۤ۫۬۬ۧ۬۬ۧ۬ۚۤۤۖۧۢۗ۠۟ۘۧۘۙۗۖ۟۬ۨ۠ۤ۟ۜۜۢۨۨۙۢۛ۫۫ۚ۟ۤۗ۫ۤۨۚۜۘۢۜۙۛ۫ۧۜۚ۠ۚۜۛۡۨۛۘۨۙ۬ۖۘۜۗۚۤۛۤۨۘۡۘۢۜۤ۟ۗۙۖ۟ۧ۫ۘۛۙ۟ۢۡۖۧۗۛ۠ۛۚۛۛۖ۠۟ۨۛۧۧۙ۬ۤ۟ۘۘۤۡۛۧۧۧۤۙۖ۟ۜۘۧۚۘۡۗۜ۠ۗۚۢۜۚۗۧۡۛۤ۬۠ۧۖۘ۟ۨۢۤۡۨۖۙۖۛۘ۫ۗۛۙۢ۬ۛۗۢۤۜۗۖۢ۫ۛۜۖۢ۫۫ۜۙۡۡ۟ۧۡۘۗۛۢ۠ۢ۫ۙۢۤ۬ۨۘ۫ۖۖۙۛ۬ۜۢ۠ۗۤ۟ۜۚۙۜۖۢۡۧۙۘۚۗ۟۬ۛۢۘۡ۟۠۠ۚۨۜۗ۬ۖۨۤۧۚۘۡۘۙ۬ۧ۬ۨۖۖۧۗۘۧۖۚ۠ۚ۟ۙۢۧۨۢۗۡ۠ۢۢۡۤۢۚۛۗۙ۫ۙ۬ۙۤۖۚ۫۠ۘۢۤۨۧۘ۠ۖ۠ۧۙۨۨۛۖۛۛ۠ۤ۫ۨ۫۠ۖۛۜۤۚۙ۟ۢۗۧۤ۠ۧۚۢ۟ۙ۬ۙۨ۬۠ۙۛۖۖۨۧ۟ۢ۟۬ۧۨۙۡۖۤۨۗۚۡ۫۫ۚۤ۬ۤۜ۬۠ۤ۫ۢ۬۬ۜ۟۫ۡۢۙ۬ۛۛۧ۟ۧۤۨۚۡۜۙۘۜۜ۠ۛۚۖۨۘۨۜۨۚۚۙ۬۬۬ۡۜۤ۫ۤۛ۠۟ۛۖۤۖۘۢۛ۫ۧۗۖۧۡ۫ۜۤۡۘ۬ۜۡ۟ۖ۠ۗۘ۠ۨۡ۫ۡۚۙۤ۟ۧۙۧۡۜ۟ۗ۠ۗۨۡۛ۟۬ۜۡ۬ۡۘۚۙۨۨ۬ۛۙۖۢۤۛۛ۬ۜۗ۬ۖۖۤۢۨ۠ۚۚۧۖۛ۫ۧ۟۠ۤۡۗۧ۠ۨ۫ۗۡۜۜۘۙۚ۟ۖۙۘۖۤۗۨۧ۠۫ۨۘۘۖۚۧۢۗۢ۫ۛۙۚۚۗۤۜۨۗۙ۬۠ۙۨۙۛۚ۫ۛۧ۟ۚ۟ۚۚۖ۟ۘ۬ۖۘ۫۟ۜۜۡۖۤ۬ۧۘۚۢ۟ۜ۫ۢۨۧۨۧۙۘۧۖۖ۬ۧۖۢۨۛ۫۟۟ۗۧۚ۫ۖۨ۫ۡ۟۟ۧۧۖۛۜۡۨ۠۬ۤۨ۠۟ۤ۟ۧۡۨۢۚۘۜ۫ۛۤۡ۟ۨ۟ۤۘۚۘۨۙۙۤۘۧۤ۟ۙۙۚۢۗ۟۬ۖ۠ۜۢۗۛۙۛۤۘۙۛۤۖ۠۫ۧۡۜۖۢ۫ۘ۠ۤۘ۠ۚۡۚ۬ۜۡۙۨۢۨۢۢۖۧۛۛۙۜۜۜۘۜۘۛ۠ۙۙۖۢۤۘۢ۫ۖ۟ۙۨۜۛۛۘۜۜۡۧۘۘۖ۫ۨۜ۠ۜۢۛۜۗ۠۠ۨۗۜۢ۠ۛۢۚۙۧۛۤۨ۟ۗۜۗۤۢۡ۠ۢۜۛۧۛۨۡۤۙۙۤۗۜۢۚ۫ۙۖۨۗۘۙۙۨۨۙ۬ۤ۫ۙۛۗۧۘۡ۠ۧ۟ۜۘۨۙۡ۠ۧۧ۬ۧۙۨۨۘ۫ۛ۫ۘ۬ۖۤ۬ۤۡۛۚ۫۬ۙۜۨ۠ۢ۫ۤۘۨ۫ۨۖ۠۬ۡۛۛۚۧۗۘۧۙۗ۬ۤۧۚ۫ۧۖ۬ۜۚۛ۫ۛۜۚۗ۫ۛۢۘۘۤ۠۟ۡۧۧ۫ۧ۫ۧۙۙۜ۬ۛۘۢۡۙ۠ۘۗۧۗۛ۬ۗۛۖۤۨ۠۠ۤۨۘ۫ۗ۠ۚۖۙ۬ۛۚۛۨۗۙۨۙۗۜۘۧۜۘۜۘ۫۠ۖ۠۟ۚۧۨ۫۠ۡۘۡ۟ۡۙۢ۟ۧۙۗۢ۬ۤۛۗۙۢۖۡ۫ۧۢۤۚۜۢۢۜۛۤ۫ۚۢ۟ۡۛۖ۫۫ۛۤ۠ۖ۫ۡۘۤۤۤۖۧۨۜۧ۬ۜۨۜۜ۟ۢ۠۫ۤۛ۬ۤۡ۬ۛ۟۫ۢ۬ۜۛ۠ۗ۠۟ۨۗ۟ۚۘۜۘ۫۟۠۠ۚۚۢۨۖ۬ۤ۠ۛ۬ۤۗۚ۬۟۠ۨ۫ۛۜۘ۠۬ۘ۟ۧۙ۬ۖۨۛۜۛ۟ۘۙۙ۬ۖۤۢ۬ۛۜۙ۠۫۬ۤۢۡۡۘۗۚۘۘ۠۫ۙۧۛ۠ۖۚۚۙۘۤۛۘۜ۫ۘۧۙۗ۬۬ۡۤ۟ۙ۬۬ۙ۫ۢۡۘۚ۫ۖۗۤۢ۠ۜۤۡ۠۟۟۫ۜ۠ۖ۠۫ۧۧ۟۠ۡۗ۬۫ۧۗ۟ۗ۠ۨۘ۬ۨ۬ۤۨۚ۫ۗ۠۟ۚۢۛۡۖۗۙۧۗ۟ۤۤ۟ۧۢ۫ۗ۫ۧۜۤۘ۬ۜۙۨۙۙۖ۠ۚۖۛۛۖۛۘۡۧ۟۫ۢۛۡۚۜۙۙ۬۬ۨ۟ۨۢۢۧ۠ۗۗۢ۟۬۠ۙۛۚۛ۫ۗۘۖۚۛۨۗۢۧ۬ۙۧ۠۟ۢ۠۠۠ۛۜۤۚۘۘۜۡ۫ۖۡ۠ۖۡۖ۬ۖۜۡ۬ۤ۫ۚۡۧۗ۠ۖ۬ۜ۫ۙۢۛۤۤ۟ۜۜۡۢۛۙ۬ۢۡۢۚۛۗۖ۬۬۫ۘۗۡۡ۫ۡۚۧ۠ۚۘۧ۠ۖۜ۠ۜۡۚ۟۟ۤۧۚۤۚۡۙۗۡ۠ۛ۬ۜۗ۬ۙۜۡۧ۫ۙ۫ۘۤۙۜۚۨۙ۟ۚۜ۫ۡۚ۫۟ۛۙۧ۠ۧۚۨ۠۠ۢۚ۬ۡ۟۬ۚ۫ۚۨۨۨۧۙ۫۬ۛۨۢۤۧۤۤۘ۬ۖۘۢۢۖ۬ۤۗ۬۬ۗ۬ۛۧۡۡ۫ۚۢۧۛ۬۬۬ۛۤۤۚۧ۬۠ۚۡۤۨۙۢۢۙۡۨ۟ۗۛۡۗ۬۬ۤۜۧ۟۫ۛۨۡۜۛۡۙ۫۠ۨۢۛ۫۟۬ۨۖۗۤۛۚۚۚۧۤۨۚۡۨۤۨ۟ۨۧۡۜۢۤۛ۠ۘۢۚۚۘۤۗۜۨۨۗۤۢۚۧۧ۟۫ۙ۬ۢۗۨۧ۬۬ۢۢ۟ۨۨۘ۬ۨ۠۠۫ۙۖ۠۟ۤۚ۟ۡۘۧۗۘۤۙ۬ۚۧ۠ۧۤۨ۟۫ۜۖۢۡۖ۟ۨۖ۬ۤۘۜۨۜۡۖۗ۬ۛۛۛ۫ۤ۟ۢۗۤ۠ۙۛ۫۬۬۟ۙ۟ۚۡۙۙۜۛۚۜۙ۟ۡۤۚۙ۟۟۫ۜ۬۠ۖۘ۟ۡۙۙۚۚ۟ۤ۟ۧۧۙۛۡ۫ۛۨۜ۟ۤۢۢۜۡ۫ۖۢۘۛ۬۠ۘۧۤ۬ۨۗۤ۬۟ۢ۫ۢ۫ۘ۠ۘ۫۫ۜۜۨ۠ۨۛۡ۬۟ۡۡۨۛ۟۠ۘۧۛۢۗۡۢۜۙۧۛۨۖۛۛۨۙ۫ۖۡۨۚۡۚۘۧۗۖ۠۬۬ۡۙۛۚ۬ۚۨ۬۟ۨۗۜۗۡۡ۬۫ۗۙ۬ۚۗ۠۬۬ۖۖ۬۠ۚۧۤۛۤۚۙۜۘۧ۠۫ۗۙۗۢۤۗۘۘۛ۠۬ۛۧۘۗ۠ۛۧۨۧۗۡۚ۟۬۬ۡۛۚۛۨۤ۫ۡۖ۫۟ۘۚۛ۫ۨۢۧۤۢۡۢ۫ۧۨۖۚ۫۫ۧ۟ۧ۬ۜۗ۠ۜۜۡۖۨۜۘۜۗ۟۠ۗۖۖ۟ۤ۬ۤۧۙۗ۫ۨۧۢۚۘۗۡۢ۟ۘۜۧ۫ۙۙۗۘۤۜۜ۬ۖۡۧ۫ۙۜ۬ۙۘۘۢۖۚۙۡۛۨۙۜۡ۬۟۫ۖ۟ۜۛ۫ۙۜۡۢ۠ۧۛۨۜۙۡۛۨۧ۟ۖ۠۫ۖ۬۠ۨۗۢۛۚۨۚۡۡۨ۠ۜۨ۬۠ۖۤۜۜۘۙ۬ۗۗۚۡۘ۬ۙۧۚۛ۫ۨۡۘۨ۠ۛۗۨ۫ۢۢۡۨۖۧ۟ۗۨۢۤۖۘ۟۫ۘۨۘۜۢۜ۠ۢۘۙۗۢۛۢۚۧ۟۟۫ۙ۟ۚۖ۟ۤۡۡ۠ۙۡۛ۟ۜۖ۫۫ۚ۬ۚۘ۠ۖۡۖۧۛۡۚۜۨ۟۟ۧۗ۬ۢۤۨۡۤ۬ۙۨۜۗۛ۠ۗۤ۟۟۟ۛۙ۫ۙۛۚۜۖۜۗ۟ۙۨ۠ۤۖۘۤۙۨۛ۬ۛۘۗۘۜۖۚۛ۬۬ۗۖۛۛ۬ۜۡۧۘۛۚ۠ۧۢۖۧ۬ۚۗۜۡۜۘۧ۬ۨۛۘۗۙۤۖ۠ۙ۬۟ۗۜۖۡۧۜۛۢۧۤۡۖۖۗۜۧ۠ۘۜۛۚۗ۟ۡۤۗۧ۬ۤۡۢۗۗۢۘ۠ۙۤۚۧۧ۫۫ۗ۠ۡۢۢ۠ۚۙۧۢۛۢۗۛۙ۫ۧۚ۟ۙۖۢۧ۬ۧۤ۟۫ۛ۫ۛۗۛۙ۟ۙۧۢۧۗۤ۟ۙ۫ۢۢۗۚ۠ۖۢ۟ۧ۬ۜۧۗۢۘۗۢۚۜۢۜ۠ۖۤ۬۟۫ۧ۠ۡۜۜ۬ۜ۟ۖۛۚۜ۠ۧۗ۬ۤ۬ۧۧ۫۠ۨۙۢۚۚۜۡۚۧۨۙۧۤۗۙۘۘۡ۬ۗ۫ۖۢۙۡۗۧۖ۟ۡۡۗ۬ۘ۠ۨ۠۠ۤۨۛۜۜۚ۟ۘۖ۠ۙ۟ۨۨۖ۫ۛ۬۟۠ۙۡۗۛۜ۟ۘ۟ۢ۫ۡۘۢۢۢۧۨۡ۫ۘۤۨۙۨۨ۟۠ۜۧۛۡۧ۠ۚۧۘۚۡۡ۫۠ۗۧۘ۫ۛ۟ۗۗۡۧۧۡۘۖۘۧۙۘۙ۠ۡۢ۠ۨۡۘۛۙ۠ۧۧۡۙۗ۫ۨۧۗ۠۫ۨ۫ۖۙۛۡۚۢۗۜ۬۠ۚۢۖۖ۬ۘۖۙۡۢ۟ۨۢۤۖۨۢۛۛۚۗ۬ۧ۬ۧۗۨ۠ۨ۠۟ۗ۬ۤۤ۫ۢ۫ۜ۫ۖ۫ۙۜۙۧ۠ۚ۠۫۬ۡۧۡۚ۟ۙۘ۟ۖۨ۬۠ۢۙ۠۟۫ۜۤ۫ۨۖۚۙۨۡۘۤۡۨ۠ۙ۬۬ۧۡۚ۫ۡ۫ۘۤۢۢۢۙ۠۬ۧۛۜۘۙۘۛ۫ۗۡۡۛۚۘۡۘۤۙۚۡۨۤۧ۫ۚۤۜۖۘۨ۟ۤ۟ۧۛۧ۬ۚۗ۠ۖۙۡۨۤۧۨۤۨ۠ۗۛۜۛۨۚۘۢۧۗۧۛۛۙۧۢۖۗۤۢ۟۟ۘۛۢۜ۬۫۠۫۫۠ۚۘۛۜ۬ۤۘۨۡۛۗۖۤ۠ۗ۬ۨ۟ۨ۠۬ۢۢۛۛۚ۬ۡۜۡۘۨۙۤۖۗۧۧۖۘ۬ۤۜۙۡۢۖ۠۠ۤۧۗۡۘ۬ۡۤۡۖۘۢ۬ۘۛۨۢۜ۠ۨۤ۟ۙۗۖۙۧۘۙۘۗۧۖۘۗ۟ۤۡ۠ۗۛۤۘ۟ۢ۫ۛ۬۫ۙۤۡۧ۟۟۠ۗ۫۠۫۬ۗۗ۟ۗۜۡۛ۬ۡۙۙۤ۟ۛۗۧۡۧۗۨ۫ۡ۠۠۟۬ۖۚۜۙ۫۟ۘۗ۫۠ۡۨۗ۬ۚۜ۟ۤۗۗۖۖۧۤ۬ۖۘۙۡ۫ۧ۠ۜ۟ۤۜۙ۠ۛ۬ۨۘۧ۠۬ۖۙۛۖۚۢۢۗۢۢۡۧ۠۫ۚ۠ۡۢۤ۬۫ۚۡۚۛۡ۠ۨۙۘ۠۟ۛ۟ۤ۠۬ۙۡۘۙۤ۠ۤ۫ۧ۫ۚۡۨۘۨۢ۫ۖ۠۬ۙۛۚۨۗ۟۬۬ۢۛۜۘۗ۟ۧۙ۫ۤۢ۬ۧۛ۫۬ۜ۠ۙۜۤۤ۟ۡ۠ۤۤۜۘۨۖۘۗ۬ۨۘۢ۠ۨۧ۠ۙ۫ۧۤۘ۟ۖۡۜۧۖۛۘۨۤۤۘ۫ۛۡۚ۟۠ۤۗۗۢ۟ۛۗۨۨۖۨۛ۬ۖۛۖ۠ۢۡۢ۬ۗۙۨۧۤۡۗۗ۠ۗ۬۬ۛۖۡۡ۟۟ۤۛۤ۫ۗۙۧۡۨۢۧۤۤۜ۫ۤۛ۬ۤۙۜۖ۟۫۬۟ۨ۠ۗۛۧۤۖۧۧ۠۟ۘۢۛۚۗۨۖ۫ۢۢۡۤۚۡۘۗۡۧ۟ۖۢ۬۫ۧۖۢۜۙۜۤۙۨ۫ۚۛۚۤۨۤۗۤ۫۫ۜۚۚۙ۬ۙۗ۬۫ۤۗۖۚۨۜۜۧۜۜۜۢۖۛۢۧۜۚۘۢ۫۟۟ۖۗۛ۟ۜۚۙۖۨۜۨۛۗ۬۫ۤۙ۫ۙۧۜۛ۫ۨۜۘ۫ۤۙۤۤۘۘۢۡۖۢۤۧۚۤۡ۟ۙۘۡۖۘۙ۫ۤۤ۟ۜ۟ۢۨۧۗ۬ۜۜۢ۠ۢۙ۟ۢۧۚۡ۠ۡۘۢۚۤ۠۠ۗۖۜۙۙۧۧۙ۫۫ۢ۠ۛ۟ۧۜۢۚۚۨۚۢ۠۟ۡۤۤ۠ۢۘۤۛ۫ۜۘ۟ۛۤۙۖۡۗۛۚۙۜۤ۬۠ۨۧۘۨۖ۫ۤۤۙۗ۠ۢۗۜۙۗ۠ۗۚۤۢۘۘ۟ۖۛۚۘۚۤۨۛ۠ۨۛ۬ۖۗۨۚۙ۬ۖۨۧۗۗۜ۠۬۫۬ۘۡۤ۟ۜۢۜۗۘۗۙۡۛ۬ۨۜ۟ۢۡۧۢۗ۫ۗۖ۫۬ۙ۬۫۫ۙۜۤۖۧ۬ۛۙ۠ۢۧۢ۟ۡۚ۟ۙۙۨ۫۟۟۫۬ۡۤ۟ۡۘ۫ۘۡ۫ۢۡۜۜۧ۠ۚۚۧۙۨۖ۫ۨۨ۠۠ۜ۠ۜۗۛۚ۫۫۫ۘۡۗۨۡۤۢۛۡ۠ۗ۠۟ۤۙ۬ۡۛۧ۠ۢ۠ۙۛۤۙۚۜۢۙۖۛۙۖ۟ۛۜۚ۠ۤۡ۫ۙۢۡۛ۠ۗ۟ۜۜۧۗۨ۬ۙۜۗ۬ۢۨۚۖۘۛۤۨۘۡ۫ۚ۬ۖۧۤۚ۠ۚ۠۫ۗۘۢۚۗۤۨۡۤۙۘ۬۟ۤۚۘۨۙ۟ۚۗۖ۟۟۫۟۟ۤ۠۬۟۫ۗۡ۬۬ۙۘۚۘ۟ۢۙ۠۬ۚۨۛۖۤ۟ۙۙۖۚۚۤۢۡۤۙۙۗۖۙۛۡۘۤۙۗۧۜۧۤۗۧ۫۠ۧ۬ۢۜۢۛۖ۫ۗۧۜۤۗۢۖ۬ۜۨۜۜۡۖۨ۟ۗۜۡۗۨ۟ۢۛۚۚۗۙۘ۟ۢۧۗۡۖۖۧ۬۟ۗۢۗۤۤۢۢۚ۠ۗۙۜۖۚۤۚۚۗۨۧۙۜۡۧۖۡۙ۠ۤ۫ۜۢۤۢۚۧ۬ۧۤۙ۟ۢ۟ۡۤۘۚۜ۟۫ۚۚۜۗۡۗۘۨ۟ۜۘۨۡ۫ۡ۟ۢ۫۬ۙۖ۫۫ۤ۫ۛ۠ۨۗۖ۬ۜۖ۫ۧۗۜۢۤۖۤۨۧ۫ۘ۫۫۠ۤ۬ۗ۠ۘ۬ۗۖۡۤۗۡۨۨ۟ۤ۠ۧۛۡۤ۠ۜۛ۫۫ۜ۠ۘۡۤ۬۬ۤۧۧ۠ۨۛ۟ۙۚۗۢۘۜۙۙۜۡ۟ۢ۟ۙ۬ۡ۬ۛۚۙۢۙۡۢۙۛۖۧۙ۟ۧ۟ۧۛۡۢۚۨۨ۬ۧۙ۟ۢۡۜۤۡ۬ۖۖۛۖ۟ۗۖۚۨۖ۫ۨۚۖۧ۠ۖۛۤ۫ۙۛۚ۬ۘ۠ۡۤۡۚۢ۟ۤ۬ۖۤۡۨۢۘ۟ۙۧۖۨۨۢ۠ۘۘ۫ۘۙ۬ۚ۬ۢ۫ۨۖۗۙۙۤ۟ۧۗۡۗۡ۫ۘۨۧ۠ۨۗۖۤۤۜ۠ۘۧۤۨۚۜۙۨۗ۠ۤ۠ۗۡۚۧۢۜ۠ۛۜۚ۫ۛۗ۬ۗۚۤ۬۠ۙۧۛۙ۫ۤۧ۬ۚ۫۬ۤۖۗۚ۬ۡۡۜۙۖۖۛ۠۬ۚۚۚۨۛ۟ۘۡۘ۟۫ۨۘۢۡۢ۟ۛ۠۟۬ۛۨ۬ۧۨ۬ۜۚ۫ۜ۫ۙۢۧۘ۠ۙۧۡۙۚۡ۟ۨۖۗۛۙۙۨۨۘۡۛۨۘ۠ۜۨۢۜۢۙۤۧۨۚۢۨۜۤۚۜۖۗۚۘۗۜ۟ۢۗ۟ۡۙۛۗۡۙۜۨۜۙۘۘۗۘۘۧۖۜ۟ۗ۠ۡۢۖ۫ۛۤۡۨ۬۫ۚۢۚ۫ۗۙ۫ۧۧ۟ۨۤۤ۬ۜۖۛۤۧ۠ۗۜۡ۟ۚۚۜ۠ۙۗۛ۫ۡۨۘ۠ۢۜۙۛ۫ۛ۠ۛۛۚۡ۬ۢۢۖۤۖۛۜۙۙۘ۫ۡۚ۬ۤ۫ۗۚۖ۟ۚۚۜۛ۟۠ۖۗۛۚۖۘۖۢۚۢۖۨۡۨ۟ۜۢ۠ۗۚۘۖ۟ۨۨ۬ۘ۟ۢۚۡۗۤ۠۟ۡۛۛۛ۠ۜۘ۠ۛۙ۟ۢۗ۫ۙۜۘۜۜ۫ۨ۠۠ۧۡۨۜۖۗۛۚۗ۫ۘۧ۠ۙ۠ۡۛۙۖۖۧۘۖ۟ۛ۟ۚۜۡۧ۫ۚۡ۟ۨ۟۠ۤۜ۬ۨۜ۠ۡۡۗ۬۠ۛۚۖۘۧۖۢۨۛۜۚۨۨۙۖ۠ۨۧۛۜۧ۬۟ۗ۠ۙۖ۠ۤۛ۟۬ۘۗۧۛۘ۠ۢۛ۟ۡۡ۫ۛۖۨۤۙ۬ۜۙ۫ۘۘۡۨۙۙ۠۠ۢ۠۬ۙۛۡۨۤۖۤۙۤۨۗۖ۬۠ۜ۫ۗ۫ۨۙۗۚ۠ۘۘۘۖۛۜ۟ۢۜ۫ۜ۬۠ۤۧۜۛۧۛۧۢۗ۬ۘۚ۬ۤ۟ۛۡۗ۬ۡۢۛۢ۠۟۟ۡ۫ۨۘۜۧۧۨۖۡۢۤۗ۬ۙ۠۠ۙۖ۠ۧۘۢۡۚۤۡۛۛۘ۠ۧۖۗۨۗۤۨۙۛۤۧۖ۟۠ۖۚۚۢۡۧۖۘ۟ۖ۬ۙ۬ۙ۫ۖۧۙۜۗۙۧ۠ۘۤ۬ۖ۬۫۬ۘۜۜۘۤۢۧۧ۫ۛ۟ۙۢۛۗۡ۫ۧۤۢۘۖۤۘۙ۬ۙۢۚۘۙۧۖۛ۟ۙ۠۬ۜۘۗۧۜۢۧ۠ۛ۫ۢۤۘ۟۬ۧۘ۫ۘ۬ۡۧۜۗ۫ۡۡۛ۫ۡۨۛۧۡۨۜۡ۬ۛۧۖۚۖۙ۟ۤۧ۠ۙۘۡۜۖۡۚۙ۠ۡۛۘۙۚۢ۟ۗۢۜۤۙۛ۬ۢۨ۠ۚ۠ۘۢ۬۠۠ۚۘ۠ۨۖۘۙۙ۟ۖۛۗ۠ۚۢۜ۟ۧۧۖۡۨۡ۫۬ۛۡۖ۫۟ۡۡۛ۠ۜۚ۫ۘ۬ۧ۫ۛ۠ۤۘۛ۠ۙ۠ۗ۠ۢۗۙۙۛ۟ۤۘۡۗۖ۬ۛۢۗۙ۟۫ۡ۫ۧ۬۬ۛۧۡ۫ۜۙ۫ۨۗۙ۬ۙۗۖۡۛۢ۠۬۫ۡۗۖۜۛۘۧۜ۟ۧ۬ۤۙۘۤۖۛۜۖۢۡۙۘۘۘۢۗۡۙ۟ۖۗ۟۠ۚۢ۫۟ۘ۠ۖ۫ۧۡۤۖ۬ۢۢ۬ۡۘۢ۬ۙۢۤۘ۠ۘۙۗۘۖۤۘۡۗۗ۟ۛۙ۠ۖۧۢۙۢۜۘۜۜۤۖ۫ۚۗۢۜۜ۫ۛۙۧ۠ۖۙ۬۠ۢۛۘۤۗۢۡۤۢ۫۬۟ۜۜۨۗۤۙۨۗ۟ۧۖۨۨۤ۫ۨۤۘۙۘۚۛۡۢۤۙۙۡۗۧ۠ۤ۠ۛ۫۬ۘۖۘ۬۬ۧۨ۫ۡ۠ۢۗۚۚ۬ۨۡۙۧۙ۟ۢۨۨۖۢ۬ۙۨ۬ۖ۬ۧ۟۬ۡ۠ۜ۠ۜۨۢۚ۠۠ۚ۠ۡۘ۫ۚۧۡۤ۬ۛۡ۬ۢۜ۫ۗ۠۠۠۟ۙۢۤۛۜۜۨۘۡ۫۟ۚۛ۟ۛ۟۫ۢ۟ۛۗ۬ۢ۠ۚۜ۫ۖۙۘۘۘ۠ۚۗ۠۫ۘۚۘۢۤۚ۟ۨ۬ۛۧۘۜۜۘۤۘۖۧۜۤۗۧۖ۬ۧۙۚۙۗۛۚۢ۬ۤۨۚۘۜۢ۠۠ۘ۟۠ۡۗۨۛۙۤۨۡۡۢۨۢۛۙۢۛ۟۬ۨۛ۫۠ۡۖۘ۫ۢۛۡۗۖۧ۟۠ۨۖۛۤۤ۠ۨۚۨۤۗۡ۠ۡۢۛۖۛ۬۬ۨۗۗ۫ۘۧۨۗۨۚۡ۠ۧۡ۠ۡ۠ۙۜۡۘ۟ۤۡۚ۟ۤۧۘۨ۟ۢۚ۬ۘ۠۟۠۬ۚۙ۠ۜۢۢ۫ۧۨ۟ۢ۫ۢۢۧۘۜۚ۠ۘۗۢ۠۠۬۠۠ۨۢۡۢۘ۟ۧۗۨۧۧۖۧۧۖۙۙۚۤ۫۠ۧ۟ۧۙۙ۟۠۠ۘۤۤۗۛ۫۠ۙۚ۟ۚ۟۠۠۟ۙۙۡۗۜۙۤ۟ۨۛۢۢ۠ۘ۟ۖۘۖ۫۟ۨۨ۠ۨۗۖۖ۫ۚۖ۟ۧ۬ۢ۬ۗ۠۫۬ۢۚ۟ۧۗ۠ۗ۫ۨۖۜۨۤۙۡۛۤۧۢۢۤ۬ۡ۠ۙۚۜۤۜۢۖۢۗۤ۫ۚۖۤۤۙۚۤۚۡۘۜۖۖۙ۫۟۠ۛۤۡۚۘۤ۬ۛ۠ۛۡۘۘ۟ۚ۠۠ۢۛ۠ۛۖ۠۫ۡ۟ۚ۫۫ۢۛۚ۫۫ۤۙۚۚۨ۟ۢ۠ۤۗۤ۟ۙ۫۫۠ۢۧ۟۫ۗۨ۬ۜۘۡۗۡ۟۟ۙۘۨۤۘۜ۬ۢۨۧ۟ۖۤ۠ۡۤ۫۟ۘۨۢۢ۟ۛۙۜۡۧۢۘۖۚۙۨۚۛۚۧۘۘۗ۬ۢۛ۠۠۠ۨۡۚ۫ۤۙۛۧ۟ۚ۬ۡۜۙ۬ۤۚۘۡ۠ۧۡ۬۫ۖۛ۠ۖۘۢۚۛۢۚ۟ۘۧۘۤ۬۬ۛۧۙۘۙۜۡ۠ۨ۟ۢۢۡۧۚۨۜۧۢۜۙ۠ۘۨۧ۟۠ۜۖۡۙۜ۠ۚ۬ۖۜۡ۬ۗ۟۟۬ۡۚۛۜۧۡ۫۟ۨۖۢۗۜۧ۟۬ۡ۠ۘۗ۠ۢۚ۬ۜ۬ۡۢۨ۬ۖۛۖ۫ۚۚۛ۫ۚ۬ۚ۠ۨۡۖۤۙ۠ۗ۠ۧۙ۠۟ۢۘ۠ۖۤ۬ۖ۫ۗۧۨۨۚۡۘۧ۬۠ۤ۬ۡ۠ۚۡۗۖۡۛۧۘۙۤۨ۠ۢۡۨۡ۟ۤۚۘ۬ۖۘۧۙ۫۠۟ۗۙۤۧ۫۟ۙ۫۠ۡۖۢۢۢۡۗۛۙۡۨۤۙۙۚۛۧۘۤۜۚ۬ۚۗۧۘۚۤ۬ۢۜۗۧۛۛ۫ۤۙ۠۟ۡۙۨ۠ۚ۟۟ۖ۫ۤۙۛۢۤ۟ۜ۟ۛۗۜۨۧۘۜۛۨۚۧۧۜ۫۠ۡۢ۫ۡۢۘ۟ۜۙۗۨۡۜۘۘۙۙۢۚۛ۬۠ۗۖۖ۬ۙۢۧۡ۠ۗ۠ۡۖ۟ۛۖۡۨۙۖۗۧۡۚۘ۫ۨۗۡۙۤۖۧۙۡ۟ۤۤۛ۠۠ۙ۟ۤ۫ۡ۫ۧۗۛۨۨ۫ۛۧ۟ۖۤۗ۫ۙۧۖ۬ۘۖۙۛۗۙۛۗۘۡۜ۫ۖۚ۠۬ۧۚ۬۠ۗۙۜۘۘۤۛ۫ۖ۟ۧۡۨۢۢۨۙۤۖۚۡۗۡۡ۟ۤۢ۠ۡۗ۠ۧۛۘۚۚۚ۟ۨۗۖۖۢۛۨۙۤۧۧ۠ۧۖۢۙۙۢۨۗۚۧۛۤۘ۫ۗ۬۟ۡۢۤۙۜۨۛۜۛ۠ۡ۠ۧۗۡۙۚۧۙۤۘۙۚۤۛ۬ۙۖ۠ۜ۬ۢۢۡ۟ۛ۬۫۠۬ۛۨ۟ۨۤۗ۫ۡ۠ۛ۠۟۠۟۬۬۠۬ۗۢۜ۟ۜۘۢۜۧۨ۫ۨ۠۠ۛۚۤۖۧ۬ۤ۬ۧ۬۟ۛۛۨۨۗۗۨۨۘۚۧۤۘۜۧۡۘ۠ۧ۟ۘۢۧۛۘۧۧۗۘۖۧ۬ۘۘۧۨۘۚۧۤۘۜۧۜۗۨۚۨ۟ۚ۬ۧۢ۬ۗۗۢۗۖۛۙۜۨ۫۫ۚۚۖۡ۠ۘۤۡۜۛۖ۫ۙۤۢۨ۠ۗۜۨۧۗۘۨۙۖ۠۫۬۬۠۬ۙۘ۫ۧۗۘۖۧۤۤۨۚۢۢ۬ۚ۠ۢۗۚ\n",
            "work:alex.eijg@gmail.comjasonkester@gmail.comjakubmal@gmail.comnagaraj.acharya@gmail.comrose.andrew@gmail.comsquealingrat@gmail.comsatansgeek@gmail.comlievenswouter@gmail.commarco.t.maier@gmail.comaleemb@gmail.comshib71@gmail.comsreynoldshaertle@gmail.combtarricone@gmail.comilanco@gmail.competerbienek@gmail.comgnanavel.s@gmail.comlfx4sodas@gmail.comyann.esposito@gmail.comrmalecki@gmail.comeugene.pobochny@gmail.commikhailkru@gmail.comchristopherdebeer@gmail.comnashio@gmail.comdhairyadand@gmail.comtrungkien2288@gmail.comagamdua@gmail.comtanja.pislar@gmail.comkrhebbar@gmail.comfaisstsebastian@gmail.comsdeasey@gmail.comnicecurelom@gmail.comrpoddar@gmail.comprakhar1989@gmail.comdean.barrow@gmail.comgorbach.alexey@gmail.comollysb@gmail.comdeltasquaredfilter@gmail.comcatcherbren@gmail.comvjk.2005@gmail.comnicolas.parody@gmail.comeggmantwo@gmail.comtrikkia@gmail.comskanth@gmail.commarco.muscat@gmail.comthearcher4@gmail.comprofitbaron@gmail.comscottwhigham@gmail.commaroimage@gmail.comtallstreet@gmail.comyankcrime@gmail.comwakoinc@gmail.combogdan.aurel.vancea@gmail.comkuseman80@gmail.comtypjtk@gmail.compasiaj@gmail.comandre.friedrichs.com@googlemail.comandy.kriger@gmail.com\n",
            "people.http://en.wikipedia.org/wiki/William_Gardner_Pfannhttp://en.wikipedia.org/wiki/Claude_Shannonhttp://en.wikipedia.org/wiki/Richard_Hamminghttp://en.wikipedia.org/wiki/Richard_Feynmanhttp://en.wikipedia.org/wiki/Enrico_Fermihttp://en.wikipedia.org/wiki/Edward_Tellerhttp://en.wikipedia.org/wiki/J._Robert_Oppenheimerhttp://en.wikipedia.org/wiki/Hans_Bethehttp://en.wikipedia.org/wiki/Hendrik_Wade_Bodehttp://en.wikipedia.org/wiki/Albert_Einsteinhttp://en.wikipedia.org/wiki/Louis_Pasteurhttp://en.wikipedia.org/wiki/John_R._Piercehttp://www.aip.org/history/acap/biographies/bio.jsp?clogston...http://en.wikipedia.org/wiki/Walter_Houser_Brattainhttp://en.wikipedia.org/wiki/Grace_Hopperhttp://en.wikipedia.org/wiki/John_Tukeyhttp://en.wikipedia.org/wiki/Thomas_Edisonhttp://en.wikipedia.org/wiki/Charles_Darwinhttp://www.aip.org/history/acap/biographies/bio.jsp?chynowet...http://en.wikipedia.org/wiki/William_Shockleyhttp://en.wikipedia.org/wiki/John_Bardeenhttp://en.wikipedia.org/wiki/John_B._Johnsonhttp://www.legacy.com/obituaries/nytimes/obituary.aspx?n=ken...http://www.presidency.ucsb.edu/ws/index.php?pid=16955http://en.wikipedia.org/wiki/T%27ain%27t_What_You_Do_%28It%2...http://en.wikipedia.org/wiki/Issac_Newtonhttp://en.wikipedia.org/wiki/Sergei_Alexander_Schelkunoffhttp://en.wikipedia.org/wiki/590_Madison_Avenuehttp://en.wikipedia.org/wiki/Bernard_M._Oliverhttp://www.fraserresearch.org/FRbio_trustees.htmlhttp://en.wikipedia.org/wiki/Edgar_Gilberthttp://en.wikipedia.org/wiki/Ian_Munro_Ross\n",
            "clickable:http://heeeeeeeey.com/http://www.koalastothemax.com/http://heyyeyaaeyaaaeyaeyaa.com/http://eelslap.comhttp://www.staggeringbeauty.com/http://ducksarethebest.com/http://www.omfgdogs.com/http://burymewithmymoney.com/http://www.republiquedesmangues.fr/http://www.hristu.net/http://www.ismycomputeron.com/http://randomcolour.com/http://www.sanger.dk/http://www.fallingfalling.com/http://grandpanoclothes.com/http://www.rrrgggbbb.com/http://www.everydayim.com/http://r33b.net/http://cat-bounce.com/http://www.leekspin.com/http://dandandan.net/http://sometimesredsometimesblue.com/http://hasthelargehadroncolliderdestroyedtheworldyet.com/http://www.something.com/http://www.winkyface.org/http://isitchristmas.com/http://hectorsalamanca.com/http://ninjaflex.com/http://ihasabucket.com/http://corndogoncorndog.com/http://www.oppositeofpoop.com/http://giantbatfarts.com/http://chickenonaraft.com/http://www.nullingthevoid.com/http://www.pleasedonate.biz/http://www.itisamystery.com/http://imaninja.com/http://willthefuturebeaweso.me/http://www.drunkronswanson.com/http://salmonofcapistrano.com/http://www.watermelonduck.com/http://www.ooooiiii.com/http://www.wwwdotcom.com/http://www.ouaismaisbon.ch/http://iamawesome.com/http://beesbeesbees.com/http://www.pleaselike.com/http://crouton.net/http://www.clicktoremove.com/http://dastardlydigitofdestiny.com/http://www.muchbetterthanthis.com/http://www.nelson-haha.com/http://www.wutdafuk.com/http://colinsgiraffe.com/http://trololololololololololo.com/http://theshortanswer.com/http://unicodesnowmanforyou.com/http://www.patience-is-a-virtue.org/\n",
            "bCBA@?&#62;=&#60;;:9876543210/.-,+*)('&#38;%$#\"!~}|{zyxwvutsrqponmlkjihgfedcba`_^]\\[ZYXWVUTSRQPONMLKJIHGFEDCBA@?&#62;=&#60;;:9876543210/.-,+*)('&#38;%$#\"!~}|{]s9wvutsU2ponmlNjihgfedcba`_^W{[ZYXWVUTSRQPONMLKJIHGFEDCBA@?&#62;=&#60;;:9876543210/.-,+*)('&#38;%$#\"!~}|{zyxwvutsrqponmlkjihgfedcba`_^]\\[ZYXWVUTSRQPO1lLKJIHGFEDCBA@?&#62;=&#60;;:9876543210/.n,%I)('&#38;%$#\"!~}|^zyr8vutmrqj0/mlkjihgfedcba`_^]\\[ZYXWVUTSRQPO1lLKJIHGFEDCBA@?&#62;=&#60;;:9876543210/.-,+*j('&#38;%$#z@~}|{zyxwvutsrqponmlkjihgfedcba`_^]\\[ZYXWVUTSRQPO1lLK-IHAeEDCBA:?&#62;=&#60;;:987654321*N.n,+*)('&#38;%$#\"!~}|{zyxwvutm32ponmlkjihgfedcb[!_X]VzZYXWVUTSRQ3ONMLKJIHGFEDCB;_?!=&#60;;:981UT43210/.-,+*)('&#38;%$#\"!~}|{zyxwvutsrqponmlkjihgfedcba`_^]\\[ZYXWVUTSRQPO1lLKJIHGFEDCBA@?&#62;=&#60;;:9876543210/.-,+*)('&#38;f$#\"!x&#62;|{zyxwvutsrqponmlkjihgfedcba`_^]\\[ZYXWVUTSRQPO1lLK-CgGFEDCBA@?&#62;=&#60;;:9876543210/.-,+*)('&#38;%$#\"!~}|{zyxwvutsrqponmlkjihgfedcba`_^]\\[ZYXWVUTSRQPO1lLK-IHGFEDCBA@?&#62;=&#60;;:9876543210/.-,%I)('&#38;%$#\"!~}|^zyr8vutmrqj0/mlkjihgfedcba`_^]\\[ZYXWVUTSRQPO1lLK-IHAeEDCBA:?&#62;=&#60;;:987654321*N.-,l*)('&#38;%$#\"!~}|u;:xwvutsrqponmlkjihgfedcba`_^]\\[ZYXWVUTSRQPO1lLKJCBfeEDCBA@9&#62;=&#60;5Y9876543s10/.-,+*)('&#38;%$#\"!~}|u;y[wvo5mrqj0/mlkjihgfedcba`_^]\\[ZYXWVUTSRQPO1lLKJCBfFEDCBA@?&#62;7&#60;;4X876/432+O/.-,+*)('g%|B\"!~}|u;yxwvutsrqponmlkjihgfedcba`_^]V[ZYXWVUTSRQPImMLKJCHG@d'CB;_?!=&#60;;:981UT43210/.-,+*)('&#38;%$#\"!~}|{z\\xwvutsl2Sonmf,jihgfedcba`_^@\\[ZYXQutTSRQPO1lFKJIHGFEDCBA@?&#62;=&#60;;:92V6543210/.-,+*)('&#38;%$#\"!~}|{zyxwvutsrqponmlkjiKgfedcba`Y}]\\[ZYXWVUTSRQPO1lLKDIHGFEDCBA@?&#62;=&#60;;4X876543s10)M-,+*)('&#38;%$#\"!~}|{zyxwvutsrqponmlkjihgfedcba`_^]\\[ZYXWVUTSRQPO1lLKJIHGFEDCBA@?&#62;=};:9876543210/.-,+*)('&#38;%$#\"!~}|u;sxwvutsrqj0nmfkjiha'&#38;dcb[!_^]V[ZYXWVUTSRQPONMLKJIBfFEDCBA@?&#62;=};:9870T43210/.-,+*)('&#38;%$#\"!~}|{zyxwvutsrqponmlkjihgfedcba`_^]\\[ZYXWVUTSRQPO1lLKJIHGFEDCBA@?&#62;=};:3W765432r0/.-,%I)(!&#38;}CB\"!~}|{zyxwvutsrqponmlkjihgfedcba`_^]\\[ZYXWVUTSRQPO1lLK-IHGFEDCBA@?&#62;=&#60;;:9876543210/.-,%I)('&#38;%$d\"!~}|{zyr8vutmrqj0/mlkjihgfedcba`_^]\\[ZYXWVUTSRQPO1lLKJIHGFEDC&#60;A@?&#62;=&#60;;:98765.RQ10/.-,+*)('&#38;%$#z!~}|{zyxwvutsrqj0hmf,jiha`&#38;dcba`_^]\\UTxXWVUTSRQPONMLK-IHGFEDCBA@?&#62;=&#60;;:9876543210/.-,%I)('&#38;%$#\"!~}v{zyr8vutslqj0/mlkjihgfedcba`_^]\\[ZYXWVUTSRQPO1lLKJIHGFEDCBA@?&#62;=};:3W76543s1*N.-,l*)('&#38;%$#\"!~}|u;:xwvutsrqponmlkjihgfedcba`_^]\\[ZYXWVUTSRQPO1lLKJIHGFEDCBA@?&#62;=&#60;;:9876543210/.-m+*)('~D$#\"!~}|{z\\xwp6tsrqponmlkjihgfedcba`_^]\\[ZYXWVUTSRQPO1lLK-IHGFEDCBA@?&#62;=&#60;;:9876543210/.-,%I)('&#38;%$#\"!~}|^zyr8vutmrqj0/mlkjihgfedcba`_^]\\[ZYXWVUTSRQPO1lLKJIHGFEDC&#60;A@?&#62;=&#60;;:98765.R210/.n,+*)('&#38;%$#\"!~w={zyxwvutsrqponmlkjihgfedcba`_^]\\[ZYXWVUTSRQPO1lLKJIHGFEDC&#60;A@?&#62;=&#60;;:98765.R210/.n,+*)('&#38;%$#z@~}|{zyxwvutsrqponmlkjihgfedcba`_^]\\[ZYXWVUTSRQPO1lLK-IHGFEDCBA@?&#62;=&#60;;:9876543210/.-,%I)('&#38;%$#\"!~}v{zyr8vutslqj0/Plkd*hgfedFba`_^]\\[ZYXWVUTSRKoONMLKJ,BfeEDCBA@?&#62;=&#60;;:3W76543210/.-m+*)('&#38;%${Ay~}|{zyxwvo5srqponmlkjihgfedcba`_^]\\[ZYXWVUTSRQPO1lLKJIHA@dDCBA:?&#62;=&#60;;:92V654-210/.-,+*)('&#38;%$#\"!~}|{zyxwp6tsrqponmlkjihgfedcEa`_^]\\[ZYXQuUTMRQPONMFjJ,BfeEDCBA@?&#62;=&#60;;:3W76543210/.-m+*)('&#38;%${A!~wv&#60;zyxwvutsrqponmlkjihgfedcba`_^]\\[ZYXWVUTSRQPO1lLKJIHGFEDCBA@?&#62;=};:3W76543s1*N.-,l*)('&#38;%$#\"!~}|u;:xwvutsrqponmlkjihgfedcba`_^]\\[ZYXWVUTSRQPO1lLKJIHGFEDCBA@?&#62;=&#60;;:9y76543210/.-,%I)('&#38;%$#\"!~}|^zyr8vutmrqj0/mlkjihgfedcba`_^]\\[ZYXWVUTSRQPO1lLKJIHA@dDCBA@?&#62;=&#60;;:9876543s10)M-,+*)('&#38;%$#\"!~}|{zyxwvutsrqponmlkjihgfedcba`_^]\\[ZYXWVUTSRQPO1lLKJIHA@dDCBA@?&#62;=&#60;;:9876543210/.n,+*)(!E%$#\"!~}|{zyxwvutsrqponmlkjihgfedcba`_^]\\[ZYXWVUTSRQPO1lLK-IHGFEDCBA@?&#62;=&#60;;:9876543210/.-,%I)('&#38;%$d\"!~}|{zyr8vutmrqj0/mlkjihgfedcba`_^]\\[ZYXWVUTSRQPO1lLK-IHAeEDCBA:?&#62;=&#60;;:987654321*N.-,l*)('&#38;%$#\"!~}|u;:xwvutsrqponmlkjihgfedcba`_^]\\[ZYXWVUTSRQPO1lLKJIHGFEDCBA@?&#62;=&#60;;:9876543210/.-m+*)('&#38;%$#\"!~}|{zyr8vutsl2jonmlkjihgfedcb[!_X]VzZYXWV8TSRQPONMLKJIHGFED=aA@?&#62;=6;:3WV6543210/.-,+*)('&#38;%$#\"!~}|{zyxwvutsrqponmlkjihgfedcba`_^]\\[ZYXWVUTSRQPO1lLKJIHGFEDCBA@?&#62;=&#60;;:9876543210/.-m+*)('&#38;%$#\"!~}|{zyr8vutsrqpih.lkjihgfedcba`_^]\\[ZYXWVUTSRQPO1lLKJIHGFEDCBA@?&#62;=&#60;;:9876543210/.-m+*)\"FE%$#\"!~}|{zyxwvutsrqponmlkjihgfedcba`_^]\\[ZYXWVUTSRQPO1lLK-IHGFEDCBA@?&#62;=&#60;;:9876543210/.-,%I)('&#38;%$#\"!~}|^zyr8vutmrqj0/Plkd*hgfedFba`_^]\\[ZYXWVUTSRKoONMLKJ,BfeEDCBA@?&#62;=&#60;;:3W76543210/.-m+*)('&#38;%$#\"!~}|{zyr8vutsrqponmlkjihafedcb[!_^]\\[ZYXWVUTSRQPO1lLKJIHGFEDCBA@?&#62;=&#60;;:9876543210/.-m+*)\"F&#38;f$#\"!x&#62;|{zyxwvutsrqponmlkjihgfedcba`_^]\\[ZYXWVUTSRQPO1lLK-IHGFEDCBA@?&#62;=&#60;;:9876543210/.-,%I)('&#38;}$#\"!~}|{t:xqvutm32ponmlkjihgfedcb[!_^]\\[TYXWVUTSRQPONMLKJIBfFEDCBA@?&#62;=};:9870T43210/.-,+*)('&#38;%$#\"!~}|{zyxwvutsrqponmlkjihgfedcba`_^]\\[ZYXWVUTSRQPO1lLKJIHGFEDCBA@?&#62;=};:3W765432r0/.-,%I)(!&#38;}CB\"!~}|{zyxwvutsrqponmlkjihgfedcba`_^]\\[ZYXWVUTSRQPO1lLK-IHGFEDCBA@?&#62;=&#60;;:9876543210/.-,%I)('&#38;%$d\"!~}|{zyr8vutmrqj0/mlkjihgfedcba`_^]\\[ZYXWVUTSRQPO1lLKJIHGFEDCBA@?&#62;=&#60;;:9876543210/.-,+*)('&#38;f$#\"!~}|{zyxwvutsrqpong-Njihgf_%cba`_^]\\[ZYXWVUTSRQPO1lLKJIHGFEDCBA@?&#62;=&#60;;:9876543210/.-,+*)('&#38;%$#\"b~w={zyxwvutsrqponPlkjihgf_%cba`_^]\\[ZYXWVUTSRQPO1lLK-IHGFEDCBA@?&#62;=&#60;;:9876543210/.-,%I)('g%$#\"!~}|{zyxq7utslqj0/mlkjihgfedcba`_^]\\[ZYXWVUTSRQPO1lLK-IHAeEDCBA:?&#62;=&#60;;:987654321*N.-,l*)('&#38;%$#\"!~}|u;:xwvutsrqponmlkjihgfedcba`_^]\\[ZYXWVUTSRQPO1lLKJIHGFEDCBA@?&#62;=&#60;;:9876543210/.-,+*)('&#38;%$#\"!~`|{zyxq7utsrqponmfkjihgfedcba`Y}]\\[ZYXWVUTSRQPO1lLK-IHGFEDCBA@?&#62;=&#60;;:9876543210/.-,%I)(h&#38;%$#\"!~}|{zs9wvutsrqponmfkjiha'&#38;dcb[!_^]\\UZYXWVUTSRQPONMLKJIBfFEDCBA@?&#62;=&#60;;:92V6543210/.-,+*)('&#38;%$#\"!~}|{zyxwvutsrqponmlkjihgfedcba`_^]\\[ZYXWVUTSRQPO1lLKJIHGFED&#38;BA@?&#62;=6Z:9876543210/.n,+*#G'&#38;%$#\"!~}|{zyxwvutsrqponmlkjihgfedcba`_^]\\[ZYXWVUTSRQPO1lLK-IHGFEDCBA@?&#62;=&#60;;:9876543210/.-,%I)('&#38;%$#\"!~}|^zyr8vutmrqj0/Plkd*hgfedFba`_^]\\[ZYXWVUTSRKoONMLKJ,BfeEDCBA@?&#62;=&#60;;:3W76543s10/.-,+*)\"F&#38;%$#\"!~}|uzyr8vutsrqponmlkjihgfedcba`_^]\\[ZYXWVUTSRQPO1lLKJIHGFEDC%A@?&#62;=6Z:9876543210/.-,+$H('&#38;%$#\"!~}|{zyxwvutsrqjonmlkjihgfedcb[!_X]VzZYXWV8TSRQPONMLKJIHGFED=aA@?&#62;=6;:3WV6543210/.-,+*)('&#38;%$#\"!~}|{zyxwvutsrqponmlkjihgfedcba`_^]\\[ZYXWVUTSRQPO1lLKJIHGFEDCBA@?&#62;=&#60;;:9y70T.3210/.-,+*)('&#38;%${A!~}|{zyxwvutsrqponmlkjihgfedcba`_^]\\[ZYXWVUTSRQPO1lLK-IHAeEDCBA@?!=&#60;;:9876543210/.-,%I)(!&#38;}CB\"!~}|{zyxwvutsrqponmlkjihgfedcba`_^]\\[ZYXWVUTSRQPO1lLKJIHGFEDCBA@?&#62;=};4X87654321*/.-&#38;J*)('&#38;%$#\"!~`v&#60;;yxwvutsrqponmlkjihgfedcba`_^]\\[ZYXWVUTSRQPO1lLKJIHGFEDCBA@?&#62;=&#60;;:9y1U543s10)M-,+*)('&#38;%$#\"!~}|{zyxwvutsrqponmlkjihgfedcba`_^]\\[ZYXWVUTSRQPO1lLKJIHGFEDCBA@?&#62;=&#60;;:9876543210/.-,+*)('&#38;%$#\"!~}|{zyxwvutsrqponmlkjihgfedcEa`Y}]\\[ZSXWVUTSRQPONMLKDhHGFEDCBA@?&#62;=&#60;;:9876543210/.-,+*)('&#38;%$#\"!~}|{zyxwvutsrqponmlkjihgfedcba`_^]\\[ZYXWVUTSRQPO1lLKJIHGFEDCBA@?&#62;=&#60;;:9876543210/.n,%I)('&#38;%$#\"!~}|^zyr8vutmrqj0/mlkjihgfedcba`_^]\\[ZYXWVUTSRQPO1lLK-IHAeEDCBA:?&#62;=&#60;;:987654321*N.-,l*)('&#38;%$#\"!~}|u;:xwvutsrqponmlkjihgfedcba`_^]\\[ZYXWVUTSRQPO1lLKJIHGFEDC%A@?&#62;=&#60;;:981U543210/.-,+$H('&#38;%$#\"!~}|{zyxwvutsrqjonmlkjihgfedcb[!_X]VzZYXWV8TSRQPONMLKJIHGFED=aA@?&#62;=6;:3WV6543210/.-,+*)('&#38;%$#\"!~}|{zyxwvutsrqponmlkjihgfedcba`_^]\\[ZYXWVUTSRQPO1lLKJIHGFEDCBA@?&#62;=&#60;;:9y1U5.3210/.'K+*)('&#38;%$#\"!~}|{zyxwvutsrqponmlkjihgfedcba`_^]\\[ZYXWVUTSRQPO1lLKJIHGFEDCBA@?&#62;=&#60;;:9876543210/.-,+*)('&#38;f$#\"!x&#62;|u;yxwvunsrqpi/glkjihgfedcba`_^]VzZYXWV8TSRQPONMLKJIHGFED=aA@?&#62;=6;:3WV6543210/.n,+$H(h&#38;%$#\"!~}|{zs9Zvutm32ponmlkjihgfedcb[!_^W\\[TxRQuUTSRQPO1lLKJIHGFEDCBA@?&#62;=&#60;;:9y1UT43210/.-,+*)('&#38;%$#\"!~}|{zyxwvutsrqponmlkjihgfedcba`_^]\\[ZYXWVU7rRQPONMLK-IHGFEDCBA@?&#62;=&#60;;:9876543210/.-,%I)('&#38;%$#\"!~}|^zyr8vutmrqj0/mlkjihgfedcba`_^]\\[ZYXWVUTSRQPO1lLKJIHGFEDCBA@?&#62;=&#60;;:9876543s10)M'&#38;J*)('&#38;%$#\"!~}|{zyxwvutsrqponmlkjihgfedcba`_^]\\[ZYXWVUTSRQPO1lLK-IHAeEDCBA:?&#62;=&#60;;:987654321*N.n,+*)('&#38;%$#\"!~}|{zyxwvutm32ponmlkjihgfedcb[!_X]VzZYXWVUTSRQ3ONMLKJIHGFEDCB;_?!=&#60;;:981UT43210/.-,+*)('&#38;%$#\"!~}|{zyxwvutsrqponmlkjihgfedcba`_^]\\[ZYXWVUTSRQPO1lLKJIHGFEDCBA@?&#62;=&#60;;:987654t210/.-,+*)(!E}$#\"!~}|{zyr8vutsrqponmlkjihgfedcba`_^]\\[ZYXWVUTSRQPO1lLK-CgAFEDCBA@?&#62;=&#60;;:9876543210/.-,+*)('&#38;%$#\"!~}|{zyxwvo5srqponmlkjihgfedcba`_^]\\[ZYXWVUTSRQPO1lLK-IHGFEDCBA@?&#62;=&#60;;:9876543210/.-,%I)('&#38;%$#\"!~}|^zyr8vutsrkj0/mlkjihgfedcba`_^]\\[ZYXWVUTSRQPO1lLK-IHAeEDCBA:?&#62;=&#60;;:987654321*N.-,l*)('&#38;%$#\"!~}|u;:xwvutsrqponmlkjihgfedcba`_^]\\[ZYXWVUTSRQPO1lLK-CgGFEDC%A@?&#62;=6Z:9876543210/.-,+*)('&#38;%$#\"!~}|{zyxwvutsrqponmlkjihgfedcba`_^]\\[ZYXWVUTSRQPO1lLK-IHGFEDCBA@?&#62;=&#60;;:9876543210/.-,%I)('&#38;%$#\"!~}|^zyr8vutmrqj0/mlkjihgfedcba`_^]\\[ZYXWVUTSRQPO1lLK-CgfFEDCBA@?&#62;=&#60;;:9876543210/.-,+*)('&#38;%$#\"!~}|{zyxwvutsrqponmlkjihgfedcba`_^]\\[ZYXWVUTSRQPO1lLK-CgG@EDCBA@?&#62;=&#60;;:981U543210/.-,+*)('&#38;%$#\"!~}|{zyxwvutsrqponmlkjihgfedcba`_^]\\[ZYXWVUTSRQPO1lLK-IHGFEDCBA@?&#62;=&#60;;:9876543210/.-,%I)('&#38;%$#\"!~}|^zyr8vutmrqj0/Plkd*hgfedFba`_^]\\[ZYXWVUTSRKoONMLKJ,BfeEDCBA@?&#62;=&#60;;:3W76543210/.n,+*#G!&#38;%$#z@~}|{zyxwvutsrqponmlkjihgfedcba`_^]\\[ZYXWVUTSRQPO1lLKJIHGFEDC%A:^&#62;=&#60;;:9876543210/.-m+*)('~D$#\"!~}|{zyxwvutsrqponmlkjihgfedcba`_^]\\[ZYXWVUTSRQPO1lLK-IHGFEDCBA@?&#62;=&#60;;:9876543210/.-,%I)('&#38;%$#\"!~}|^zyr8vutmrqj0/mlkjihgfedcba`_^]\\[ZYXWVUTSRQPO1lLK-IHG@dDCBA@?&#62;=&#60;;:3876543210/.-,+*)('&#38;%${A!~}|{zyxwvutsrqponmlkjihgfedcba`_^]\\[ZYXWVUTSRQPO1lLK-IHAeEDCBA:?&#62;=&#60;;:987654321*N.-,l*)('&#38;%$#\"!~}|u;:xwvutsrqponmlkjihgfedcba`_^]\\[ZYXWVUTSRQPO1lLKJIHGFEDCBA@?&#62;=&#60;;:9876543s10/.-,+*)('&#38;%$#\"!~}|u;y[wvo5mrqj0/mlkjihgfedcba`_^]\\[ZYXWVUTSRQPO1lLK-IHGFED=aA:?&#62;=&#60;;:981U543210/.-,+*)('&#38;%$#\"!~}|{zyxwvutsrqponmlkjihgfedcba`_^]\\[ZYXWVUTSRQPO1lLK-IHG@dDCBA@?&#62;7[;49876543210/.-,+$H('&#38;%$#\"!~`|u;sxwvutsrqj0nmfkjiha'&#38;dcb[!_^]\\[ZYXWVUTSRQPONMLK-IHAeEDCBA@?!=&#60;;:92V6543,+ON.-,+*)('&#38;%$#\"!~}|{zyxwvutsrqponmlkjihgfedcba`_^]\\[ZYXWVUTSRQPO1lY\n",
            "projects:apparelroom.comappropriatetechnology.netarmedchildren.combigtoygun.netbrand-focus.combrand-service.combyrae.combyrae.netcapital.vccitruscity.comcloudlight.comcloudlight.netcloudlight.orgcloudspire.comconnectrae.comdeathtechnology.comdigitaldinner.orgfashion-hub.comfashion-hub.netgosheet.comgoweave.comgowithrae.cominventorysync.cominventorysync.netmedium-shoes.commoderninventory.commoney.vcnpdaily.comnptoday.comonrae.complaygroundwar.compollenate.netpollenate.orgpriceshop.netquiktrk.comraeconnect.comraeiseasy.comraeready.comrestoreyourbrain.comridera.comsaleslogic.infosaleslogic.netsbcinergy.comsbdaily.comsbfilm.comsbfilm.orgsbthings.comservicemixer.comsidecart.netsidecart.orgsimplyweave.comsinglesheet.comstoresync.netstreamstream.comstreamstream.netstrongcloud.comsyncdata.netthread2.comthreadsync.comthreadwell.comtouchcms.comtouchcms.netweblinesheet.comweblinesheet.netweblookbook.comwellthread.comwildflowergems.comwithrae.comxpollinator.comxxplosive.comzeitlist.comzeitlog.comReasonable\n",
            "&#38;#1607;&#38;#1160;&#38;#1160;&#38;#1160;&#38;#1160;&#38;#1160;&#38;#1160;&#38;#1160;&#38;#1160;&#38;#1160;&#38;#1160;&#38;#1160;&#38;#1160;&#38;#1160;&#38;#1160;&#38;#1160;&#38;#1160;&#38;#1160;&#38;#1160;&#38;#1160;&#38;#1160;&#38;#1160;&#38;#1160;&#38;#1160;&#38;#1160;&#38;#875;&#38;#876;&#38;#873;&#38;#878;&#38;#872;&#38;#874;&#38;#879;&#38;#869;&#38;#869;&#38;#875;&#38;#874;&#38;#871;&#38;#867;&#38;#879;&#38;#874;&#38;#872;&#38;#867;&#38;#869;&#38;#876;&#38;#874;&#38;#1160;&#38;#1160;&#38;#1160;&#38;#1160;&#38;#1160;&#38;#1160;&#38;#1160;&#38;#1160;&#38;#1160;&#38;#1160;&#38;#1160;&#38;#1160;&#38;#1160;&#38;#1160;&#38;#1160;&#38;#1160;&#38;#1160;&#38;#1160;&#38;#1160;&#38;#1160;&#38;#1160;&#38;#1160;&#38;#1160;&#38;#1160;&#38;#1160;&#38;#874;&#38;#869;&#38;#872;&#38;#874;&#38;#875;&#38;#876;&#38;#877;&#38;#878;&#38;#879;&#38;#869;&#38;#868;&#38;#867;&#38;#869;&#38;#872;&#38;#874;&#38;#871;&#38;#867;&#38;#879;&#38;#876;&#38;#874;&#38;#1160;&#38;#1160;&#38;#1160;&#38;#1160;&#38;#1160;&#38;#1160;&#38;#1160;&#38;#1160;&#38;#1160;&#38;#1160;&#38;#1160;&#38;#1160;&#38;#1160;&#38;#1160;&#38;#1160;&#38;#1160;&#38;#1160;&#38;#1160;&#38;#1160;&#38;#1160;&#38;#1160;&#38;#1160;&#38;#1160;&#38;#1160;&#38;#1160;&#38;#1160;&#38;#1160;&#38;#1160;&#38;#874;&#38;#872;&#38;#874;&#38;#875;&#38;#876;&#38;#873;&#38;#878;&#38;#879;&#38;#869;&#38;#872;&#38;#867;&#38;#869;&#38;#875;&#38;#874;&#38;#871;&#38;#867;&#38;#879;&#38;#869;&#38;#876;&#38;#874;\n",
            "https://news.ycombinator.com/item?id=5612136https://news.ycombinator.com/item?id=5440673https://news.ycombinator.com/item?id=5397602https://news.ycombinator.com/item?id=5051922https://news.ycombinator.com/item?id=5022601https://news.ycombinator.com/item?id=4994882https://news.ycombinator.com/item?id=4316581https://news.ycombinator.com/item?id=4079566https://news.ycombinator.com/item?id=3981958https://news.ycombinator.com/item?id=3922221https://news.ycombinator.com/item?id=3900711https://news.ycombinator.com/item?id=3643061https://news.ycombinator.com/item?id=3444804https://news.ycombinator.com/item?id=3399839https://news.ycombinator.com/item?id=3330961https://news.ycombinator.com/item?id=2957732https://news.ycombinator.com/item?id=2891596https://news.ycombinator.com/item?id=2848674https://news.ycombinator.com/item?id=2499845https://news.ycombinator.com/item?id=2239395https://news.ycombinator.com/item?id=2015331https://news.ycombinator.com/item?id=2003313https://news.ycombinator.com/item?id=1995239https://news.ycombinator.com/item?id=1851303https://news.ycombinator.com/item?id=1833040https://news.ycombinator.com/item?id=1813856https://news.ycombinator.com/item?id=1734122https://news.ycombinator.com/item?id=1602430https://news.ycombinator.com/item?id=1525445https://news.ycombinator.com/item?id=1320804https://news.ycombinator.com/item?id=1209378https://news.ycombinator.com/item?id=1161002https://news.ycombinator.com/item?id=929567https://news.ycombinator.com/item?id=913911https://news.ycombinator.com/item?id=769769https://news.ycombinator.com/item?id=716219https://news.ycombinator.com/item?id=668087https://news.ycombinator.com/item?id=394077https://news.ycombinator.com/item?id=367418https://news.ycombinator.com/item?id=212682https://news.ycombinator.com/item?id=167076https://news.ycombinator.com/item?id=144666https://news.ycombinator.com/item?id=139901https://news.ycombinator.com/item?id=132026https://news.ycombinator.com/item?id=99936https://news.ycombinator.com/item?id=75135https://news.ycombinator.com/item?id=61831\n",
            "order)http:&#x2F;&#x2F;consultingadultblog.blogspot.com&#x2F;2010&#x2F;04&#x2F;life-in-boys...http:&#x2F;&#x2F;consultingadultblog.blogspot.com&#x2F;2010&#x2F;04&#x2F;life-in-boys...http:&#x2F;&#x2F;consultingadultblog.blogspot.com&#x2F;2010&#x2F;04&#x2F;life-in-boys...http:&#x2F;&#x2F;consultingadultblog.blogspot.com&#x2F;2010&#x2F;04&#x2F;life-in-boys...http:&#x2F;&#x2F;consultingadultblog.blogspot.com&#x2F;2010&#x2F;03&#x2F;life-in-boys...http:&#x2F;&#x2F;consultingadultblog.blogspot.com&#x2F;2010&#x2F;03&#x2F;life-in-boys...http:&#x2F;&#x2F;consultingadultblog.blogspot.com&#x2F;2010&#x2F;03&#x2F;life-in-boys...http:&#x2F;&#x2F;consultingadultblog.blogspot.com&#x2F;2010&#x2F;03&#x2F;life-in-boys...http:&#x2F;&#x2F;consultingadultblog.blogspot.com&#x2F;2010&#x2F;03&#x2F;life-in-boys...http:&#x2F;&#x2F;consultingadultblog.blogspot.com&#x2F;2010&#x2F;03&#x2F;life-in-boys...http:&#x2F;&#x2F;consultingadultblog.blogspot.com&#x2F;2010&#x2F;03&#x2F;life-in-boys...http:&#x2F;&#x2F;consultingadultblog.blogspot.com&#x2F;2010&#x2F;03&#x2F;life-in-boys...http:&#x2F;&#x2F;consultingadultblog.blogspot.com&#x2F;2010&#x2F;03&#x2F;life-in-boys...http:&#x2F;&#x2F;consultingadultblog.blogspot.com&#x2F;2010&#x2F;03&#x2F;life-in-boys...http:&#x2F;&#x2F;consultingadultblog.blogspot.com&#x2F;2010&#x2F;03&#x2F;life-in-boys...http:&#x2F;&#x2F;consultingadultblog.blogspot.com&#x2F;2010&#x2F;03&#x2F;life-in-boys...http:&#x2F;&#x2F;consultingadultblog.blogspot.com&#x2F;2010&#x2F;03&#x2F;life-in-boys...http:&#x2F;&#x2F;consultingadultblog.blogspot.com&#x2F;2010&#x2F;02&#x2F;life-in-boys...http:&#x2F;&#x2F;consultingadultblog.blogspot.com&#x2F;2010&#x2F;02&#x2F;life-in-boys...http:&#x2F;&#x2F;consultingadultblog.blogspot.com&#x2F;2010&#x2F;02&#x2F;life-in-boys...http:&#x2F;&#x2F;consultingadultblog.blogspot.com&#x2F;2010&#x2F;02&#x2F;life-in-boys...http:&#x2F;&#x2F;consultingadultblog.blogspot.com&#x2F;2010&#x2F;02&#x2F;life-in-boys...http:&#x2F;&#x2F;consultingadultblog.blogspot.com&#x2F;2010&#x2F;02&#x2F;life-in-boys...http:&#x2F;&#x2F;consultingadultblog.blogspot.com&#x2F;2010&#x2F;02&#x2F;life-in-boys...http:&#x2F;&#x2F;consultingadultblog.blogspot.com&#x2F;2010&#x2F;02&#x2F;life-in-boys...http:&#x2F;&#x2F;consultingadultblog.blogspot.com&#x2F;2010&#x2F;02&#x2F;life-in-boys...http:&#x2F;&#x2F;consultingadultblog.blogspot.com&#x2F;2010&#x2F;02&#x2F;life-in-boys...http:&#x2F;&#x2F;consultingadultblog.blogspot.com&#x2F;2010&#x2F;02&#x2F;life-in-boys...http:&#x2F;&#x2F;consultingadultblog.blogspot.com&#x2F;2010&#x2F;02&#x2F;life-in-boys...http:&#x2F;&#x2F;consultingadultblog.blogspot.com&#x2F;2010&#x2F;02&#x2F;life-in-boys...http:&#x2F;&#x2F;consultingadultblog.blogspot.com&#x2F;2010&#x2F;01&#x2F;life-in-boys...http:&#x2F;&#x2F;consultingadultblog.blogspot.com&#x2F;2010&#x2F;01&#x2F;life-in-boys...http:&#x2F;&#x2F;consultingadultblog.blogspot.com&#x2F;2010&#x2F;01&#x2F;life-in-boys...\n",
            "http:&#x2F;&#x2F;www.reddit.com&#x2F;r&#x2F;REMath&#x2F;http:&#x2F;&#x2F;www.reddit.com&#x2F;r&#x2F;ReverseEngineering&#x2F;http:&#x2F;&#x2F;www.reddit.com&#x2F;r&#x2F;lowlevel&#x2F;http:&#x2F;&#x2F;www.reddit.com&#x2F;r&#x2F;vrd&#x2F;http:&#x2F;&#x2F;www.reddit.com&#x2F;r&#x2F;systems&#x2F;http:&#x2F;&#x2F;www.reddit.com&#x2F;r&#x2F;math&#x2F;http:&#x2F;&#x2F;www.reddit.com&#x2F;r&#x2F;types&#x2F;http:&#x2F;&#x2F;www.reddit.com&#x2F;r&#x2F;dependent_types&#x2F;http:&#x2F;&#x2F;www.reddit.com&#x2F;r&#x2F;Coq&#x2F;http:&#x2F;&#x2F;www.reddit.com&#x2F;r&#x2F;haskell&#x2F;http:&#x2F;&#x2F;www.reddit.com&#x2F;r&#x2F;ocaml&#x2F;http:&#x2F;&#x2F;www.reddit.com&#x2F;r&#x2F;crypto&#x2F;http:&#x2F;&#x2F;www.reddit.com&#x2F;r&#x2F;fsharp&#x2F;http:&#x2F;&#x2F;www.reddit.com&#x2F;r&#x2F;scala&#x2F;http:&#x2F;&#x2F;www.reddit.com&#x2F;r&#x2F;lisp&#x2F;http:&#x2F;&#x2F;www.reddit.com&#x2F;r&#x2F;ProgrammingLanguages&#x2F;http:&#x2F;&#x2F;www.reddit.com&#x2F;r&#x2F;dataisbeautiful&#x2F;http:&#x2F;&#x2F;www.reddit.com&#x2F;r&#x2F;PhilosophyofMath&#x2F;http:&#x2F;&#x2F;www.reddit.com&#x2F;r&#x2F;AcademicPhilosophy&#x2F;http:&#x2F;&#x2F;www.reddit.com&#x2F;r&#x2F;PhilosophyofScience&#x2F;http:&#x2F;&#x2F;www.reddit.com&#x2F;r&#x2F;MachineLearning&#x2F;http:&#x2F;&#x2F;www.reddit.com&#x2F;r&#x2F;IPython&#x2F;http:&#x2F;&#x2F;www.reddit.com&#x2F;r&#x2F;statistics&#x2F;http:&#x2F;&#x2F;www.reddit.com&#x2F;r&#x2F;Design&#x2F;http:&#x2F;&#x2F;www.reddit.com&#x2F;r&#x2F;museum&#x2F;\n",
            "aware.http:&#x2F;&#x2F;majetilab.stanford.edu&#x2F;http:&#x2F;&#x2F;med.stanford.edu&#x2F;profiles&#x2F;majeitlab&#x2F;faculty&#x2F;Ravindra_...http:&#x2F;&#x2F;stanmed.stanford.edu&#x2F;2012summer&#x2F;article7.htmlhttp:&#x2F;&#x2F;www.phillymag.com&#x2F;articles&#x2F;carl-june-key-fighting-can...http:&#x2F;&#x2F;unitedwithisrael.org&#x2F;enlivex-innovation-leads-to-effe...http:&#x2F;&#x2F;unitedwithisrael.org&#x2F;israel-develops-cancer-vaccine&#x2F;http:&#x2F;&#x2F;portal.acs.org&#x2F;portal&#x2F;acs&#x2F;corg&#x2F;content?_nfpb=true&amp;_pa...http:&#x2F;&#x2F;www.bbc.co.uk&#x2F;news&#x2F;health-14572284http:&#x2F;&#x2F;www.dailymail.co.uk&#x2F;health&#x2F;article-2275650&#x2F;Scientists...http:&#x2F;&#x2F;www.eurekalert.org&#x2F;pub_releases&#x2F;2013-04&#x2F;uom-bct040313...http:&#x2F;&#x2F;web.mit.edu&#x2F;newsoffice&#x2F;2013&#x2F;how-melanoma-evades-chemo...http:&#x2F;&#x2F;www.atsdr.cdc.gov&#x2F;risk&#x2F;cancer&#x2F;cancer-laboratory.htmlhttp:&#x2F;&#x2F;www.nature.com&#x2F;nature&#x2F;journal&#x2F;v485&#x2F;n7396&#x2F;full&#x2F;485041e...http:&#x2F;&#x2F;metro.co.uk&#x2F;2013&#x2F;06&#x2F;19&#x2F;naked-mole-rat-may-hold-the-cl...http:&#x2F;&#x2F;www.phillymag.com&#x2F;articles&#x2F;carl-june-key-fighting-can...https:&#x2F;&#x2F;news.ycombinator.com&#x2F;item?id=6231876https:&#x2F;&#x2F;www.seas.harvard.edu&#x2F;news&#x2F;2013&#x2F;09&#x2F;cancer-vaccine-beg...http:&#x2F;&#x2F;www.sciencedaily.com&#x2F;releases&#x2F;2014&#x2F;02&#x2F;140219142556.ht...http:&#x2F;&#x2F;www.mskcc.org&#x2F;pressroom&#x2F;press&#x2F;cell-therapy-shows-rema...https:&#x2F;&#x2F;news.ycombinator.com&#x2F;item?id=7371906I\n"
          ]
        }
      ],
      "source": [
        "#Поскольку вывод всех слов длиннее 45(максимальная длина слова в словарях английского язка), затруднителен ввиду большого количества ссылок, посмотрим какие слова больше 1000 символов повлияли на гарфик.\n",
        "for comment in df[\"comment\"]:\n",
        "  for word in comment.split():\n",
        "    if len(word) > 1000:\n",
        "      print(word)\n",
        "#Это крайне длинные ссылки, фрагменты кода и определённого рода \"спам\"."
      ]
    },
    {
      "cell_type": "markdown",
      "source": [
        "Это крайне длинные ссылки, фрагменты кода и определённого рода \"спам\"."
      ],
      "metadata": {
        "id": "Tb1gv8S4bceV"
      }
    },
    {
      "cell_type": "markdown",
      "source": [
        "Проведём очистку текста от стоп слов"
      ],
      "metadata": {
        "id": "RlVFjROwUxoI"
      }
    },
    {
      "cell_type": "code",
      "execution_count": 11,
      "metadata": {
        "colab": {
          "base_uri": "https://localhost:8080/"
        },
        "id": "UUw3UTre4u-T",
        "outputId": "fb803768-936f-4252-9bbc-0db772842a77"
      },
      "outputs": [
        {
          "output_type": "stream",
          "name": "stderr",
          "text": [
            "[nltk_data] Downloading package punkt to /root/nltk_data...\n",
            "[nltk_data]   Unzipping tokenizers/punkt.zip.\n",
            "[nltk_data] Downloading package stopwords to /root/nltk_data...\n",
            "[nltk_data]   Unzipping corpora/stopwords.zip.\n"
          ]
        }
      ],
      "source": [
        "# Импортируем библиотеки для очистки текста и определения темы\n",
        "import nltk\n",
        "from nltk.tokenize import word_tokenize\n",
        "from nltk.corpus import stopwords\n",
        "from sklearn.feature_extraction.text import TfidfVectorizer\n",
        "\n",
        "# Download the necessary resources for NLTK\n",
        "nltk.download('punkt')\n",
        "nltk.download('stopwords')\n",
        "\n",
        "# Tokenize the text and clean it by removing stopwords and special characters\n",
        "def clean_text(text):\n",
        "    tokens = word_tokenize(text.lower())\n",
        "    stop_words = set(stopwords.words('english'))\n",
        "    tokens = [token for token in tokens if token not in stop_words and token.isalpha()]\n",
        "    return ' '.join(tokens)"
      ]
    },
    {
      "cell_type": "code",
      "source": [
        "#df = pd.read_csv('/content/drive/MyDrive/CupIT/bigDataFrame.csv')\n",
        "#df"
      ],
      "metadata": {
        "id": "HfH1vUXPqT4G"
      },
      "execution_count": null,
      "outputs": []
    },
    {
      "cell_type": "code",
      "execution_count": 12,
      "metadata": {
        "id": "AfKuqft461aB"
      },
      "outputs": [],
      "source": [
        "pd.options.mode.chained_assignment = None\n",
        "\n",
        "df[\"cleaned_post\"] = [\"None\"]*len(df)\n",
        "for i,post in enumerate(df[\"post\"]):\n",
        "    cleanPost = clean_text(post)\n",
        "    df[\"cleaned_post\"][i] = cleanPost\n",
        "\n",
        "df[\"cleaned_comment\"] = [\"None\"]*len(df)\n",
        "for i,comment in enumerate(df[\"comment\"]):\n",
        "    cleanComment = clean_text(comment)\n",
        "    df[\"cleaned_comment\"][i] = cleanComment\n",
        "\n"
      ]
    },
    {
      "cell_type": "markdown",
      "source": [
        "Приведём аналогичные графики после очистки"
      ],
      "metadata": {
        "id": "eXS4HTlzUjCA"
      }
    },
    {
      "cell_type": "code",
      "execution_count": null,
      "metadata": {
        "colab": {
          "base_uri": "https://localhost:8080/",
          "height": 282
        },
        "id": "csJYZsbV-uUc",
        "outputId": "bb8b8d9c-0e09-4c34-f2bf-dba2e8ddba88"
      },
      "outputs": [
        {
          "output_type": "execute_result",
          "data": {
            "text/plain": [
              "<Axes: >"
            ]
          },
          "metadata": {},
          "execution_count": 44
        },
        {
          "output_type": "display_data",
          "data": {
            "text/plain": [
              "<Figure size 432x288 with 1 Axes>"
            ],
            "image/png": "[encoded data removed]"
          },
          "metadata": {
            "needs_background": "light"
          }
        }
      ],
      "source": [
        "#Количество слов в тексте поста\n",
        "df[\"cleaned_post\"].str.split().map(lambda x: len(x)).hist(range=(0,13), bins = 13)"
      ]
    },
    {
      "cell_type": "markdown",
      "source": [
        "Среднее количество слов в очищенном посте уменьшилось до 3-7"
      ],
      "metadata": {
        "id": "nb7YYI8MCH8J"
      }
    },
    {
      "cell_type": "code",
      "execution_count": null,
      "metadata": {
        "colab": {
          "base_uri": "https://localhost:8080/",
          "height": 282
        },
        "id": "uUP6h2Kt-yyG",
        "outputId": "22667028-ae62-49a7-9b7f-929263f2b6e4"
      },
      "outputs": [
        {
          "output_type": "execute_result",
          "data": {
            "text/plain": [
              "<Axes: >"
            ]
          },
          "metadata": {},
          "execution_count": 45
        },
        {
          "output_type": "display_data",
          "data": {
            "text/plain": [
              "<Figure size 432x288 with 1 Axes>"
            ],
            "image/png": "[encoded data removed]"
          },
          "metadata": {
            "needs_background": "light"
          }
        }
      ],
      "source": [
        "#Количество слов в тексте комментария\n",
        "df[\"cleaned_comment\"].str.split().map(lambda x: len(x)).hist(range=(0,250), bins = 50)"
      ]
    },
    {
      "cell_type": "markdown",
      "source": [
        "Среднее количество слов в очищенном комментарии также уменьшилось "
      ],
      "metadata": {
        "id": "biQfVTNLucI3"
      }
    },
    {
      "cell_type": "code",
      "execution_count": null,
      "metadata": {
        "colab": {
          "base_uri": "https://localhost:8080/",
          "height": 352
        },
        "id": "gyTe-0PG-9gr",
        "outputId": "b15e3a61-2f3b-41a4-d592-d744e5a54f59"
      },
      "outputs": [
        {
          "output_type": "stream",
          "name": "stderr",
          "text": [
            "/usr/local/lib/python3.9/dist-packages/numpy/core/fromnumeric.py:3474: RuntimeWarning: Mean of empty slice.\n",
            "  return _methods._mean(a, axis=axis, dtype=dtype,\n",
            "/usr/local/lib/python3.9/dist-packages/numpy/core/_methods.py:189: RuntimeWarning: invalid value encountered in double_scalars\n",
            "  ret = ret.dtype.type(ret / rcount)\n"
          ]
        },
        {
          "output_type": "execute_result",
          "data": {
            "text/plain": [
              "<Axes: >"
            ]
          },
          "metadata": {},
          "execution_count": 46
        },
        {
          "output_type": "display_data",
          "data": {
            "text/plain": [
              "<Figure size 432x288 with 1 Axes>"
            ],
            "image/png": "[encoded data removed]"
          },
          "metadata": {
            "needs_background": "light"
          }
        }
      ],
      "source": [
        "#Средняя длина слов в посте\n",
        "df['cleaned_post'].str.split().apply(lambda x : [len(i) for i in x]).map(lambda x: np.mean(x)).hist(range=(0,13), bins = 25)"
      ]
    },
    {
      "cell_type": "markdown",
      "source": [
        "Средняя длина слов в посте выросла до 6"
      ],
      "metadata": {
        "id": "ctomu0Sb-oOU"
      }
    },
    {
      "cell_type": "code",
      "execution_count": null,
      "metadata": {
        "colab": {
          "base_uri": "https://localhost:8080/",
          "height": 286
        },
        "id": "cC5RqeKn-91b",
        "outputId": "8c3c0210-0469-42ea-813a-8606fb8145e2"
      },
      "outputs": [
        {
          "output_type": "execute_result",
          "data": {
            "text/plain": [
              "<Axes: >"
            ]
          },
          "metadata": {},
          "execution_count": 47
        },
        {
          "output_type": "display_data",
          "data": {
            "text/plain": [
              "<Figure size 432x288 with 1 Axes>"
            ],
            "image/png": "[encoded data removed]"
          },
          "metadata": {
            "needs_background": "light"
          }
        }
      ],
      "source": [
        "#Средняя длина слов в комментарии\n",
        "df['cleaned_comment'].str.split().apply(lambda x : [len(i) for i in x]).map(lambda x: np.mean(x)).hist(range=(0,10), bins = 25)"
      ]
    },
    {
      "cell_type": "markdown",
      "source": [
        "Средняя длина слов в комментарии также выросла до 6"
      ],
      "metadata": {
        "id": "dI0NVXEEuwyv"
      }
    },
    {
      "cell_type": "markdown",
      "source": [
        "Из полученных графиков можно сделать вывод, что очистка успешно удалила часто встречающиеся короткие стопслова, не несущие в себе ценной информации."
      ],
      "metadata": {
        "id": "bOEN_N9Bu3xP"
      }
    },
    {
      "cell_type": "markdown",
      "source": [
        "Оценим тональность и субъективность текстов"
      ],
      "metadata": {
        "id": "11YXct-sU26I"
      }
    },
    {
      "cell_type": "code",
      "execution_count": null,
      "metadata": {
        "id": "7B8mZ3kCgyEn"
      },
      "outputs": [],
      "source": [
        "from textblob import TextBlob\n",
        "df[\"sentiment\"] = [TextBlob(comment).sentiment for comment in df[\"comment\"]]\n"
      ]
    },
    {
      "cell_type": "code",
      "execution_count": null,
      "metadata": {
        "id": "ypwZuhYoxASq"
      },
      "outputs": [],
      "source": [
        "df[\"post_sentiment\"] = [TextBlob(post).sentiment for post in df[\"post\"]]\n"
      ]
    },
    {
      "cell_type": "code",
      "execution_count": null,
      "metadata": {
        "colab": {
          "base_uri": "https://localhost:8080/"
        },
        "id": "cccZmjhaorxo",
        "outputId": "7984234e-381c-4d1c-dafb-a46cd82fff70"
      },
      "outputs": [
        {
          "output_type": "execute_result",
          "data": {
            "text/plain": [
              "Sentiment(polarity=0.0, subjectivity=0.0)"
            ]
          },
          "metadata": {},
          "execution_count": 50
        }
      ],
      "source": [
        "TextBlob('''In the eternal words of the Geico Caveman..\"What?\"''').sentiment"
      ]
    },
    {
      "cell_type": "code",
      "execution_count": null,
      "metadata": {
        "id": "TnVeiyrHjpRX"
      },
      "outputs": [],
      "source": [
        "df[\"subjectivity\"] = [sent[1] for sent in df[\"sentiment\"]]\n",
        "df[\"sentiment\"] = [sent[0] for sent in df[\"sentiment\"]]\n"
      ]
    },
    {
      "cell_type": "code",
      "execution_count": null,
      "metadata": {
        "colab": {
          "base_uri": "https://localhost:8080/",
          "height": 298
        },
        "id": "60VbDxOrkNSe",
        "outputId": "b8348da4-8a07-4cbe-bb65-0396eb7fcfdc"
      },
      "outputs": [
        {
          "output_type": "execute_result",
          "data": {
            "text/plain": [
              "<BarContainer object of 5 artists>"
            ]
          },
          "metadata": {},
          "execution_count": 52
        },
        {
          "output_type": "display_data",
          "data": {
            "text/plain": [
              "<Figure size 432x288 with 1 Axes>"
            ],
            "image/png": "[encoded data removed]"
          },
          "metadata": {
            "needs_background": "light"
          }
        }
      ],
      "source": [
        "#Средняя тональность по оценкам\n",
        "avgSentiment = {i:0 for i in range(5)}\n",
        "\n",
        "for score, sentiment in zip(df[\"score\"],df[\"sentiment\"]):\n",
        "  avgSentiment[score] += sentiment\n",
        "  \n",
        "\n",
        "for key,value in avgSentiment.items():\n",
        "  avgSentiment[key] = value/(len(df)/5)\n",
        "\n",
        "plt.title('Average sentiment by scores')\n",
        "plt.bar(avgSentiment.keys(), avgSentiment.values())\n"
      ]
    },
    {
      "cell_type": "markdown",
      "source": [
        "Как видно особой корреляции тональности и рейтинга комментария не проявляется, лучшие коментарии незначительно негативнее остальных"
      ],
      "metadata": {
        "id": "f63KcBlOVLVI"
      }
    },
    {
      "cell_type": "code",
      "execution_count": null,
      "metadata": {
        "colab": {
          "base_uri": "https://localhost:8080/",
          "height": 298
        },
        "id": "DpI57EJEtAqn",
        "outputId": "697dce0b-601a-48ea-e5e6-2b23f6f99992"
      },
      "outputs": [
        {
          "output_type": "execute_result",
          "data": {
            "text/plain": [
              "<BarContainer object of 5 artists>"
            ]
          },
          "metadata": {},
          "execution_count": 53
        },
        {
          "output_type": "display_data",
          "data": {
            "text/plain": [
              "<Figure size 432x288 with 1 Axes>"
            ],
            "image/png": "[encoded data removed]"
          },
          "metadata": {
            "needs_background": "light"
          }
        }
      ],
      "source": [
        "#Средняя субъективность по оценкам\n",
        "avgSubjectivity = {i:0 for i in range(5)}\n",
        "\n",
        "for score, subjectivity in zip(df[\"score\"],df[\"subjectivity\"]):\n",
        "  avgSubjectivity[score] += subjectivity\n",
        "  \n",
        "\n",
        "for key,value in avgSubjectivity.items():\n",
        "  avgSubjectivity[key] = value/(len(df)/5)\n",
        "\n",
        "plt.title('Average subjectivity by scores')\n",
        "plt.bar(avgSubjectivity.keys(), avgSubjectivity.values())"
      ]
    },
    {
      "cell_type": "markdown",
      "source": [
        "Анализируя данные, можно сделать вывод, что субъективность комментариев не оказывает сильного влияния на их рейтинг. Однако, если провести более детальный анализ, можно заметить небольшую тенденцию - комментарии с более высоким рейтингом чуть более субъективны. Возможно, это связано с тем, что более эмоциональные комментарии могут вызывать более яркие эмоциональные отклики у читателей и, как следствие, более высокие оценки."
      ],
      "metadata": {
        "id": "tNFwVfV9VjH4"
      }
    },
    {
      "cell_type": "code",
      "execution_count": null,
      "metadata": {
        "colab": {
          "base_uri": "https://localhost:8080/",
          "height": 299
        },
        "id": "QhDLwgklts94",
        "outputId": "b3995602-4e8e-4288-b8af-9965b4f46fce"
      },
      "outputs": [
        {
          "output_type": "execute_result",
          "data": {
            "text/plain": [
              "<BarContainer object of 5 artists>"
            ]
          },
          "metadata": {},
          "execution_count": 54
        },
        {
          "output_type": "display_data",
          "data": {
            "text/plain": [
              "<Figure size 432x288 with 1 Axes>"
            ],
            "image/png": "[encoded data removed]"
          },
          "metadata": {
            "needs_background": "light"
          }
        }
      ],
      "source": [
        "#Распределение комментариев по полярности\n",
        "def sentiment(x):\n",
        "    if x<-0.2:\n",
        "        return 'neg'\n",
        "    elif x < 0:\n",
        "        return 'slightly_neg'\n",
        "    elif x==0:\n",
        "        return 'neu'\n",
        "    elif x < 0.2:\n",
        "        return 'slightly_pos'\n",
        "    else:\n",
        "        return 'pos'\n",
        "\n",
        "df['polarity']=df['sentiment'].map(lambda x: sentiment(x))\n",
        "plt.title('Amount of comments by polarity')\n",
        "plt.bar(df.polarity.value_counts().index, df.polarity.value_counts())"
      ]
    },
    {
      "cell_type": "markdown",
      "source": [
        "Как видно, большая часть комментариев имеет положительную или немного положительную окраску. Из этого можно сделать вывод, что пользователи ресурса, данные которого представлены в датасете предпочитают выражать позитивные мысли чаще негативных и нейтральных. Основываясь на этих данных, можно сделать предположение о том, что при разработке новых инструментов выражения мыслей для пользователей стоит в первую очередь ориентироваться на средства выражения положительных эмоций."
      ],
      "metadata": {
        "id": "saRb-h8iWHNg"
      }
    },
    {
      "cell_type": "code",
      "execution_count": null,
      "metadata": {
        "colab": {
          "base_uri": "https://localhost:8080/",
          "height": 298
        },
        "id": "St3icAOaw4Vo",
        "outputId": "0c7b5b95-5b0a-43b7-8a43-29d9c6f44ae9"
      },
      "outputs": [
        {
          "output_type": "execute_result",
          "data": {
            "text/plain": [
              "<BarContainer object of 5 artists>"
            ]
          },
          "metadata": {},
          "execution_count": 55
        },
        {
          "output_type": "display_data",
          "data": {
            "text/plain": [
              "<Figure size 432x288 with 1 Axes>"
            ],
            "image/png": "[encoded data removed]"
          },
          "metadata": {
            "needs_background": "light"
          }
        }
      ],
      "source": [
        "#Среднее отклонение тональности комментария от тональноси поста по оценкам\n",
        "avgSentimentDifference = {i:0 for i in range(5)}\n",
        "\n",
        "for score, sentiment,post_sentiment in zip(df[\"score\"],df[\"sentiment\"],df[\"post_sentiment\"]):\n",
        "  avgSentimentDifference[score] += sentiment - post_sentiment[0]\n",
        "  \n",
        "\n",
        "for key,value in avgSentimentDifference.items():\n",
        "  avgSentimentDifference[key] = value/(len(df)/5)\n",
        "\n",
        "plt.title('Average sentiment difference between comment and post by scores')\n",
        "plt.bar(avgSentimentDifference.keys(), avgSentimentDifference.values())"
      ]
    },
    {
      "cell_type": "markdown",
      "source": [
        "График отклонения тональности комментария от поста показывает, что в среднем комментарии немного позитивнее поста, к которому они написаны. В остальном график соостветствует обычному графику тональности комментариев.\n"
      ],
      "metadata": {
        "id": "rfAc_D7HWxsY"
      }
    },
    {
      "cell_type": "markdown",
      "source": [
        "Посмотрим на понятность текста в комменатриях"
      ],
      "metadata": {
        "id": "d2BqToDGYb3o"
      }
    },
    {
      "cell_type": "code",
      "execution_count": null,
      "metadata": {
        "colab": {
          "base_uri": "https://localhost:8080/"
        },
        "id": "HTzDcNej4aii",
        "outputId": "adc875d6-b871-400a-8629-d522bcfa72d8"
      },
      "outputs": [
        {
          "output_type": "stream",
          "name": "stdout",
          "text": [
            "Looking in indexes: https://pypi.org/simple, https://us-python.pkg.dev/colab-wheels/public/simple/\n",
            "Collecting textstat\n",
            "  Downloading textstat-0.7.3-py3-none-any.whl (105 kB)\n",
            "\u001b[2K     \u001b[90m━━━━━━━━━━━━━━━━━━━━━━━━━━━━━━━━━━━━━━━\u001b[0m \u001b[32m105.1/105.1 KB\u001b[0m \u001b[31m9.3 MB/s\u001b[0m eta \u001b[36m0:00:00\u001b[0m\n",
            "\u001b[?25hCollecting pyphen\n",
            "  Downloading pyphen-0.14.0-py3-none-any.whl (2.0 MB)\n",
            "\u001b[2K     \u001b[90m━━━━━━━━━━━━━━━━━━━━━━━━━━━━━━━━━━━━━━━━\u001b[0m \u001b[32m2.0/2.0 MB\u001b[0m \u001b[31m46.8 MB/s\u001b[0m eta \u001b[36m0:00:00\u001b[0m\n",
            "\u001b[?25hInstalling collected packages: pyphen, textstat\n",
            "Successfully installed pyphen-0.14.0 textstat-0.7.3\n"
          ]
        }
      ],
      "source": [
        "#Установм специальные библиотеки\n",
        "!pip install textstat\n",
        "import textstat\n",
        "from textstat import flesch_reading_ease\n",
        "\n",
        "df[\"readability\"] = df['comment'].apply(lambda x : flesch_reading_ease(x))"
      ]
    },
    {
      "cell_type": "code",
      "execution_count": null,
      "metadata": {
        "colab": {
          "base_uri": "https://localhost:8080/",
          "height": 282
        },
        "id": "fYTe7iUe7ygT",
        "outputId": "185e9112-09f4-4ce6-ebd0-fa17897bce41"
      },
      "outputs": [
        {
          "output_type": "execute_result",
          "data": {
            "text/plain": [
              "<Axes: >"
            ]
          },
          "metadata": {},
          "execution_count": 57
        },
        {
          "output_type": "display_data",
          "data": {
            "text/plain": [
              "<Figure size 432x288 with 1 Axes>"
            ],
            "image/png": "[encoded data removed]"
          },
          "metadata": {
            "needs_background": "light"
          }
        }
      ],
      "source": [
        "#Количество комментариев по читаемости(понятности) (диапазон от -50 до 125)\n",
        "df[\"readability\"].hist(range=(-50,125), bins = 50)"
      ]
    },
    {
      "cell_type": "markdown",
      "source": [
        "Как видно, большая часть комментариев находится выше отметки 50, что означает, что они понятны болшинству англоговорящих людей. Уходящие в ноль и в минус значения соответствуют длинным скопированным сложным текстам и нечитаемому спаму."
      ],
      "metadata": {
        "id": "7uah2BFrYsb6"
      }
    },
    {
      "cell_type": "code",
      "execution_count": null,
      "metadata": {
        "colab": {
          "base_uri": "https://localhost:8080/",
          "height": 298
        },
        "id": "7r155cDg-OQH",
        "outputId": "8ea1fa5a-400c-4692-a9eb-549fd5a4f79e"
      },
      "outputs": [
        {
          "output_type": "execute_result",
          "data": {
            "text/plain": [
              "<BarContainer object of 5 artists>"
            ]
          },
          "metadata": {},
          "execution_count": 58
        },
        {
          "output_type": "display_data",
          "data": {
            "text/plain": [
              "<Figure size 432x288 with 1 Axes>"
            ],
            "image/png": "[encoded data removed]"
          },
          "metadata": {
            "needs_background": "light"
          }
        }
      ],
      "source": [
        "#Средняя читаемость комментариев по оценкам\n",
        "avgReadability = {i:0 for i in range(5)}\n",
        "\n",
        "for score,readability in zip(df[\"score\"],df[\"readability\"]):\n",
        "  avgReadability[score] += readability\n",
        "  \n",
        "\n",
        "for key,value in avgReadability.items():\n",
        "  avgReadability[key] = value/(len(df)/5)\n",
        "\n",
        "plt.title('Average readability by scores')\n",
        "plt.bar(avgReadability.keys(), avgReadability.values())"
      ]
    },
    {
      "cell_type": "markdown",
      "source": [
        "Анализируя данные графика, можно сделать вывод, что зависимость между уровнем сложности комментариев и их рейтингом не прослеживается явно. Тем не менее, можно заметить, что лучшие комментарии в среднем незначительно сложнее к прочтению, чем остальные. Вероятно, это связано с тем, что авторы лучших комментариев стараются выразить свои мысли более точно и грамотно, используя более сложные конструкции и лексику. "
      ],
      "metadata": {
        "id": "jfi5J5MLZkg5"
      }
    },
    {
      "cell_type": "markdown",
      "source": [
        "Сравним схожесть текстов поста и комментариев с помощью коэффициента Жаккара"
      ],
      "metadata": {
        "id": "tc9PcQcYzvor"
      }
    },
    {
      "cell_type": "code",
      "execution_count": null,
      "metadata": {
        "id": "-TjAnGQTQANm"
      },
      "outputs": [],
      "source": [
        "def jaccard_similarity(text1, text2):\n",
        "    set1 = set(text1)\n",
        "    set2 = set(text2)\n",
        "    intersection = set1.intersection(set2)\n",
        "    union = set1.union(set2)\n",
        "    \n",
        "    return (len(intersection) / len(union)) if len(union)!=0 else 0"
      ]
    },
    {
      "cell_type": "code",
      "execution_count": null,
      "metadata": {
        "colab": {
          "base_uri": "https://localhost:8080/"
        },
        "id": "Rk_rItt0Sge8",
        "outputId": "0987732a-d731-4419-89c2-036c6c9f6bc2"
      },
      "outputs": [
        {
          "output_type": "stream",
          "name": "stderr",
          "text": [
            "[nltk_data] Downloading package punkt to /root/nltk_data...\n",
            "[nltk_data]   Package punkt is already up-to-date!\n",
            "[nltk_data] Downloading package wordnet to /root/nltk_data...\n",
            "[nltk_data] Downloading package omw-1.4 to /root/nltk_data...\n"
          ]
        }
      ],
      "source": [
        "import nltk\n",
        "from nltk.stem import WordNetLemmatizer \n",
        "nltk.download('punkt')\n",
        "nltk.download('wordnet')\n",
        "nltk.download('omw-1.4')\n",
        "\n",
        "lem=WordNetLemmatizer()\n",
        "df[\"lemmatized_comment\"] = [\"None\"]*len(df)\n",
        "for i,comment in enumerate(df[\"cleaned_comment\"]):\n",
        "  df[\"lemmatized_comment\"][i] = [lem.lemmatize(word) for word in comment.split()]"
      ]
    },
    {
      "cell_type": "code",
      "execution_count": null,
      "metadata": {
        "id": "pfp7CRHSd8Jw"
      },
      "outputs": [],
      "source": [
        "df[\"lemmatized_post\"] = [\"None\"]*len(df)\n",
        "for i,post in enumerate(df[\"cleaned_post\"]):\n",
        "  df[\"lemmatized_post\"][i] = [lem.lemmatize(word) for word in post.split()]"
      ]
    },
    {
      "cell_type": "code",
      "execution_count": null,
      "metadata": {
        "id": "cQ5Av1hfUjN0"
      },
      "outputs": [],
      "source": [
        "df[\"similarity\"] = [jaccard_similarity(comment,post) for comment, post in zip(df[\"lemmatized_comment\"],df[\"lemmatized_post\"])]"
      ]
    },
    {
      "cell_type": "code",
      "execution_count": null,
      "metadata": {
        "id": "eYTlunDPkZbe",
        "outputId": "14771fc9-3a03-4763-fa78-3f8dbc8d3431",
        "colab": {
          "base_uri": "https://localhost:8080/",
          "height": 298
        }
      },
      "outputs": [
        {
          "output_type": "execute_result",
          "data": {
            "text/plain": [
              "<BarContainer object of 5 artists>"
            ]
          },
          "metadata": {},
          "execution_count": 64
        },
        {
          "output_type": "display_data",
          "data": {
            "text/plain": [
              "<Figure size 432x288 with 1 Axes>"
            ],
            "image/png": "[encoded data removed]"
          },
          "metadata": {
            "needs_background": "light"
          }
        }
      ],
      "source": [
        "#Средняя схожесть комментариев с постом по оценкам\n",
        "avgSimilarity = {i:0 for i in range(5)}\n",
        "\n",
        "for score,similarity in zip(df[\"score\"],df[\"similarity\"]):\n",
        "  avgSimilarity[score] += similarity\n",
        "  \n",
        "\n",
        "for key,value in avgSimilarity.items():\n",
        "  avgSimilarity[key] = value/(len(df)/5)\n",
        "\n",
        "plt.title('Average readability by scores')\n",
        "plt.bar(avgSimilarity.keys(), avgSimilarity.values())"
      ]
    },
    {
      "cell_type": "markdown",
      "source": [
        "По графику видно, что коэффициент Жаккара схожести комментария с текстом поста уменьшается с увеличением рейтинга комментария. Также это логично вытекает из ранее сделанного вывода, о том, что более популярные комментарии имеют большую дину чем обычные. Однако, разница схожести не такая значительная, как разница длин комментариев, что позволяет предположить, что пересечение множеств слов текста и лучшего комментария больше, чем аналогичная величина для остальных комментариев. Для подтверждения или опровержения гипотезы требуется дальнейшее исследование."
      ],
      "metadata": {
        "id": "-jiWkr7Lc-l-"
      }
    },
    {
      "cell_type": "markdown",
      "source": [
        "Теперь проверим зависимость грамотности текста комментария от его популярности"
      ],
      "metadata": {
        "id": "Zw0W2XmEAy5P"
      }
    },
    {
      "cell_type": "code",
      "source": [
        "#Простая библиотека для проверки правописания\n",
        "!pip install pyspellchecker\n",
        "from spellchecker import SpellChecker\n",
        "\n",
        "spell = SpellChecker()\n",
        "\n",
        "# find those words that may be misspelled\n",
        "def mistakes(text):\n",
        "  return len(spell.unknown(text))\n",
        "\n"
      ],
      "metadata": {
        "colab": {
          "base_uri": "https://localhost:8080/"
        },
        "id": "4dkkL7xorR9o",
        "outputId": "2202bf9a-e38c-4b26-989e-5b0c9c496d62"
      },
      "execution_count": 9,
      "outputs": [
        {
          "output_type": "stream",
          "name": "stdout",
          "text": [
            "Looking in indexes: https://pypi.org/simple, https://us-python.pkg.dev/colab-wheels/public/simple/\n",
            "Requirement already satisfied: pyspellchecker in /usr/local/lib/python3.9/dist-packages (0.7.1)\n"
          ]
        },
        {
          "output_type": "execute_result",
          "data": {
            "text/plain": [
              "0"
            ]
          },
          "metadata": {},
          "execution_count": 9
        }
      ]
    },
    {
      "cell_type": "code",
      "source": [
        "df[\"mistakes\"] = [mistakes(comment.split()) for comment in df[\"cleaned_comment\"]]\n",
        "df"
      ],
      "metadata": {
        "id": "60E8GrVm1okY",
        "colab": {
          "base_uri": "https://localhost:8080/",
          "height": 589
        },
        "outputId": "cc02ccef-e8de-498b-97a4-7df61fd8868d"
      },
      "execution_count": 14,
      "outputs": [
        {
          "output_type": "execute_result",
          "data": {
            "text/plain": [
              "                                                     post  \\\n",
              "0       How many summer Y Combinator fundees decided n...   \n",
              "1       How many summer Y Combinator fundees decided n...   \n",
              "2       How many summer Y Combinator fundees decided n...   \n",
              "3       How many summer Y Combinator fundees decided n...   \n",
              "4       How many summer Y Combinator fundees decided n...   \n",
              "...                                                   ...   \n",
              "440530  Pay your rent with a Credit or Debit card. No ...   \n",
              "440531  Pay your rent with a Credit or Debit card. No ...   \n",
              "440532  Pay your rent with a Credit or Debit card. No ...   \n",
              "440533  Pay your rent with a Credit or Debit card. No ...   \n",
              "440534  Pay your rent with a Credit or Debit card. No ...   \n",
              "\n",
              "                                                  comment  score  \\\n",
              "0       Going back to school is not identical with giv...      0   \n",
              "1       There will invariably be those who don't see t...      1   \n",
              "2       For me school is a way to be connected to what...      2   \n",
              "3       I guess it really depends on how hungry you ar...      3   \n",
              "4       I know pollground decided to go back to school...      4   \n",
              "...                                                   ...    ...   \n",
              "440530  Most major banks offer a service called &#x27;...      0   \n",
              "440531  It costs 3.25%, or $74.25 for the example of $...      1   \n",
              "440532  As many other comments have pointed out almost...      2   \n",
              "440533  My apartment building uses Yapstone&#x27;s Ren...      3   \n",
              "440534                         Video seems in poor taste.      4   \n",
              "\n",
              "                                             cleaned_post  \\\n",
              "0       many summer combinator fundees decided continu...   \n",
              "1       many summer combinator fundees decided continu...   \n",
              "2       many summer combinator fundees decided continu...   \n",
              "3       many summer combinator fundees decided continu...   \n",
              "4       many summer combinator fundees decided continu...   \n",
              "...                                                   ...   \n",
              "440530  pay rent credit debit card landlord signup req...   \n",
              "440531  pay rent credit debit card landlord signup req...   \n",
              "440532  pay rent credit debit card landlord signup req...   \n",
              "440533  pay rent credit debit card landlord signup req...   \n",
              "440534  pay rent credit debit card landlord signup req...   \n",
              "\n",
              "                                          cleaned_comment  mistakes  \n",
              "0       going back school identical giving founders go...         0  \n",
              "1       invariably see success set fall back original ...         0  \n",
              "2       school way connected going real world entered ...         0  \n",
              "3       guess really depends hungry much believe produ...         1  \n",
              "4       know pollground decided go back school getting...         2  \n",
              "...                                                   ...       ...  \n",
              "440530  major banks offer service called bill pay free...         2  \n",
              "440531  costs example looking rack quot reward points ...         1  \n",
              "440532  many comments pointed almost everyone debit ca...         1  \n",
              "440533  apartment building uses yapstone charges flat ...         2  \n",
              "440534                             video seems poor taste         0  \n",
              "\n",
              "[440535 rows x 6 columns]"
            ],
            "text/html": [
              "\n",
              "  <div id=\"df-b29e14e7-e82f-4c70-95bf-0209247807a7\">\n",
              "    <div class=\"colab-df-container\">\n",
              "      <div>\n",
              "<style scoped>\n",
              "    .dataframe tbody tr th:only-of-type {\n",
              "        vertical-align: middle;\n",
              "    }\n",
              "\n",
              "    .dataframe tbody tr th {\n",
              "        vertical-align: top;\n",
              "    }\n",
              "\n",
              "    .dataframe thead th {\n",
              "        text-align: right;\n",
              "    }\n",
              "</style>\n",
              "<table border=\"1\" class=\"dataframe\">\n",
              "  <thead>\n",
              "    <tr style=\"text-align: right;\">\n",
              "      <th></th>\n",
              "      <th>post</th>\n",
              "      <th>comment</th>\n",
              "      <th>score</th>\n",
              "      <th>cleaned_post</th>\n",
              "      <th>cleaned_comment</th>\n",
              "      <th>mistakes</th>\n",
              "    </tr>\n",
              "  </thead>\n",
              "  <tbody>\n",
              "    <tr>\n",
              "      <th>0</th>\n",
              "      <td>How many summer Y Combinator fundees decided n...</td>\n",
              "      <td>Going back to school is not identical with giv...</td>\n",
              "      <td>0</td>\n",
              "      <td>many summer combinator fundees decided continu...</td>\n",
              "      <td>going back school identical giving founders go...</td>\n",
              "      <td>0</td>\n",
              "    </tr>\n",
              "    <tr>\n",
              "      <th>1</th>\n",
              "      <td>How many summer Y Combinator fundees decided n...</td>\n",
              "      <td>There will invariably be those who don't see t...</td>\n",
              "      <td>1</td>\n",
              "      <td>many summer combinator fundees decided continu...</td>\n",
              "      <td>invariably see success set fall back original ...</td>\n",
              "      <td>0</td>\n",
              "    </tr>\n",
              "    <tr>\n",
              "      <th>2</th>\n",
              "      <td>How many summer Y Combinator fundees decided n...</td>\n",
              "      <td>For me school is a way to be connected to what...</td>\n",
              "      <td>2</td>\n",
              "      <td>many summer combinator fundees decided continu...</td>\n",
              "      <td>school way connected going real world entered ...</td>\n",
              "      <td>0</td>\n",
              "    </tr>\n",
              "    <tr>\n",
              "      <th>3</th>\n",
              "      <td>How many summer Y Combinator fundees decided n...</td>\n",
              "      <td>I guess it really depends on how hungry you ar...</td>\n",
              "      <td>3</td>\n",
              "      <td>many summer combinator fundees decided continu...</td>\n",
              "      <td>guess really depends hungry much believe produ...</td>\n",
              "      <td>1</td>\n",
              "    </tr>\n",
              "    <tr>\n",
              "      <th>4</th>\n",
              "      <td>How many summer Y Combinator fundees decided n...</td>\n",
              "      <td>I know pollground decided to go back to school...</td>\n",
              "      <td>4</td>\n",
              "      <td>many summer combinator fundees decided continu...</td>\n",
              "      <td>know pollground decided go back school getting...</td>\n",
              "      <td>2</td>\n",
              "    </tr>\n",
              "    <tr>\n",
              "      <th>...</th>\n",
              "      <td>...</td>\n",
              "      <td>...</td>\n",
              "      <td>...</td>\n",
              "      <td>...</td>\n",
              "      <td>...</td>\n",
              "      <td>...</td>\n",
              "    </tr>\n",
              "    <tr>\n",
              "      <th>440530</th>\n",
              "      <td>Pay your rent with a Credit or Debit card. No ...</td>\n",
              "      <td>Most major banks offer a service called &amp;#x27;...</td>\n",
              "      <td>0</td>\n",
              "      <td>pay rent credit debit card landlord signup req...</td>\n",
              "      <td>major banks offer service called bill pay free...</td>\n",
              "      <td>2</td>\n",
              "    </tr>\n",
              "    <tr>\n",
              "      <th>440531</th>\n",
              "      <td>Pay your rent with a Credit or Debit card. No ...</td>\n",
              "      <td>It costs 3.25%, or $74.25 for the example of $...</td>\n",
              "      <td>1</td>\n",
              "      <td>pay rent credit debit card landlord signup req...</td>\n",
              "      <td>costs example looking rack quot reward points ...</td>\n",
              "      <td>1</td>\n",
              "    </tr>\n",
              "    <tr>\n",
              "      <th>440532</th>\n",
              "      <td>Pay your rent with a Credit or Debit card. No ...</td>\n",
              "      <td>As many other comments have pointed out almost...</td>\n",
              "      <td>2</td>\n",
              "      <td>pay rent credit debit card landlord signup req...</td>\n",
              "      <td>many comments pointed almost everyone debit ca...</td>\n",
              "      <td>1</td>\n",
              "    </tr>\n",
              "    <tr>\n",
              "      <th>440533</th>\n",
              "      <td>Pay your rent with a Credit or Debit card. No ...</td>\n",
              "      <td>My apartment building uses Yapstone&amp;#x27;s Ren...</td>\n",
              "      <td>3</td>\n",
              "      <td>pay rent credit debit card landlord signup req...</td>\n",
              "      <td>apartment building uses yapstone charges flat ...</td>\n",
              "      <td>2</td>\n",
              "    </tr>\n",
              "    <tr>\n",
              "      <th>440534</th>\n",
              "      <td>Pay your rent with a Credit or Debit card. No ...</td>\n",
              "      <td>Video seems in poor taste.</td>\n",
              "      <td>4</td>\n",
              "      <td>pay rent credit debit card landlord signup req...</td>\n",
              "      <td>video seems poor taste</td>\n",
              "      <td>0</td>\n",
              "    </tr>\n",
              "  </tbody>\n",
              "</table>\n",
              "<p>440535 rows × 6 columns</p>\n",
              "</div>\n",
              "      <button class=\"colab-df-convert\" onclick=\"convertToInteractive('df-b29e14e7-e82f-4c70-95bf-0209247807a7')\"\n",
              "              title=\"Convert this dataframe to an interactive table.\"\n",
              "              style=\"display:none;\">\n",
              "        \n",
              "  <svg xmlns=\"http://www.w3.org/2000/svg\" height=\"24px\"viewBox=\"0 0 24 24\"\n",
              "       width=\"24px\">\n",
              "    <path d=\"M0 0h24v24H0V0z\" fill=\"none\"/>\n",
              "    <path d=\"M18.56 5.44l.94 2.06.94-2.06 2.06-.94-2.06-.94-.94-2.06-.94 2.06-2.06.94zm-11 1L8.5 8.5l.94-2.06 2.06-.94-2.06-.94L8.5 2.5l-.94 2.06-2.06.94zm10 10l.94 2.06.94-2.06 2.06-.94-2.06-.94-.94-2.06-.94 2.06-2.06.94z\"/><path d=\"M17.41 7.96l-1.37-1.37c-.4-.4-.92-.59-1.43-.59-.52 0-1.04.2-1.43.59L10.3 9.45l-7.72 7.72c-.78.78-.78 2.05 0 2.83L4 21.41c.39.39.9.59 1.41.59.51 0 1.02-.2 1.41-.59l7.78-7.78 2.81-2.81c.8-.78.8-2.07 0-2.86zM5.41 20L4 18.59l7.72-7.72 1.47 1.35L5.41 20z\"/>\n",
              "  </svg>\n",
              "      </button>\n",
              "      \n",
              "  <style>\n",
              "    .colab-df-container {\n",
              "      display:flex;\n",
              "      flex-wrap:wrap;\n",
              "      gap: 12px;\n",
              "    }\n",
              "\n",
              "    .colab-df-convert {\n",
              "      background-color: #E8F0FE;\n",
              "      border: none;\n",
              "      border-radius: 50%;\n",
              "      cursor: pointer;\n",
              "      display: none;\n",
              "      fill: #1967D2;\n",
              "      height: 32px;\n",
              "      padding: 0 0 0 0;\n",
              "      width: 32px;\n",
              "    }\n",
              "\n",
              "    .colab-df-convert:hover {\n",
              "      background-color: #E2EBFA;\n",
              "      box-shadow: 0px 1px 2px rgba(60, 64, 67, 0.3), 0px 1px 3px 1px rgba(60, 64, 67, 0.15);\n",
              "      fill: #174EA6;\n",
              "    }\n",
              "\n",
              "    [theme=dark] .colab-df-convert {\n",
              "      background-color: #3B4455;\n",
              "      fill: #D2E3FC;\n",
              "    }\n",
              "\n",
              "    [theme=dark] .colab-df-convert:hover {\n",
              "      background-color: #434B5C;\n",
              "      box-shadow: 0px 1px 3px 1px rgba(0, 0, 0, 0.15);\n",
              "      filter: drop-shadow(0px 1px 2px rgba(0, 0, 0, 0.3));\n",
              "      fill: #FFFFFF;\n",
              "    }\n",
              "  </style>\n",
              "\n",
              "      <script>\n",
              "        const buttonEl =\n",
              "          document.querySelector('#df-b29e14e7-e82f-4c70-95bf-0209247807a7 button.colab-df-convert');\n",
              "        buttonEl.style.display =\n",
              "          google.colab.kernel.accessAllowed ? 'block' : 'none';\n",
              "\n",
              "        async function convertToInteractive(key) {\n",
              "          const element = document.querySelector('#df-b29e14e7-e82f-4c70-95bf-0209247807a7');\n",
              "          const dataTable =\n",
              "            await google.colab.kernel.invokeFunction('convertToInteractive',\n",
              "                                                     [key], {});\n",
              "          if (!dataTable) return;\n",
              "\n",
              "          const docLinkHtml = 'Like what you see? Visit the ' +\n",
              "            '<a target=\"_blank\" href=https://colab.research.google.com/notebooks/data_table.ipynb>data table notebook</a>'\n",
              "            + ' to learn more about interactive tables.';\n",
              "          element.innerHTML = '';\n",
              "          dataTable['output_type'] = 'display_data';\n",
              "          await google.colab.output.renderOutput(dataTable, element);\n",
              "          const docLink = document.createElement('div');\n",
              "          docLink.innerHTML = docLinkHtml;\n",
              "          element.appendChild(docLink);\n",
              "        }\n",
              "      </script>\n",
              "    </div>\n",
              "  </div>\n",
              "  "
            ]
          },
          "metadata": {},
          "execution_count": 14
        }
      ]
    },
    {
      "cell_type": "code",
      "execution_count": 15,
      "metadata": {
        "id": "wmh03heb5Dhu"
      },
      "outputs": [],
      "source": [
        "#Сохраним таблицу с найденными значениями\n",
        "df.to_csv(\"/content/drive/MyDrive/bigDataFrame.csv\")"
      ]
    },
    {
      "cell_type": "code",
      "source": [
        "#Средняя доля ошибок правописания в комментариях по оценкам\n",
        "avgMistakes = {i:0 for i in range(5)}\n",
        "\n",
        "for score,comment, mistakes in zip(df[\"score\"],df[\"cleaned_comment\"],df[\"mistakes\"]):\n",
        "  avgMistakes[score] += (mistakes/len(comment.split())  if len(comment.split())!=0 else 0)\n",
        "  \n",
        "\n",
        "for key,value in avgMistakes.items():\n",
        "  avgMistakes[key] = value/(len(df)/5)\n",
        "\n",
        "plt.title('Average mistakes/words ratio of a comment by scores')\n",
        "plt.bar(avgMistakes.keys(), avgMistakes.values())"
      ],
      "metadata": {
        "colab": {
          "base_uri": "https://localhost:8080/",
          "height": 298
        },
        "id": "LRzuQAIexON-",
        "outputId": "49885508-d917-4f7e-b51d-4f4246fcbc11"
      },
      "execution_count": 19,
      "outputs": [
        {
          "output_type": "execute_result",
          "data": {
            "text/plain": [
              "<BarContainer object of 5 artists>"
            ]
          },
          "metadata": {},
          "execution_count": 19
        },
        {
          "output_type": "display_data",
          "data": {
            "text/plain": [
              "<Figure size 432x288 with 1 Axes>"
            ],
            "image/png": "[encoded data removed]"
          },
          "metadata": {
            "needs_background": "light"
          }
        }
      ]
    },
    {
      "cell_type": "markdown",
      "source": [],
      "metadata": {
        "id": "1uyM4_EKR86y"
      }
    },
    {
      "cell_type": "markdown",
      "source": [
        "Как видно из графика, популярность комментария явно зависит от его грамотности. Из этого можно сделать вывод что грамотность текста повышает его привлекательность для пользователей (или в обратную сторону - неграмотность текста снижает его привлекаельность)."
      ],
      "metadata": {
        "id": "gKqvpcQVF1qx"
      }
    },
    {
      "cell_type": "markdown",
      "source": [
        "Проведённый анализ данных позволил сделать выводы, которые можно использовать для улучшения работы с комментариями в рамках ресурса, откуда была взята предоставленная выборка."
      ],
      "metadata": {
        "id": "TpusE4v9Q6R8"
      }
    }
  ],
  "metadata": {
    "accelerator": "GPU",
    "colab": {
      "provenance": []
    },
    "gpuClass": "standard",
    "kernelspec": {
      "display_name": "Python 3",
      "name": "python3"
    },
    "language_info": {
      "name": "python"
    }
  },
  "nbformat": 4,
  "nbformat_minor": 0
}